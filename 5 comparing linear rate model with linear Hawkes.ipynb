{
 "cells": [
  {
   "cell_type": "markdown",
   "id": "f8c7d546",
   "metadata": {},
   "source": [
    "# Comparing linear rate model with linear Hawkes, steady state rates at a fixed h, then for varying h"
   ]
  },
  {
   "cell_type": "code",
   "execution_count": null,
   "id": "9da3b5be",
   "metadata": {},
   "outputs": [],
   "source": [
    "# Installation\n",
    "using Revise\n",
    "using LinearAlgebra,Statistics,StatsBase,Distributions\n",
    "using Plots,NamedColors ; theme(:default)\n",
    "using FFTW\n",
    "using ProgressMeter\n",
    "using Random\n",
    "Random.seed!(0)\n",
    "using HawkesSimulator; const global H = HawkesSimulator"
   ]
  },
  {
   "cell_type": "code",
   "execution_count": null,
   "id": "bbaa22fa",
   "metadata": {},
   "outputs": [],
   "source": [
    "# Initializing variables\n",
    "# one E, one I population\n",
    "v_rest = 0\n",
    "alpha = 0.3\n",
    "n = 1\n",
    "tau = [20.0, 10.0]*1E-3   #time constant, [ E, I ]\n",
    "tau_noise = 50*1E-3\n",
    "w = [1.25 -0.65\n",
    "     1.2 -0.5]\n",
    "w_hawkes = w .* alpha\n",
    "time_step = 1*1E-3\n",
    "noise = [0.0 0.0] #ignoring"
   ]
  },
  {
   "cell_type": "code",
   "execution_count": null,
   "id": "0db007d4",
   "metadata": {},
   "outputs": [],
   "source": [
    "function rate_powerlaw(v::Float64)\n",
    "    diff = v - v_rest\n",
    "    diff = (diff < 0) ? 0 : diff\n",
    "    return alpha*(diff^n)\n",
    "end\n",
    "\n",
    "function plot_powerlaw()\n",
    "    count = 81\n",
    "    v_arr = zeros(count)\n",
    "    v_arr[1] = -80\n",
    "    for i in 2:count\n",
    "        v_arr[i] = v_arr[i-1] +1\n",
    "    end\n",
    "    rates = rate_powerlaw.(v_arr)\n",
    "    plot(v_arr, rates, xlabel=\"Voltage\", ylabel=\"Rate\")\n",
    "end\n",
    "\n",
    "# plot_powerlaw()"
   ]
  },
  {
   "cell_type": "code",
   "execution_count": null,
   "id": "6ef61305",
   "metadata": {},
   "outputs": [],
   "source": [
    "function onedmat(x::Real)\n",
    "  return cat(x;dims=2)\n",
    "end"
   ]
  },
  {
   "cell_type": "code",
   "execution_count": null,
   "id": "bd748026",
   "metadata": {},
   "outputs": [],
   "source": [
    "# Euler Method\n",
    "function dv_ssn(v::Float64, h_i::Float64, noise_i::Float64, tau_i::Float64, w_arr::Vector{Float64}, rate_arr::Vector{Float64})\n",
    "    num_neurons = size(w_arr, 1)\n",
    "    dv = v_rest - v + h_i + noise_i\n",
    "    for i in 1:num_neurons\n",
    "        dv += w_arr[i]*rate_arr[i]\n",
    "    end\n",
    "    return dv*time_step/tau_i\n",
    "end"
   ]
  },
  {
   "cell_type": "code",
   "execution_count": null,
   "id": "313a1e96",
   "metadata": {},
   "outputs": [],
   "source": [
    "function simulate_ssn!(h, num_steps, t_arr, v_excite, v_inhibit, rate)\n",
    "    \n",
    "    v_excite[1] = v_rest\n",
    "    v_inhibit[1] = v_rest\n",
    "    rate[1,:] = [rate_powerlaw(v_excite[1]), rate_powerlaw(v_inhibit[1])]\n",
    "    noise1 = zeros(2)\n",
    "    for i in 2:num_steps\n",
    "        t_arr[i] = t_arr[i-1] + time_step\n",
    "        v_excite[i] = v_excite[i-1] + dv_ssn(v_excite[i-1], h, noise1[1], tau[1], [w[1,1], w[1,2]], rate[i-1,:])\n",
    "        v_inhibit[i] = v_inhibit[i-1] + dv_ssn(v_inhibit[i-1], h, noise1[2], tau[2], [w[2,1], w[2,2]], rate[i-1,:])\n",
    "        rate[i,:] = [rate_powerlaw(v_excite[i]), rate_powerlaw(v_inhibit[i])]\n",
    "    end\n",
    "    \n",
    "end"
   ]
  },
  {
   "cell_type": "code",
   "execution_count": null,
   "id": "44c979ab",
   "metadata": {},
   "outputs": [],
   "source": [
    "function single_h_linear_rate_simulation()\n",
    "    h = 4.0\n",
    "    t_max = 1\n",
    "    num_steps = Int(ceil(t_max/time_step))\n",
    "    t_arr = zeros(num_steps)\n",
    "    v_excite = zeros(num_steps)\n",
    "    v_inhibit = zeros(num_steps)\n",
    "    rate = zeros(num_steps, 2)\n",
    "    simulate_ssn!(h, num_steps, t_arr, v_excite, v_inhibit, rate)\n",
    "    return t_arr, v_excite, v_inhibit, rate\n",
    "end"
   ]
  },
  {
   "cell_type": "code",
   "execution_count": null,
   "id": "5f89b329",
   "metadata": {},
   "outputs": [],
   "source": [
    "t_arr, v_excite, v_inhibit, rate_linear = single_h_linear_rate_simulation()\n",
    "println(size(t_arr))"
   ]
  },
  {
   "cell_type": "code",
   "execution_count": null,
   "id": "2257a10a",
   "metadata": {
    "scrolled": false
   },
   "outputs": [],
   "source": [
    "plt = plot(xlabel=\"time (s)\", ylabel=\"V (mV)\", title = \"Linear Rate Model\", fmt = :png, legend=:bottomright)\n",
    "plot!(plt, t_arr , v_excite, label = \"V_Excite\", color=\"blue\")\n",
    "plot!(plt, t_arr , v_inhibit, label = \"V_Inhibit\", color=\"red\")"
   ]
  },
  {
   "cell_type": "markdown",
   "id": "b71e5349",
   "metadata": {},
   "source": [
    "Comparing with linear hawkes"
   ]
  },
  {
   "cell_type": "code",
   "execution_count": null,
   "id": "801c817b",
   "metadata": {},
   "outputs": [],
   "source": [
    "function simulate_hawkes!(networks, num_spikes)\n",
    "    t_now = 0.0\n",
    "    H.reset!.(networks) # clear spike trains etc\n",
    "    for k in 1:num_spikes\n",
    "        t_now = H.dynamics_step!(t_now, networks)\n",
    "        if k%1_000 == 0\n",
    "            H.clear_trains!(networks[1].postpops)\n",
    "            H.clear_trains!(networks[2].postpops)\n",
    "        end # clearing trains after every 1000 spikes\n",
    "    end\n",
    "    return t_now\n",
    "end"
   ]
  },
  {
   "cell_type": "code",
   "execution_count": null,
   "id": "9ba3ac24",
   "metadata": {},
   "outputs": [],
   "source": [
    "function single_h_linear_hawkes_simulation()\n",
    "    h = 4.0\n",
    "    n_spikes = 500_000\n",
    "    baseline_rate_e = [alpha*h]\n",
    "    baseline_rate_i = [alpha*h]\n",
    "    tau_E = 20.0\n",
    "    tau_I = 10.0\n",
    "    pop_E = H.PopulationExp(tau_E, H.NLIdentity())\n",
    "    pop_I = H.PopulationExp(tau_I, H.NLIdentity())\n",
    "    popstate_E = H.PopulationState(pop_E,baseline_rate_e)\n",
    "    popstate_I = H.PopulationState(pop_I, baseline_rate_i)\n",
    "    network_E = H.InputNetwork(popstate_E,[popstate_E, popstate_I],[onedmat(w_hawkes[1,1]),onedmat(w_hawkes[1,2])])\n",
    "    network_I = H.InputNetwork(popstate_I,[popstate_E, popstate_I],[onedmat(w_hawkes[2,1]),onedmat(w_hawkes[2,2])])\n",
    "    simulate_hawkes!([network_E, network_I],n_spikes)\n",
    "    rate = [H.numerical_rate(popstate_E.trains_history[1][2000:end]), H.numerical_rate(popstate_I.trains_history[1][2000:end])]\n",
    "    return rate\n",
    "end"
   ]
  },
  {
   "cell_type": "code",
   "execution_count": null,
   "id": "854a662a",
   "metadata": {},
   "outputs": [],
   "source": [
    "rate_hawkes = single_h_linear_hawkes_simulation()\n",
    "println(rate_linear[size(rate_linear,1),:])\n",
    "println(rate_hawkes)"
   ]
  },
  {
   "cell_type": "code",
   "execution_count": null,
   "id": "b8dea17a",
   "metadata": {},
   "outputs": [],
   "source": [
    "# plot for Rate vs time\n",
    "length = size(t_arr,1)\n",
    "plt = plot(xlabel=\"time (s)\", ylabel=\"Rate (Hz)\", fmt = :png, legend=:bottomright)\n",
    "plot!(plt, t_arr[1:length] , rate_linear[1:length,1], label = \"R_Linear_Excite\", color=\"blue\")\n",
    "plot!(plt, t_arr[1:length] , rate_linear[1:length,2], label = \"R_Linear_Inhibit\",color=\"red\")\n",
    "r_excite_hawkes = zeros(length)\n",
    "r_inhibit_hawkes = zeros(length)\n",
    "for i in 1:length\n",
    "    r_excite_hawkes[i] = rate_hawkes[1]\n",
    "    r_inhibit_hawkes[i] = rate_hawkes[2]\n",
    "end\n",
    "plot!(plt, t_arr[1:length], r_excite_hawkes, label = \"R_Hawkes_Excite\",linestyle=:dash,linewidth=2, color=\"dark blue\")\n",
    "plot!(plt, t_arr[1:length], r_inhibit_hawkes, label = \"R_Hawkes_Inhibit\",linestyle=:dash,linewidth=2, color=\"dark red\")"
   ]
  },
  {
   "cell_type": "code",
   "execution_count": null,
   "id": "8b185c81",
   "metadata": {},
   "outputs": [],
   "source": [
    "using NamedColors\n",
    "col_exc = colorant\"dark blue\"\n",
    "col_exc2 = colorant\"blue\"\n",
    "col_inh = colorant\"dark red\"\n",
    "col_inh2 = colorant\"red\""
   ]
  },
  {
   "cell_type": "markdown",
   "id": "0d6fb76c",
   "metadata": {},
   "source": [
    "Comparing rates at multiple h values"
   ]
  },
  {
   "cell_type": "code",
   "execution_count": null,
   "id": "076e60b0",
   "metadata": {},
   "outputs": [],
   "source": [
    "function run_ssn_multiple_h!(num_h, h_arr, rates_ssn)\n",
    "    t_max = 1\n",
    "    num_steps = Int(ceil(t_max/time_step))\n",
    "    t_arr = zeros(num_steps)\n",
    "    v_excite = zeros(num_steps)\n",
    "    v_inhibit = zeros(num_steps)\n",
    "    rate = zeros(num_steps, 2)\n",
    "    @showprogress 1.0 \"Running SSN multiple h...\" for i in 1:num_h\n",
    "        simulate_ssn!(h_arr[i], num_steps, t_arr, v_excite, v_inhibit, rate)\n",
    "        rates_ssn[i,:] = rate[num_steps,:]\n",
    "    end\n",
    "end"
   ]
  },
  {
   "cell_type": "code",
   "execution_count": null,
   "id": "0dc45dde",
   "metadata": {},
   "outputs": [],
   "source": [
    "function run_hawkes_multiple_h!(num_h, h_arr, rates_hawkes, pop_E, pop_I)\n",
    "    n_spikes = 500_000\n",
    "    @showprogress 1.0 \"Running Hawkes multiple h...\" for i in 1:num_h\n",
    "        baseline_rate_e = [alpha*(h_arr[i])]\n",
    "        baseline_rate_i = [alpha*(h_arr[i])]\n",
    "        popstate_E = H.PopulationState(pop_E,baseline_rate_e)\n",
    "        popstate_I = H.PopulationState(pop_I, baseline_rate_i)\n",
    "        network_E = H.InputNetwork(popstate_E,[popstate_E, popstate_I],[onedmat(w_hawkes[1,1]),onedmat(w_hawkes[1,2])])\n",
    "        network_I = H.InputNetwork(popstate_I,[popstate_E, popstate_I],[onedmat(w_hawkes[2,1]),onedmat(w_hawkes[2,2])])\n",
    "        simulate_hawkes!([network_E, network_I],n_spikes)\n",
    "        rates_hawkes[i,:] = [H.numerical_rate(popstate_E.trains_history[1][2000:end]), H.numerical_rate(popstate_I.trains_history[1][2000:end])]\n",
    "    end\n",
    "end"
   ]
  },
  {
   "cell_type": "code",
   "execution_count": null,
   "id": "c3a86178",
   "metadata": {},
   "outputs": [],
   "source": [
    "h_max = 15.0\n",
    "h_min = 1.0\n",
    "step = 1\n",
    "num_h = Int(ceil((h_max-h_min+1)/step))\n",
    "h_arr = zeros(num_h)\n",
    "h_arr[1] = h_min\n",
    "rates_linear = zeros(num_h,2)\n",
    "rates_hawkes_linear = zeros(num_h,2)\n",
    "\n",
    "function compare()\n",
    "    for i in 2:num_h\n",
    "        h_arr[i] = h_arr[i-1] + step\n",
    "    end\n",
    "    \n",
    "    tau_E = 20.0\n",
    "    tau_I = 10.0\n",
    "    pop_E = H.PopulationExp(tau_E, H.NLIdentity())\n",
    "    pop_I = H.PopulationExp(tau_I, H.NLIdentity())\n",
    "    run_hawkes_multiple_h!(num_h, h_arr, rates_hawkes_linear, pop_E, pop_I)\n",
    "    run_ssn_multiple_h!(num_h, h_arr, rates_linear)\n",
    "end"
   ]
  },
  {
   "cell_type": "code",
   "execution_count": null,
   "id": "7c3d87a1",
   "metadata": {},
   "outputs": [],
   "source": [
    "compare()"
   ]
  },
  {
   "cell_type": "code",
   "execution_count": null,
   "id": "7eaf0926",
   "metadata": {},
   "outputs": [],
   "source": [
    "plt = plot(xlabel=\"h (mV)\", ylabel=\"Excitatory Rate (Hz)\", title=\"Linear Rate Model vs Linear Hawkes\", fmt = :png, legend=:bottomright)\n",
    "plot!(plt, h_arr , rates_linear[:,1], label = \"linear\"; color=col_exc2)\n",
    "plot!(plt, h_arr , rates_hawkes_linear[:,1], label = \"hawkes\"; color=col_exc)"
   ]
  },
  {
   "cell_type": "code",
   "execution_count": null,
   "id": "53065a04",
   "metadata": {},
   "outputs": [],
   "source": [
    "plt = plot(xlabel=\"h (mV)\", ylabel=\"Inhibitory Rate (Hz)\", title=\"Linear Rate Model vs Linear Hawkes\", fmt = :png, legend=:bottomright)\n",
    "plot!(plt, h_arr , rates_linear[:,2], label = \"linear\"; color=col_inh2)\n",
    "plot!(plt, h_arr , rates_hawkes_linear[:,2], label = \"hawkes\"; color=col_inh)"
   ]
  },
  {
   "cell_type": "code",
   "execution_count": null,
   "id": "3c9764cf",
   "metadata": {},
   "outputs": [],
   "source": [
    "y_e = zeros(num_h)\n",
    "y_i = zeros(num_h)\n",
    "for i in 2:num_h\n",
    "    y_e[i] = 2*abs(rates_hawkes_linear[i,1] - rates_linear[i,1])/(rates_hawkes_linear[i,1] + rates_linear[i,1])\n",
    "    y_i[i] = 2*abs(rates_hawkes_linear[i,2] - rates_linear[i,2])/(rates_hawkes_linear[i,2] + rates_linear[i,2])\n",
    "end\n",
    "plt = plot(xlabel = \"h\", ylabel=\"relative error\", fmt = :png, legend=:bottomright)\n",
    "plot!(plt, h_arr, y_e, label=\"rateE\", color=\"blue\")\n",
    "plot!(plt, h_arr, y_i, label=\"rateI\", color=\"red\")"
   ]
  },
  {
   "cell_type": "code",
   "execution_count": null,
   "id": "c7f7e00f",
   "metadata": {},
   "outputs": [],
   "source": [
    "y_e = zeros(num_h)\n",
    "y_i = zeros(num_h)\n",
    "for i in 2:num_h\n",
    "    y_e[i] = abs(rates_hawkes_linear[i,1] - rates_linear[i,1])\n",
    "    y_i[i] = abs(rates_hawkes_linear[i,2] - rates_linear[i,2])\n",
    "end\n",
    "plt = plot(xlabel = \"h\", ylabel=\"absolute error\", fmt = :png, legend=:bottomright)\n",
    "plot!(plt, h_arr, y_e, label=\"rateE\", color=\"blue\")\n",
    "plot!(plt, h_arr, y_i, label=\"rateI\", color=\"red\")"
   ]
  },
  {
   "cell_type": "code",
   "execution_count": null,
   "id": "ef0e802b",
   "metadata": {},
   "outputs": [],
   "source": []
  }
 ],
 "metadata": {
  "kernelspec": {
   "display_name": "Julia 1.6.2",
   "language": "julia",
   "name": "julia-1.6"
  },
  "language_info": {
   "file_extension": ".jl",
   "mimetype": "application/julia",
   "name": "julia",
   "version": "1.6.2"
  }
 },
 "nbformat": 4,
 "nbformat_minor": 5
}
