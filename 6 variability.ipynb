{
 "cells": [
  {
   "cell_type": "code",
   "execution_count": null,
   "id": "9da3b5be",
   "metadata": {},
   "outputs": [],
   "source": [
    "# Installation\n",
    "using Revise\n",
    "using LinearAlgebra,Statistics,StatsBase,Distributions\n",
    "using Plots,NamedColors ; theme(:default)\n",
    "using FFTW\n",
    "using ProgressMeter\n",
    "using Random\n",
    "Random.seed!(0)\n",
    "using HawkesSimulator; const global H = HawkesSimulator\n",
    "using NamedColors"
   ]
  },
  {
   "cell_type": "markdown",
   "id": "86a66b71",
   "metadata": {},
   "source": [
    "Step 1. Comparing Linear Hawkes mean and covariance, with and without weights"
   ]
  },
  {
   "cell_type": "code",
   "execution_count": null,
   "id": "bbaa22fa",
   "metadata": {},
   "outputs": [],
   "source": [
    "# Initializing variables\n",
    "# one E, one I population\n",
    "v_rest = -70\n",
    "alpha = 1\n",
    "n = 1\n",
    "tau = [20.0, 10.0]*1E-3   #time constant, [ E, I ]\n",
    "w_zero = [0.0 0.0\n",
    "        0.0 0.0]\n",
    "w = [1.25 -0.65\n",
    "     1.2 -0.5]\n",
    "w_hawkes = w .* (alpha*(1/n))\n",
    "w_hawkes_zero = [0.0 0.0\n",
    "                0.0 0.0]\n",
    "time_step = 0.1*1E-3\n",
    "tau_noise = 50*1E-3"
   ]
  },
  {
   "cell_type": "code",
   "execution_count": null,
   "id": "6ef61305",
   "metadata": {},
   "outputs": [],
   "source": [
    "function onedmat(x::Real)\n",
    "  return cat(x;dims=2)\n",
    "end"
   ]
  },
  {
   "cell_type": "code",
   "execution_count": null,
   "id": "0db007d4",
   "metadata": {},
   "outputs": [],
   "source": [
    "function rate_powerlaw(v::Float64)\n",
    "    diff = v - v_rest\n",
    "    diff = (diff < 0) ? 0 : diff\n",
    "    return alpha*(diff^n)\n",
    "end\n",
    "\n",
    "function plot_powerlaw()\n",
    "    count = 81\n",
    "    v_arr = zeros(count)\n",
    "    v_arr[1] = -90\n",
    "    for i in 2:count\n",
    "        v_arr[i] = v_arr[i-1] +1\n",
    "    end\n",
    "    rates = rate_powerlaw.(v_arr)\n",
    "    plot(v_arr, rates, xlabel=\"Voltage (mV)\", ylabel=\"Rate (Hz)\", color=\"black\", legend=false, fmt=:png)\n",
    "end\n",
    "\n",
    "plot_powerlaw()"
   ]
  },
  {
   "cell_type": "code",
   "execution_count": null,
   "id": "4c4869c5",
   "metadata": {},
   "outputs": [],
   "source": [
    "function plot_count(points)\n",
    "    y = collect(1:length(points))\n",
    "    plt = plot(xlabel=\"time (s)\", ylabel=\"count\")\n",
    "    plot!(plt, points, y, label = \"N(t)\")\n",
    "end\n",
    "\n",
    "function plot_count(points_E, points_I)\n",
    "    y = collect(1:length(points_E))\n",
    "    plt = plot(xlabel=\"time (s)\", ylabel=\"count\")\n",
    "    plot!(plt, points_E, y, label = \"N_E(t)\")\n",
    "    y = collect(1:length(points_I))\n",
    "    plot!(plt, points_I, y, label = \"N_I(t)\")\n",
    "end\n",
    "\n",
    "function plot_count(points_E, points_I, remean, rimean, count)\n",
    "    y = collect(1:count)\n",
    "    y1 = zeros(count)\n",
    "    y2 = zeros(count)\n",
    "    for i in 1:count\n",
    "        y1[i] = remean*points_E[i]\n",
    "        y2[i] = rimean*points_I[i]\n",
    "    end\n",
    "    plt = plot(xlabel=\"time (s)\", ylabel=\"Spike Count\", legend=:bottomright, fmt=:png)\n",
    "    plot!(plt, points_E[1:count], y, label = \"N_E(t)\", color=\"blue\")\n",
    "    plot!(plt, points_I[1:count], y, label = \"N_I(t)\", color=\"red\")\n",
    "    plot!(plt, points_E[1:count],y1, label=\"E[N_E(t)]\", color=\"dark blue\")\n",
    "    plot!(plt, points_I[1:count],y2, label=\"E[N_I(t)]\", color=\"dark red\")\n",
    "end"
   ]
  },
  {
   "cell_type": "code",
   "execution_count": null,
   "id": "801c817b",
   "metadata": {},
   "outputs": [],
   "source": [
    "function simulate_hawkes!(networks, num_spikes)\n",
    "    t_now = 0.0\n",
    "    H.reset!.(networks) # clear spike trains etc\n",
    "    for k in 1:num_spikes\n",
    "        t_now = H.dynamics_step!(t_now, networks)\n",
    "        if k%1_000 == 0\n",
    "            H.clear_trains!(networks[1].postpops)\n",
    "            H.clear_trains!(networks[2].postpops)\n",
    "        end # clearing trains after every 1000 spikes\n",
    "    end\n",
    "    return t_now\n",
    "end"
   ]
  },
  {
   "cell_type": "code",
   "execution_count": null,
   "id": "0dc45dde",
   "metadata": {},
   "outputs": [],
   "source": [
    "function run_hawkes_multiple_h!(num_h, h_arr, w_hawkes, rates_hawkes, pop_E, pop_I, covE_h, covI_h, covEI_h)\n",
    "    n_spikes = 500_000\n",
    "    @showprogress 1.0 \"Running Hawkes multiple h...\" for i in 1:num_h\n",
    "        baseline_rate_e = [alpha*(h_arr[i])]\n",
    "        baseline_rate_i = [alpha*(h_arr[i])]\n",
    "        popstate_E = H.PopulationState(pop_E,baseline_rate_e)\n",
    "        popstate_I = H.PopulationState(pop_I, baseline_rate_i)\n",
    "        network_E = H.InputNetwork(popstate_E,[popstate_E, popstate_I],[onedmat(w_hawkes[1,1]),onedmat(w_hawkes[1,2])])\n",
    "        network_I = H.InputNetwork(popstate_I,[popstate_E, popstate_I],[onedmat(w_hawkes[2,1]),onedmat(w_hawkes[2,2])])\n",
    "        simulate_hawkes!([network_E, network_I],n_spikes)\n",
    "        rates_hawkes[i,:] = [H.numerical_rate(popstate_E.trains_history[1][2000:end]), H.numerical_rate(popstate_I.trains_history[1][2000:end])]\n",
    "        spikesE = H.bin_spikes(popstate_E.trains_history[1], 1.0, max(popstate_E.trains_history[1][end], popstate_I.trains_history[1][end]))\n",
    "        spikesI = H.bin_spikes(popstate_I.trains_history[1], 1.0, max(popstate_E.trains_history[1][end], popstate_I.trains_history[1][end]))\n",
    "        binrate_hawkes = zeros(2, Int(floor(sizeof(spikesE)/sizeof(spikesE[1]))))\n",
    "        binrate_hawkes[1,:] = spikesE ./ 1\n",
    "        binrate_hawkes[2,:] = spikesI ./ 1\n",
    "        covariance = cov(binrate_hawkes; dims=2)\n",
    "        covE_h[i] = covariance[1,1]\n",
    "        covI_h[i] = covariance[2,2]\n",
    "        covEI_h[i] = covariance[1,2]\n",
    "    end\n",
    "end"
   ]
  },
  {
   "cell_type": "code",
   "execution_count": null,
   "id": "029193de",
   "metadata": {},
   "outputs": [],
   "source": [
    "h_max = 20.0\n",
    "h_min = 1.0\n",
    "step = 1\n",
    "num_h = Int(ceil((h_max-h_min+1)/step))\n",
    "h_arr = zeros(num_h)\n",
    "h_arr[1] = h_min\n",
    "rates_hawkes = zeros(num_h,2)\n",
    "covE_h = zeros(num_h)\n",
    "covI_h = zeros(num_h)\n",
    "covEI_h = zeros(num_h)\n",
    "rates_hawkes_now =zeros(num_h,2)\n",
    "covE_h_now = zeros(num_h)\n",
    "covI_h_now = zeros(num_h)\n",
    "covEI_h_now = zeros(num_h)\n",
    "\n",
    "function compare_hawkes()\n",
    "    for i in 2:num_h\n",
    "        h_arr[i] = h_arr[i-1] + step\n",
    "    end\n",
    "    \n",
    "    tau_E = 10.0\n",
    "    tau_I = 5.0\n",
    "    pop_E = H.PopulationExp(tau_E, H.NLIdentity())\n",
    "    pop_I = H.PopulationExp(tau_I, H.NLIdentity())\n",
    "    run_hawkes_multiple_h!(num_h, h_arr, w_hawkes, rates_hawkes, pop_E, pop_I, covE_h, covI_h, covEI_h)\n",
    "    run_hawkes_multiple_h!(num_h, h_arr, w_hawkes_zero, rates_hawkes_now, pop_E, pop_I, covE_h_now, covI_h_now, covEI_h_now)\n",
    "    \n",
    "end"
   ]
  },
  {
   "cell_type": "code",
   "execution_count": null,
   "id": "1e9b24a2",
   "metadata": {},
   "outputs": [],
   "source": [
    "compare_hawkes()"
   ]
  },
  {
   "cell_type": "code",
   "execution_count": null,
   "id": "6da6e5a7",
   "metadata": {},
   "outputs": [],
   "source": [
    "plt1 = plot(xlabel=\"Linear Hawkes mean E (Hz)\", ylabel=\"covariance EE\", fmt = :png, legend=:bottomright)\n",
    "plot!(plt1, rates_hawkes[:,1] , covE_h[:], label = \"weights\", color=\"blue\")\n",
    "plot!(plt1, rates_hawkes_now[:,1] , covE_h_now[:], label = \"no weights\", color=\"purple\")\n",
    "plot!(plt1, rates_hawkes[:,1] , rates_hawkes[:,1], label = \"y = x\", color=\"black\", linestyle=:dot)\n",
    "\n",
    "plt2 = plot(xlabel=\"Linear Hawkes mean I (Hz)\", ylabel=\"covariance II\", fmt = :png, legend=:bottomright)\n",
    "plot!(plt2, rates_hawkes[:,2] , covI_h[:], label = \"weights\", color=\"red\")\n",
    "plot!(plt2, rates_hawkes_now[:,2] , covI_h_now[:], label = \"no weights\", color=\"purple\")\n",
    "plot!(plt2, rates_hawkes[:,2] , rates_hawkes[:,2], label = \"y = x\", color=\"black\", linestyle=:dot)\n",
    "\n",
    "plt3 = plot(xlabel=\"Linear Hawkes h (mV)\", ylabel=\"covariance EI\", fmt = :png, legend=:topleft)\n",
    "plot!(plt3, h_arr, covEI_h[:], label = \"weights\", color=\"green\")\n",
    "plot!(plt3, h_arr, covEI_h_now[:], label = \"no weights\", color=\"purple\")\n",
    "\n",
    "plot!(plt1, plt2, plt3)"
   ]
  },
  {
   "cell_type": "code",
   "execution_count": null,
   "id": "39e0f1d7",
   "metadata": {},
   "outputs": [],
   "source": [
    "plt4 = plot(xlabel=\"Linear Hawkes h (mV) weights\", ylabel=\"E neuron\", fmt = :png, legend=:bottomright)\n",
    "plot!(plt4, h_arr, [rates_hawkes[:,1] covE_h[:]], label = [\"mean E (Hz)\" \"covariance EE\"], color=[\"blue\" \"purple\"])\n",
    "\n",
    "plt5 = plot(xlabel=\"Linear Hawkes h (mV) weights\", ylabel=\"I neuron\", fmt = :png, legend=:bottomright)\n",
    "plot!(plt5, h_arr, [rates_hawkes[:,2] covI_h[:]], label = [\"mean I (Hz)\" \"covariance II\"], color=[\"red\" \"purple\"])\n",
    "\n",
    "plt6 = plot(xlabel=\"Linear Hawkes h (mV) no weights\", ylabel=\"E neuron\", fmt = :png, legend=:bottomright)\n",
    "plot!(plt6, h_arr, [rates_hawkes_now[:,1] covE_h_now[:]], label = [\"mean E (Hz)\" \"covariance EE\"], color=[\"blue\" \"purple\"])\n",
    "\n",
    "plt7 = plot(xlabel=\"Linear Hawkes h (mV) no weights\", ylabel=\"I neuron\", fmt = :png, legend=:bottomright)\n",
    "plot!(plt7, h_arr, [rates_hawkes_now[:,2] covI_h_now[:]], label = [\"mean I (Hz)\" \"covariance II\"], color=[\"red\" \"purple\"])\n",
    "\n",
    "\n",
    "plot!(plt6, plt7, plt4, plt5)"
   ]
  },
  {
   "cell_type": "markdown",
   "id": "5f719d4e",
   "metadata": {},
   "source": [
    "Result : Hawkes with no weights is a Poisson process, since mean = variance\n",
    "\n",
    "on adding weights, mean and variance increase. variance > mean"
   ]
  },
  {
   "cell_type": "markdown",
   "id": "421c4d74",
   "metadata": {},
   "source": [
    "Step 2. Comparing linear Hawkes mean & covariance & Analytic mean and covariance of the linear rate model, without weights"
   ]
  },
  {
   "cell_type": "code",
   "execution_count": null,
   "id": "9ba3ac24",
   "metadata": {},
   "outputs": [],
   "source": [
    "function single_h_linear_hawkes_simulation(h::Real, w_hawkes::Matrix{Float64})\n",
    "    n_spikes = 500_000\n",
    "    baseline_rate_e = [(alpha^(1/n))*h]\n",
    "    baseline_rate_i = [(alpha^(1/n))*h]\n",
    "    tau_E = 10.0\n",
    "    tau_I = 5.0\n",
    "    pop_E = H.PopulationExp(tau_E, H.NLIdentity())\n",
    "    pop_I = H.PopulationExp(tau_I, H.NLIdentity())\n",
    "    popstate_E = H.PopulationState(pop_E,baseline_rate_e)\n",
    "    popstate_I = H.PopulationState(pop_I, baseline_rate_i)\n",
    "    network_E = H.InputNetwork(popstate_E,[popstate_E, popstate_I],[onedmat(w_hawkes[1,1]),onedmat(w_hawkes[1,2])])\n",
    "    network_I = H.InputNetwork(popstate_I,[popstate_E, popstate_I],[onedmat(w_hawkes[2,1]),onedmat(w_hawkes[2,2])])\n",
    "    simulate_hawkes!([network_E, network_I],n_spikes)\n",
    "    rate = [H.numerical_rate(popstate_E.trains_history[1][10000:end]), H.numerical_rate(popstate_I.trains_history[1][10000:end])]\n",
    "    spikesE = H.bin_spikes(popstate_E.trains_history[1], 1.0, max(popstate_E.trains_history[1][end], popstate_I.trains_history[1][end]))\n",
    "    spikesI = H.bin_spikes(popstate_I.trains_history[1], 1.0, max(popstate_E.trains_history[1][end], popstate_I.trains_history[1][end]))\n",
    "    binrate_hawkes = zeros(2, Int(floor(sizeof(spikesE)/sizeof(spikesE[1]))))\n",
    "    binrate_hawkes[1,:] = spikesE ./ 1\n",
    "    binrate_hawkes[2,:] = spikesI ./ 1\n",
    "    covariance = cov(binrate_hawkes; dims=2)\n",
    "    return rate, covariance, popstate_E.trains_history[1], popstate_I.trains_history[1], network_E, network_I\n",
    "end"
   ]
  },
  {
   "cell_type": "code",
   "execution_count": null,
   "id": "5fc995eb",
   "metadata": {},
   "outputs": [],
   "source": [
    "# dx/dt = Ax + h + noise\n",
    "# E[x] = -h * A^-1\n",
    "# Cov = lyap(A, Cov(noise))\n",
    "\n",
    "function run_analytic_linear_single_h(time_step::Real, h::Vector{Float64}, alpha::Real, W::Matrix{Float64}, cov_noise::Matrix{Float64})\n",
    "    \n",
    "#     cov_noise == cov_wiener\n",
    "    cov_noise[1,:] = cov_noise[1,:] .* (alpha/tau[1])\n",
    "    cov_noise[2,:] = cov_noise[2,:] .* (alpha/tau[2])\n",
    "    h[1] = h[1]/tau[1]\n",
    "    h[2] = h[2]/tau[2]\n",
    "\n",
    "    A = [(alpha*W[1,1]-1)/tau[1] alpha*W[1,2]/tau[1]\n",
    "        alpha*W[2,1]/tau[2] (alpha*W[2,2]-1)/tau[2]]\n",
    "    rate = -A\\h\n",
    "    covariance = lyap(A, cov_noise)\n",
    "    return rate,covariance\n",
    "end"
   ]
  },
  {
   "cell_type": "code",
   "execution_count": null,
   "id": "a5c1f919",
   "metadata": {},
   "outputs": [],
   "source": [
    "h = 5.0\n",
    "baseline_rate = [alpha*h\n",
    "                alpha*h]\n",
    "cov_noise = [2*alpha*h 0.0\n",
    "            0.0 2*alpha*h]\n",
    "rate_linear,covariance_linear = run_analytic_linear_single_h(time_step, baseline_rate, alpha, w_zero, cov_noise)\n",
    "println(rate_linear)\n",
    "println(covariance_linear)"
   ]
  },
  {
   "cell_type": "code",
   "execution_count": null,
   "id": "bd2f93d3",
   "metadata": {},
   "outputs": [],
   "source": [
    "rate_hawkes, covariance_hawkes, train_hawkes_E, train_hawkes_I, network_E, network_I = single_h_linear_hawkes_simulation(h, w_hawkes_zero)\n",
    "println(rate_hawkes)\n",
    "println(covariance_hawkes)"
   ]
  },
  {
   "cell_type": "code",
   "execution_count": null,
   "id": "22ffa900",
   "metadata": {},
   "outputs": [],
   "source": [
    "function run_analytic_linear_multiple_h!(num_h, h_arr, w, rates_linear, covE_l, covI_l, covEI_l)\n",
    "    @showprogress 1.0 \"Running Analytic linear multiple h...\" for i in 1:num_h\n",
    "        cov_noise = [2*alpha*h_arr[i] 0.0\n",
    "                    0.0 2*alpha*h_arr[i]]\n",
    "        baseline_rate = [alpha*h_arr[i]; alpha*h_arr[i]]\n",
    "        \n",
    "        rates_linear[i,:], covariance = run_analytic_linear_single_h(time_step, baseline_rate, alpha, w, cov_noise)\n",
    "        covE_l[i] = covariance[1,1]\n",
    "        covI_l[i] = covariance[2,2]\n",
    "        covEI_l[i] = covariance[1,2]\n",
    "    end\n",
    "end"
   ]
  },
  {
   "cell_type": "code",
   "execution_count": null,
   "id": "ebbb7a59",
   "metadata": {},
   "outputs": [],
   "source": [
    "h_max = 20.0\n",
    "h_min = 1.0\n",
    "step = 1\n",
    "num_h = Int(ceil((h_max-h_min+1)/step))\n",
    "h_arr = zeros(num_h)\n",
    "h_arr[1] = h_min\n",
    "\n",
    "rates_linear_now = zeros(num_h,2)\n",
    "covE_l_now = zeros(num_h)\n",
    "covI_l_now = zeros(num_h)\n",
    "covEI_l_now = zeros(num_h)\n",
    "\n",
    "rates_hawkes_now = zeros(num_h,2)\n",
    "covE_h_now = zeros(num_h)\n",
    "covI_h_now = zeros(num_h)\n",
    "covEI_h_now = zeros(num_h)\n",
    "\n",
    "function compare_hawkes_and_linear_now()\n",
    "    for i in 2:num_h\n",
    "        h_arr[i] = h_arr[i-1] + step\n",
    "    end\n",
    "    \n",
    "    run_analytic_linear_multiple_h!(num_h, h_arr, w_zero, rates_linear_now, covE_l_now, covI_l_now, covEI_l_now)\n",
    "    \n",
    "    tau_E = 10.0\n",
    "    tau_I = 5.0\n",
    "    pop_E = H.PopulationExp(tau_E, H.NLIdentity())\n",
    "    pop_I = H.PopulationExp(tau_I, H.NLIdentity())\n",
    "    run_hawkes_multiple_h!(num_h, h_arr, w_hawkes_zero, rates_hawkes_now, pop_E, pop_I, covE_h_now, covI_h_now, covEI_h_now)\n",
    "    \n",
    "end"
   ]
  },
  {
   "cell_type": "code",
   "execution_count": null,
   "id": "22cc00ee",
   "metadata": {},
   "outputs": [],
   "source": [
    "compare_hawkes_and_linear_now()"
   ]
  },
  {
   "cell_type": "code",
   "execution_count": null,
   "id": "a8b7b023",
   "metadata": {},
   "outputs": [],
   "source": [
    "plt8 = plot(xlabel=\"mean E (Hz)\", ylabel=\"covariance EE\", fmt = :png, legend=:bottomright)\n",
    "plot!(plt8, rates_linear_now[:,1] , covE_l_now[:], label = \"rate model\", color=\"blue\")\n",
    "plot!(plt8, rates_hawkes_now[:,1] , covE_h_now[:], label = \"hawkes\", color=\"purple\")\n",
    "plot!(plt8, rates_linear_now[:,1] , rates_linear_now[:,1], label = \"y = x\", color=\"black\", linestyle=:dot)\n",
    "\n",
    "plt9 = plot(xlabel=\"mean I (Hz)\", ylabel=\"covariance II\", fmt = :png, legend=:bottomright)\n",
    "plot!(plt9, rates_linear_now[:,2] , covI_l_now[:], label = \"rate model\", color=\"blue\")\n",
    "plot!(plt9, rates_hawkes_now[:,2] , covI_h_now[:], label = \"hawkes\", color=\"purple\")\n",
    "plot!(plt9, rates_linear_now[:,2] , rates_linear_now[:,2], label = \"y = x\", color=\"black\", linestyle=:dot)\n",
    "\n",
    "plt10 = plot(xlabel=\"h (mV)\", ylabel=\"covariance EI\", fmt = :png, legend=:bottomleft)\n",
    "plot!(plt10, h_arr, covEI_l_now[:], label = \"rate model\", color=\"green\")\n",
    "plot!(plt10, h_arr, covEI_h_now[:], label = \"hawkes\", color=\"purple\")\n",
    "\n",
    "plot!(plt8, plt9, plt10)\n",
    "# Comparing linear Hawkes with analytic mean and covariance of linear rate model, NO WEIGHTS"
   ]
  },
  {
   "cell_type": "markdown",
   "id": "cf909a58",
   "metadata": {},
   "source": [
    "Comparison with weights"
   ]
  },
  {
   "cell_type": "code",
   "execution_count": null,
   "id": "5e40f42d",
   "metadata": {},
   "outputs": [],
   "source": [
    "# h_max = 20.0\n",
    "# h_min = 1.0\n",
    "# step = 1\n",
    "# num_h = Int(ceil((h_max-h_min+1)/step))\n",
    "# h_arr = zeros(num_h)\n",
    "# h_arr[1] = h_min\n",
    "rates_linear = zeros(num_h,2)\n",
    "covE_l = zeros(num_h)\n",
    "covI_l = zeros(num_h)\n",
    "covEI_l = zeros(num_h)\n",
    "\n",
    "# rates_hawkes = zeros(num_h,2)\n",
    "# covE_h = zeros(num_h)\n",
    "# covI_h = zeros(num_h)\n",
    "# covEI_h = zeros(num_h)\n",
    "\n",
    "function compare_hawkes_and_linear()\n",
    "#     for i in 2:num_h\n",
    "#         h_arr[i] = h_arr[i-1] + step\n",
    "#     end\n",
    "    \n",
    "    run_analytic_linear_multiple_h!(num_h, h_arr, w, rates_linear, covE_l, covI_l, covEI_l)\n",
    "    \n",
    "#     tau_E = 10.0\n",
    "#     tau_I = 5.0\n",
    "#     pop_E = H.PopulationExp(tau_E, H.NLIdentity())\n",
    "#     pop_I = H.PopulationExp(tau_I, H.NLIdentity())\n",
    "#     run_hawkes_multiple_h!(num_h, h_arr, w_hawkes, rates_hawkes, pop_E, pop_I, covE_h, covI_h, covEI_h)\n",
    "    \n",
    "end"
   ]
  },
  {
   "cell_type": "code",
   "execution_count": null,
   "id": "5f9e5d26",
   "metadata": {},
   "outputs": [],
   "source": [
    "compare_hawkes_and_linear()"
   ]
  },
  {
   "cell_type": "code",
   "execution_count": null,
   "id": "e58e8a3e",
   "metadata": {},
   "outputs": [],
   "source": [
    "plt = plot(xlabel=\"h (mV)\", ylabel=\"covariance EE\", fmt = :png, legend=:bottomright)\n",
    "plot!(plt, h_arr , covE_l[:], label = \"rate model\", color=\"blue\")\n",
    "plot!(plt, h_arr , covE_h[:], label = \"hawkes\", color=\"purple\")"
   ]
  },
  {
   "cell_type": "code",
   "execution_count": null,
   "id": "bb5ed703",
   "metadata": {},
   "outputs": [],
   "source": [
    "plt = plot(xlabel=\"h (mV)\", ylabel=\"covariance II\", fmt = :png, legend=:bottomright)\n",
    "plot!(plt, h_arr , covI_l[:], label = \"rate model\", color=\"blue\")\n",
    "plot!(plt, h_arr , covI_h[:], label = \"hawkes\", color=\"purple\")"
   ]
  },
  {
   "cell_type": "code",
   "execution_count": null,
   "id": "f18dd160",
   "metadata": {},
   "outputs": [],
   "source": [
    "plt = plot(xlabel=\"h (mV)\", ylabel=\"covariance II\", fmt = :png, legend=:bottomright)\n",
    "plot!(plt, h_arr , covI_l[:], label = \"rate model\", color=\"blue\")\n",
    "plot!(plt, h_arr , covI_h[:], label = \"hawkes\", color=\"purple\")"
   ]
  },
  {
   "cell_type": "code",
   "execution_count": null,
   "id": "0ea6f385",
   "metadata": {},
   "outputs": [],
   "source": [
    "plt = plot(xlabel=\"h (mV)\", ylabel=\"covariance EE\", fmt = :png, legend=:bottomright)\n",
    "plot!(plt, h_arr , covE_l[:], label = \"rate model\", color=\"blue\")\n",
    "plot!(plt, h_arr , covE_h[:], label = \"hawkes\", color=\"purple\")"
   ]
  },
  {
   "cell_type": "code",
   "execution_count": null,
   "id": "7d962184",
   "metadata": {},
   "outputs": [],
   "source": [
    "plt = plot(xlabel=\"h (mV)\", ylabel=\"covariance EI\", fmt = :png, legend=:topleft)\n",
    "plot!(plt, h_arr, covEI_l[:], label = \"rate model\", color=\"green\")\n",
    "plot!(plt, h_arr, covEI_h[:], label = \"hawkes\", color=\"purple\")"
   ]
  },
  {
   "cell_type": "code",
   "execution_count": null,
   "id": "8086e9d9",
   "metadata": {},
   "outputs": [],
   "source": [
    "plt = plot(xlabel=\"mean E (Hz)\", ylabel=\"covariance EE\", fmt = :png, legend=:bottomright)\n",
    "plot!(plt, rates_linear[:,1] , covE_l[:], label = \"rate model\", color=\"blue\")\n",
    "plot!(plt, rates_hawkes[:,1] , covE_h[:], label = \"hawkes\", color=\"purple\")\n",
    "plot!(plt, rates_linear[:,1] , rates_linear[:,1], label = \"y = x\", color=\"black\", linestyle=:dot)"
   ]
  },
  {
   "cell_type": "code",
   "execution_count": null,
   "id": "e7e008d0",
   "metadata": {},
   "outputs": [],
   "source": [
    "plt = plot(xlabel=\"mean I (Hz)\", ylabel=\"covariance II\", fmt = :png, legend=:bottomright)\n",
    "plot!(plt, rates_linear[:,2] , covI_l[:], label = \"rate model\", color=\"blue\")\n",
    "plot!(plt, rates_hawkes[:,2] , covI_h[:], label = \"hawkes\", color=\"purple\")\n",
    "plot!(plt, rates_linear[:,2] , rates_linear[:,2], label = \"y = x\", color=\"black\", linestyle=:dot)"
   ]
  },
  {
   "cell_type": "code",
   "execution_count": null,
   "id": "19c6b3c4",
   "metadata": {},
   "outputs": [],
   "source": [
    "plt = plot(xlabel=\"mean E (Hz)\", ylabel=\"covariance EE\", fmt = :png, legend=:bottomright)\n",
    "plot!(plt, rates_linear[:,1] , covE_l[:], label = \"rate model\", color=\"blue\")\n",
    "plot!(plt, rates_hawkes[:,1] , covE_h[:], label = \"hawkes\", color=\"purple\")\n",
    "plot!(plt, rates_linear[:,1] , rates_linear[:,1], label = \"y = x\", color=\"black\", linestyle=:dot)\n",
    "# without the 2 factor"
   ]
  },
  {
   "cell_type": "code",
   "execution_count": null,
   "id": "edd9d958",
   "metadata": {},
   "outputs": [],
   "source": [
    "plt = plot(xlabel=\"mean I (Hz)\", ylabel=\"covariance II\", fmt = :png, legend=:bottomright)\n",
    "plot!(plt, rates_linear[:,2] , covI_l[:], label = \"rate model\", color=\"blue\")\n",
    "plot!(plt, rates_hawkes[:,2] , covI_h[:], label = \"hawkes\", color=\"purple\")\n",
    "plot!(plt, rates_linear[:,2] , rates_linear[:,2], label = \"y = x\", color=\"black\", linestyle=:dot)"
   ]
  },
  {
   "cell_type": "markdown",
   "id": "725c690f",
   "metadata": {},
   "source": [
    "To compare with data from an actual simulation :"
   ]
  },
  {
   "cell_type": "code",
   "execution_count": null,
   "id": "b13c1888",
   "metadata": {},
   "outputs": [],
   "source": [
    "function spiking(probability)\n",
    "    return rand(Float64) < probability\n",
    "end"
   ]
  },
  {
   "cell_type": "code",
   "execution_count": null,
   "id": "402b3350",
   "metadata": {},
   "outputs": [],
   "source": [
    "function dnoise!(noise::Vector{Float64}, wiener::Vector{Float64}, cov_noise::Matrix{Float64})\n",
    "    wiener = wiener + sqrt(time_step)*[rand(Normal(0,0.5)),rand(Normal(0,0.5))]\n",
    "    dn = - noise .* time_step + sqrt(2*tau_noise*cov_noise)*wiener\n",
    "    return dn ./ tau_noise\n",
    "end"
   ]
  },
  {
   "cell_type": "code",
   "execution_count": null,
   "id": "bd748026",
   "metadata": {},
   "outputs": [],
   "source": [
    "# Euler Method\n",
    "function dv_ssn(v::Float64, h_i::Float64, noise_i::Float64, tau_i::Float64, w_arr::Vector{Float64}, rate_arr::Vector{Float64})\n",
    "    num_neurons = size(w_arr, 1)\n",
    "    dv = v_rest - v + h_i + noise_i\n",
    "    for i in 1:num_neurons\n",
    "        dv += w_arr[i]*rate_arr[i]\n",
    "    end\n",
    "    return dv*time_step/tau_i\n",
    "end"
   ]
  },
  {
   "cell_type": "code",
   "execution_count": null,
   "id": "313a1e96",
   "metadata": {},
   "outputs": [],
   "source": [
    "function simulate_ssn!(h, num_steps, t_arr, v_excite, v_inhibit, rate, spike_trainE, spike_trainI, cov_noise)\n",
    "    \n",
    "    v_excite[1] = v_rest\n",
    "    v_inhibit[1] = v_rest\n",
    "    rate[1,:] = [rate_powerlaw(v_excite[1]), rate_powerlaw(v_inhibit[1])]\n",
    "    noise = zeros(2)\n",
    "    wiener = zeros(2)\n",
    "    @showprogress 1.0 \"Running SSN...\" for i in 2:num_steps\n",
    "        t_arr[i] = t_arr[i-1] + time_step\n",
    "        noise[:] = noise[:] .+ dnoise!(noise, wiener, cov_noise)\n",
    "        v_excite[i] = v_excite[i-1] + dv_ssn(v_excite[i-1], h, noise[1], tau[1], [w[1,1], w[1,2]], rate[i-1,:])\n",
    "        v_inhibit[i] = v_inhibit[i-1] + dv_ssn(v_inhibit[i-1], h, noise[2], tau[2], [w[2,1], w[2,2]], rate[i-1,:])\n",
    "        rate[i,:] = [rate_powerlaw(v_excite[i]), rate_powerlaw(v_inhibit[i])]\n",
    "        \n",
    "        spike_probability = rate[i,:] .* (time_step)\n",
    "        if spiking(spike_probability[1])\n",
    "            push!(spike_trainE, t_arr[i])\n",
    "        end\n",
    "        if spiking(spike_probability[2])\n",
    "            push!(spike_trainI, t_arr[i])\n",
    "        end\n",
    "    end\n",
    "    \n",
    "end"
   ]
  },
  {
   "cell_type": "markdown",
   "id": "e52bf48b",
   "metadata": {},
   "source": [
    "Linear rate model vs Linear Hawkes for a single input current value ( sanity check )"
   ]
  },
  {
   "cell_type": "code",
   "execution_count": null,
   "id": "44c979ab",
   "metadata": {},
   "outputs": [],
   "source": [
    "function single_h_linear_rate_simulation()\n",
    "    h = 5.0\n",
    "    t_max = 10000\n",
    "    num_steps = Int(ceil(t_max/time_step))\n",
    "    t_arr = zeros(num_steps)\n",
    "    v_excite = zeros(num_steps)\n",
    "    v_inhibit = zeros(num_steps)\n",
    "    spike_trainE = Vector{Float64}()\n",
    "    spike_trainI = Vector{Float64}()\n",
    "    rate = zeros(num_steps, 2)\n",
    "    cov_noise = [alpha*h 0.0\n",
    "                0.0 alpha*h]\n",
    "#     cov_noise = [0.0 0.0\n",
    "#                 0.0 0.0]\n",
    "    simulate_ssn!(h, num_steps, t_arr, v_excite, v_inhibit, rate, spike_trainE, spike_trainI, cov_noise)\n",
    "    return t_arr, v_excite, v_inhibit, rate, spike_trainE, spike_trainI\n",
    "end"
   ]
  },
  {
   "cell_type": "code",
   "execution_count": null,
   "id": "06c8b869",
   "metadata": {},
   "outputs": [],
   "source": [
    "t_arr, v_excite, v_inhibit, rate_linear, spike_trainE, spike_trainI = single_h_linear_rate_simulation()\n",
    "println([size(spike_trainE), size(spike_trainI)])"
   ]
  },
  {
   "cell_type": "code",
   "execution_count": null,
   "id": "ee7021df",
   "metadata": {},
   "outputs": [],
   "source": [
    "println([mean(v_excite), mean(v_inhibit)])\n",
    "println([mean(rate_linear[:,1]), mean(rate_linear[:,2])])\n",
    "# no noise"
   ]
  },
  {
   "cell_type": "code",
   "execution_count": null,
   "id": "33c47af9",
   "metadata": {},
   "outputs": [],
   "source": [
    "println([mean(v_excite), mean(v_inhibit)])\n",
    "println([mean(rate_linear[:,1]), mean(rate_linear[:,2])])"
   ]
  },
  {
   "cell_type": "code",
   "execution_count": null,
   "id": "f5f32f25",
   "metadata": {},
   "outputs": [],
   "source": [
    "println([mean(v_excite), mean(v_inhibit)])\n",
    "println([mean(rate_linear[:,1]), mean(rate_linear[:,2])])"
   ]
  },
  {
   "cell_type": "code",
   "execution_count": null,
   "id": "854a662a",
   "metadata": {
    "scrolled": true
   },
   "outputs": [],
   "source": [
    "rate_hawkes,train_hawkes_E, train_hawkes_I, network_E, network_I = single_h_linear_hawkes_simulation()\n",
    "print([size(train_hawkes_E), size(train_hawkes_I)])"
   ]
  },
  {
   "cell_type": "code",
   "execution_count": null,
   "id": "8fa46ff8",
   "metadata": {},
   "outputs": [],
   "source": [
    "length = size(t_arr,1)"
   ]
  },
  {
   "cell_type": "code",
   "execution_count": null,
   "id": "2db14637",
   "metadata": {},
   "outputs": [],
   "source": [
    "length = size(t_arr,1)\n",
    "length = 5000\n",
    "plt = plot(xlabel=\"time (s)\", ylabel=\"Voltage (mV)\", fmt = :png, legend=:bottomright)\n",
    "plot!(plt, t_arr[1:length] , v_excite[1:length], label = \"V_Excite\", color=\"blue\")\n",
    "plot!(plt, t_arr[1:length] , v_inhibit[1:length], label = \"V_Inhibit\", color=\"red\")"
   ]
  },
  {
   "cell_type": "code",
   "execution_count": null,
   "id": "f4830137",
   "metadata": {},
   "outputs": [],
   "source": [
    "length = size(t_arr,1)\n",
    "length = 10000\n",
    "plt = plot(xlabel=\"time (s)\", ylabel=\"E Rate (Hz)\", fmt = :png, legend=:bottomright)\n",
    "plot!(plt, t_arr[1:length] , rate_linear[1:length,1], label = \"R_Linear\", color=\"blue\")\n",
    "r_excite_hawkes = zeros(length)\n",
    "r_inhibit_hawkes = zeros(length)\n",
    "for i in 1:length\n",
    "    r_excite_hawkes[i] = rate_hawkes[1]\n",
    "    r_inhibit_hawkes[i] = rate_hawkes[2]\n",
    "end\n",
    "plot!(plt, t_arr[1:length], r_excite_hawkes, label = \"R_Hawkes\",linestyle=:dash,linewidth=2, color=\"dark blue\")"
   ]
  },
  {
   "cell_type": "code",
   "execution_count": null,
   "id": "ed5aa69f",
   "metadata": {
    "scrolled": false
   },
   "outputs": [],
   "source": [
    "length = size(t_arr,1)\n",
    "length = 10000\n",
    "plt = plot(xlabel=\"time (s)\", ylabel=\"I Rate (Hz)\", fmt = :png, legend=:bottomright)\n",
    "plot!(plt, t_arr[1:length] , rate_linear[1:length,2], label = \"R_Linear\",color=\"red\")\n",
    "plot!(plt, t_arr[1:length], r_inhibit_hawkes, label = \"R_Hawkes\",linestyle=:dash,linewidth=2, color=\"dark red\")"
   ]
  },
  {
   "cell_type": "code",
   "execution_count": null,
   "id": "74687462",
   "metadata": {},
   "outputs": [],
   "source": [
    "spikesE_linear = H.bin_spikes(spike_trainE, 1.0, spike_trainE[end])\n",
    "spikesI_linear = H.bin_spikes(spike_trainI, 1.0, spike_trainI[end])\n",
    "println([size(spikesE_linear), size(spikesI_linear)])\n",
    "binrate_linear = zeros(2, size(spikesI_linear,1))\n",
    "binrate_linear[1,:] = spikesE_linear ./ 1\n",
    "binrate_linear[2,:] = spikesI_linear ./ 1\n",
    "covariance_linear = cov(binrate_linear; dims=2)\n",
    "\n",
    "println([v_excite[end], v_inhibit[end]])\n",
    "println([mean(v_excite[:]), mean(v_inhibit[:])])\n",
    "println([mean(rate_linear[:,1]), mean(rate_linear[:,2])])\n",
    "println([mean(binrate_linear[1,:]), mean(binrate_linear[2,:])])\n",
    "print(covariance_linear)"
   ]
  },
  {
   "cell_type": "code",
   "execution_count": null,
   "id": "9df2bd62",
   "metadata": {},
   "outputs": [],
   "source": [
    "spikesE = H.bin_spikes(train_hawkes_E, 1.0, train_hawkes_E[end])\n",
    "spikesI = H.bin_spikes(train_hawkes_I, 1.0, train_hawkes_I[end])\n",
    "# println([size(spikesE), size(spikesI)])\n",
    "binrate_hawkes = zeros(2, min(size(spikesE,1), size(spikesI,1)))\n",
    "binrate_hawkes[1,:] = spikesE[1:size(binrate_hawkes,2)] ./ 1\n",
    "binrate_hawkes[2,:] = spikesI[1:size(binrate_hawkes,2)] ./ 1\n",
    "covariance = cov(binrate_hawkes; dims=2)\n",
    "\n",
    "println(rate_hawkes)\n",
    "println([mean(binrate_hawkes[1,:]), mean(binrate_hawkes[2,:])])\n",
    "print(covariance)\n",
    "# weights"
   ]
  },
  {
   "cell_type": "code",
   "execution_count": null,
   "id": "80723fed",
   "metadata": {},
   "outputs": [],
   "source": [
    "spikesE_linear = H.bin_spikes(spike_trainE, 1.0, spike_trainE[end])\n",
    "spikesI_linear = H.bin_spikes(spike_trainI, 1.0, spike_trainI[end])\n",
    "println([size(spikesE_linear), size(spikesI_linear)])\n",
    "# binrate_linear = zeros(2, min(size(spikesE_linear,1),size(spikesI_linear,1)))\n",
    "# binrate_linear[1,:] = spikesE_linear[1:size(binrate_linear,2)] ./ 1\n",
    "# binrate_linear[2,:] = spikesI_linear[1:size(binrate_linear,2)] ./ 1\n",
    "\n",
    "binrate_linear = zeros(2, size(spikesE_linear,1))\n",
    "binrate_linear[1,:] = spikesE_linear ./ 1\n",
    "binrate_linear[2,:] = spikesI_linear ./ 1\n",
    "covariance_linear = cov(binrate_linear; dims=2)\n",
    "\n",
    "println([v_excite[end], v_inhibit[end]])\n",
    "println(rate_linear[end,:])\n",
    "println([mean(binrate_linear[1,:]), mean(binrate_linear[2,:])])\n",
    "print(covariance_linear)\n",
    "\n",
    "# no weights"
   ]
  },
  {
   "cell_type": "code",
   "execution_count": null,
   "id": "c8acf3bb",
   "metadata": {},
   "outputs": [],
   "source": [
    "println(train_hawkes_E[20:40])"
   ]
  },
  {
   "cell_type": "code",
   "execution_count": null,
   "id": "58470b04",
   "metadata": {
    "scrolled": false
   },
   "outputs": [],
   "source": [
    "spikesE = H.bin_spikes(train_hawkes_E, 1.0, train_hawkes_E[end])\n",
    "spikesI = H.bin_spikes(train_hawkes_I, 1.0, train_hawkes_I[end])\n",
    "# println([size(spikesE), size(spikesI)])\n",
    "binrate_hawkes = zeros(2, size(spikesE,1))\n",
    "binrate_hawkes[1,:] = spikesE ./ 1\n",
    "binrate_hawkes[2,:] = spikesI ./ 1\n",
    "covariance = cov(binrate_hawkes; dims=2)\n",
    "\n",
    "println(rate_hawkes)\n",
    "println([mean(binrate_hawkes[1,:]), mean(binrate_hawkes[2,:])])\n",
    "print(covariance)\n",
    "\n",
    "# no weights"
   ]
  },
  {
   "cell_type": "code",
   "execution_count": null,
   "id": "57fa5b12",
   "metadata": {},
   "outputs": [],
   "source": [
    "var_try = binrate_hawkes[1,:] .- rate_hawkes[1]\n",
    "var_try = var_try .^2\n",
    "# println(size(var_try))\n",
    "variance = sum(var_try)/(size(var_try,1)-1)"
   ]
  },
  {
   "cell_type": "code",
   "execution_count": null,
   "id": "78c61619",
   "metadata": {},
   "outputs": [],
   "source": [
    "varm(spikesE, mean(spikesE); corrected=true)"
   ]
  },
  {
   "cell_type": "code",
   "execution_count": null,
   "id": "080aac21",
   "metadata": {},
   "outputs": [],
   "source": [
    "size(spike_trainE,1)"
   ]
  },
  {
   "cell_type": "code",
   "execution_count": null,
   "id": "f2b1ccff",
   "metadata": {},
   "outputs": [],
   "source": [
    "remean = mean(rate_linear[:,1])\n",
    "rimean = mean(rate_linear[:,2])\n",
    "plot_count(spike_trainE, spike_trainI, remean, rimean, 100)\n",
    "# println(size(rate_linear))"
   ]
  },
  {
   "cell_type": "code",
   "execution_count": null,
   "id": "b2155251",
   "metadata": {},
   "outputs": [],
   "source": [
    "function rasterplot(tlims = (80.,90.) )\n",
    "  _trainE = spike_trainE\n",
    "  plt=plot()\n",
    "  trainE = filter(t-> tlims[1]< t < tlims[2],_trainE)\n",
    "  nspk = size(trainE,1)\n",
    "  scatter!(plt,trainE,fill(2,nspk),markersize=35, markercolor=:blue,markershape=:vline,legend=:topright, label=\"Excitatory\")\n",
    "  _trainI = spike_trainI\n",
    "    trainI = filter(t-> tlims[1]< t < tlims[2],_trainI)\n",
    "  nspk = size(trainI,1)\n",
    "  scatter!(plt,trainI,fill(1,nspk),markersize=35, markercolor=:red,markershape=:vline,legend=:topright, label=\"Inhibitory\")\n",
    "  plot!(plt,ylims=(0,3),xlabel=\"time (s)\",fmt=:png)\n",
    "end\n",
    "\n",
    "# rasterplot()"
   ]
  },
  {
   "cell_type": "code",
   "execution_count": null,
   "id": "10412624",
   "metadata": {},
   "outputs": [],
   "source": [
    "println([v_excite[end], v_inhibit[end]])\n",
    "# println([vemean, vimean])\n",
    "\n",
    "println([rate_linear[end,1], rate_linear[end,2]])\n",
    "# println([remean, rimean])"
   ]
  },
  {
   "cell_type": "code",
   "execution_count": null,
   "id": "75ad73a4",
   "metadata": {},
   "outputs": [],
   "source": [
    "length = size(t_arr,1)\n",
    "# plt = plot(xlabel=\"time (s)\", ylabel=\"Voltage (mV)\", fmt = :png, legend=:bottomright)\n",
    "# plot!(plt, t_arr[1:length] , v_excite[1:length], label = \"V_Excite\", color=\"blue\")\n",
    "# plot!(plt, t_arr[1:length] , v_inhibit[1:length], label = \"V_Inhibit\", color=\"red\")\n",
    "# v_excite_mean = zeros(length)\n",
    "# v_inhibit_mean = zeros(length)\n",
    "# vemean = mean(v_excite)\n",
    "# vimean = mean(v_inhibit)\n",
    "# for i in 1:length\n",
    "#     v_excite_mean[i] = vemean\n",
    "#     v_inhibit_mean[i] = vimean\n",
    "# end\n",
    "# plot!(plt, t_arr[1:length], v_excite_mean, label = \"E[V_Excite]\",linestyle=:dash,linewidth=2, color=\"dark blue\")\n",
    "# plot!(plt, t_arr[1:length], v_inhibit_mean, label = \"E[V_Inhibit]\",linestyle=:dash,linewidth=2, color=\"dark red\")\n",
    "plt = plot(xlabel=\"time (s)\", ylabel=\"Rate (Hz)\", fmt = :png, legend=:bottomright)\n",
    "plot!(plt, t_arr[1:length] , rate_linear[1:length,1], label = \"R_Excite\", color=\"blue\")\n",
    "plot!(plt, t_arr[1:length] , rate_linear[1:length,2], label = \"R_Inhibit\",color=\"red\")\n",
    "# r_excite_mean = zeros(length)\n",
    "# r_inhibit_mean = zeros(length)\n",
    "# remean = mean(rate_linear[:,1])\n",
    "# rimean = mean(rate_linear[:,2])\n",
    "# for i in 1:length\n",
    "#     r_excite_mean[i] = remean\n",
    "#     r_inhibit_mean[i] = rimean\n",
    "# end\n",
    "# plot!(plt, t_arr[1:length], r_excite_mean, label = \"E[R_Excite]\",linestyle=:dash,linewidth=2, color=\"dark blue\")\n",
    "# plot!(plt, t_arr[1:length], r_inhibit_mean, label = \"E[R_Inhibit]\",linestyle=:dash,linewidth=2, color=\"dark red\")"
   ]
  },
  {
   "cell_type": "code",
   "execution_count": null,
   "id": "2257a10a",
   "metadata": {},
   "outputs": [],
   "source": [
    "plt = plot(xlabel=\"time (s)\", ylabel=\"V (mV)\", title = \"Linear Rate Model\", fmt = :png)\n",
    "plot!(plt, t_arr[1:20000] , v_excite[1:20000], label = \"V_Excite\", legend=:bottomright)\n",
    "plot!(plt, t_arr[1:20000] , v_inhibit[1:20000], label = \"V_Inhibit\", legend=:bottomright)"
   ]
  },
  {
   "cell_type": "code",
   "execution_count": null,
   "id": "8447debd",
   "metadata": {},
   "outputs": [],
   "source": [
    "rate_hawkes_arrE = zeros(20000)\n",
    "rate_hawkes_arrI = zeros(20000)\n",
    "for i in 1:20000\n",
    "    rate_hawkes_arrE[i] = rate_hawkes[1]\n",
    "    rate_hawkes_arrI[i] = rate_hawkes[2]\n",
    "end\n",
    "plt = plot(xlabel=\"time (s)\", ylabel=\"Rate (Hz)\", title=\"Linear Rate Model vs Linear Hawkes\", fmt = :png, legend=:bottomright)\n",
    "plot!(plt, t_arr[1:20000] , rate_linear[1:20000,1], label = \"rateE_linear\", color = col_exc2)\n",
    "plot!(plt, t_arr[1:20000], rate_hawkes_arrE, label = \"rateE_hawkes\", color = col_exc,linestyle=:dash,linewidth=3)\n",
    "plot!(plt, t_arr[1:20000] , rate_linear[1:20000,2], label = \"rateI_linear\", color = col_inh2)\n",
    "plot!(plt, t_arr[1:20000], rate_hawkes_arrI, label = \"rateI_hawkes\", color = col_inh,linestyle=:dash,linewidth=3)"
   ]
  },
  {
   "cell_type": "markdown",
   "id": "0d6fb76c",
   "metadata": {},
   "source": [
    "For multiple h values"
   ]
  },
  {
   "cell_type": "code",
   "execution_count": null,
   "id": "076e60b0",
   "metadata": {},
   "outputs": [],
   "source": [
    "function run_ssn_multiple_h!(num_h, h_arr, rates_ssn, covE_l, covI_l, covEI_l, v_ssn)\n",
    "    t_max = 2000\n",
    "    num_steps = Int(ceil(t_max/time_step))\n",
    "    t_arr = zeros(num_steps)\n",
    "    v_excite = zeros(num_steps)\n",
    "    v_inhibit = zeros(num_steps)\n",
    "    rate = zeros(num_steps, 2)\n",
    "    @showprogress 1.0 \"Running SSN multiple h...\" for i in 1:num_h\n",
    "        spike_trainE = Vector{Float64}()\n",
    "        spike_trainI = Vector{Float64}()\n",
    "        cov_noise = [alpha*h_arr[i] 0.0\n",
    "                    0.0 alpha*h_arr[i]]\n",
    "#         cov_noise = [0.0 0.0\n",
    "#                     0.0 0.0]\n",
    "        simulate_ssn!(h_arr[i], num_steps, t_arr, v_excite, v_inhibit, rate, spike_trainE, spike_trainI, cov_noise)\n",
    "#         rates_ssn[i,:] = rate[end,:]\n",
    "        v_ssn[i,1] = v_excite[end]\n",
    "        v_ssn[i,2] = v_inhibit[end]\n",
    "        spikesE_linear = H.bin_spikes(spike_trainE, 1.0, max(spike_trainE[end], spike_trainI[end]))\n",
    "        spikesI_linear = H.bin_spikes(spike_trainI, 1.0, max(spike_trainE[end], spike_trainI[end]))\n",
    "        binrate_linear = zeros(2, Int(floor(sizeof(spikesE_linear)/sizeof(spikesE_linear[1]))))\n",
    "        binrate_linear[1,:] = spikesE_linear ./ 1\n",
    "        binrate_linear[2,:] = spikesI_linear ./ 1 \n",
    "        rates_ssn[i,1] = mean(binrate_linear[1,:])\n",
    "        rates_ssn[i,2] = mean(binrate_linear[2,:])\n",
    "        covariance_linear = cov(binrate_linear; dims=2)\n",
    "        covE_l[i] = covariance_linear[1,1]\n",
    "        covI_l[i] = covariance_linear[2,2]\n",
    "        covEI_l[i] = covariance_linear[1,2]\n",
    "    end\n",
    "end"
   ]
  },
  {
   "cell_type": "code",
   "execution_count": null,
   "id": "c3a86178",
   "metadata": {},
   "outputs": [],
   "source": [
    "h_max = 20.0\n",
    "h_min = 1.0\n",
    "step = 1\n",
    "num_h = Int(ceil((h_max-h_min+1)/step))\n",
    "h_arr = zeros(num_h)\n",
    "h_arr[1] = h_min\n",
    "rates_ssn = zeros(num_h,2)\n",
    "v_ssn = zeros(num_h, 2)\n",
    "rates_hawkes_linear = zeros(num_h,2)\n",
    "covE_h = zeros(num_h)\n",
    "covI_h = zeros(num_h)\n",
    "covEI_h = zeros(num_h)\n",
    "covE_l = zeros(num_h)\n",
    "covI_l = zeros(num_h)\n",
    "covEI_l = zeros(num_h)\n",
    "\n",
    "# cov_noise = [sigma_E^2 0.0\n",
    "#             0.0 sigma_I^2]\n",
    "\n",
    "function compare()\n",
    "    for i in 2:num_h\n",
    "        h_arr[i] = h_arr[i-1] + step\n",
    "    end\n",
    "    \n",
    "    tau_E = 10.0\n",
    "    tau_I = 5.0\n",
    "    pop_E = H.PopulationExp(tau_E, H.NLIdentity())\n",
    "    pop_I = H.PopulationExp(tau_I, H.NLIdentity())\n",
    "    run_hawkes_multiple_h!(num_h, h_arr, rates_hawkes_linear, pop_E, pop_I, covE_h, covI_h, covEI_h)\n",
    "    run_ssn_multiple_h!(num_h, h_arr, rates_ssn, covE_l, covI_l, covEI_l, v_ssn)\n",
    "    \n",
    "end"
   ]
  },
  {
   "cell_type": "code",
   "execution_count": null,
   "id": "8e0ae74c",
   "metadata": {},
   "outputs": [],
   "source": [
    "run_ssn_multiple_h!(num_h, h_arr, rates_ssn, covE_l, covI_l, covEI_l, v_ssn)"
   ]
  },
  {
   "cell_type": "code",
   "execution_count": null,
   "id": "7c3d87a1",
   "metadata": {
    "scrolled": true
   },
   "outputs": [],
   "source": [
    "compare()"
   ]
  },
  {
   "cell_type": "code",
   "execution_count": null,
   "id": "4509d179",
   "metadata": {},
   "outputs": [],
   "source": [
    "fano_linear = zeros(length,2)\n",
    "fano_hawkes = zeros(length,2)\n",
    "for i in 1:length\n",
    "    fano_linear[i,1] = covE_l_weights_covdiag[i]/rates_ssn[i,1]\n",
    "    fano_linear[i,2] = covI_l_weights_covdiag[i]/rates_ssn[i,2]\n",
    "    fano_hawkes[i,1] = covE_h_weights[i]/rates_hawkes_linear[i,1]\n",
    "    fano_hawkes[i,2] = covI_h_weights[i]/rates_hawkes_linear[i,2]\n",
    "end\n",
    "plt = plot(xlabel=\"h (mV)\", ylabel=\"Fano Factor = covEE/meanE\", fmt = :png, legend=:bottomright)\n",
    "plot!(plt, h_arr[1:length] , fano_linear[1:length,1], label = \"Linear\", color=\"blue\")\n",
    "plot!(plt, h_arr[1:length] , fano_hawkes[1:length,1], label = \"Hawkes\", color=\"dark blue\", linestyle=:dash)"
   ]
  },
  {
   "cell_type": "code",
   "execution_count": null,
   "id": "4c00b91a",
   "metadata": {},
   "outputs": [],
   "source": [
    "plt = plot(xlabel=\"h (mV)\", ylabel=\"Fano Factor = covII/meanI\", fmt = :png, legend=:bottomright)\n",
    "plot!(plt, h_arr[1:length] , fano_linear[1:length,2], label = \"Linear\", color=\"red\")\n",
    "plot!(plt, h_arr[1:length] , fano_hawkes[1:length,2], label = \"Hawkes\", color=\"dark red\", linestyle=:dash)"
   ]
  },
  {
   "cell_type": "code",
   "execution_count": null,
   "id": "f3cbff48",
   "metadata": {},
   "outputs": [],
   "source": [
    "y_e = zeros(num_h)\n",
    "y_i = zeros(num_h)\n",
    "for i in 2:num_h\n",
    "    y_e[i] = 2*abs(fano_hawkes[i,1] - fano_linear[i,1])/(fano_hawkes[i,1] + fano_linear[i,1])\n",
    "    y_i[i] = abs(fano_hawkes[i,2] - fano_linear[i,2])/(fano_hawkes[i,2] + fano_linear[i,2])\n",
    "end\n",
    "plt = plot(xlabel = \"h (mV)\", ylabel=\"Relative error\", fmt = :png, legend=:topright)\n",
    "plot!(plt, h_arr, y_e, label=\"Excite\", color=\"blue\")\n",
    "plot!(plt, h_arr, y_i, label=\"Inhibit\", color=\"red\")\n",
    "#n_spikes = 500_000"
   ]
  },
  {
   "cell_type": "code",
   "execution_count": null,
   "id": "43b6697a",
   "metadata": {},
   "outputs": [],
   "source": [
    "y_e = zeros(num_h)\n",
    "y_i = zeros(num_h)\n",
    "for i in 2:num_h\n",
    "    y_e[i] = abs(fano_hawkes[i,1] - fano_linear[i,1])\n",
    "    y_i[i] = abs(fano_hawkes[i,2] - fano_linear[i,2])\n",
    "end\n",
    "plt = plot(xlabel = \"h (mV)\", ylabel=\"absolute error\", fmt = :png, legend=:topleft)\n",
    "plot!(plt, h_arr, y_e, label=\"Excite\", color=\"blue\")\n",
    "plot!(plt, h_arr, y_i, label=\"Inhibit\", color=\"red\")\n",
    "\n",
    "#n_spikes = 500_000"
   ]
  },
  {
   "cell_type": "code",
   "execution_count": null,
   "id": "8a22f89d",
   "metadata": {},
   "outputs": [],
   "source": [
    "length = size(h_arr,1)\n",
    "# plt = plot(xlabel=\"h (mV)\", ylabel=\"Voltage (mV)\", fmt = :png, legend=:bottomright)\n",
    "# plot!(plt, h_arr[1:length] , v_ssn[1:length,1], label = \"V_Excite\", color=\"blue\")\n",
    "# plot!(plt, h_arr[1:length] , v_ssn[1:length,2], label = \"V_Inhibit\", color=\"red\")\n",
    "\n",
    "plt = plot(xlabel=\"h (mV)\", ylabel=\"E Rate (Hz)\", fmt = :png, legend=:bottomright)\n",
    "plot!(plt, h_arr[1:length] , rates_ssn[1:length,1], label = \"R_Linear\", color=\"blue\")\n",
    "plot!(plt, h_arr[1:length] , rates_hawkes_linear[1:length,1], label = \"R_Hawkes\", color=\"dark blue\", linestyle=:dash)"
   ]
  },
  {
   "cell_type": "code",
   "execution_count": null,
   "id": "e1a24868",
   "metadata": {},
   "outputs": [],
   "source": [
    "plt = plot(xlabel=\"h (mV)\", ylabel=\"I Rate (Hz)\", fmt = :png, legend=:bottomright)\n",
    "plot!(plt, h_arr[1:length] , rates_ssn[1:length,2], label = \"R_Linear\",color=\"red\")\n",
    "plot!(plt, h_arr[1:length] , rates_hawkes_linear[1:length,2], label = \"R_Hawkes\",color=\"dark red\", linestyle=:dash)"
   ]
  },
  {
   "cell_type": "code",
   "execution_count": null,
   "id": "df6599ec",
   "metadata": {},
   "outputs": [],
   "source": [
    "y_e = zeros(num_h)\n",
    "y_i = zeros(num_h)\n",
    "for i in 2:num_h\n",
    "    y_e[i] = 2*abs(rates_hawkes_linear[i,1] - rates_ssn[i,1])/(rates_hawkes_linear[i,1] + rates_ssn[i,1])\n",
    "    y_i[i] = abs(rates_hawkes_linear[i,2] - rates_ssn[i,2])/(rates_hawkes_linear[i,2] + rates_ssn[i,2])\n",
    "end\n",
    "plt = plot(xlabel = \"h (mV)\", ylabel=\"Relative error\", fmt = :png, legend=:topright)\n",
    "plot!(plt, h_arr, y_e, label=\"rateE\", color=\"blue\")\n",
    "plot!(plt, h_arr, y_i, label=\"rateI\", color=\"red\")\n",
    "#n_spikes = 500_000"
   ]
  },
  {
   "cell_type": "code",
   "execution_count": null,
   "id": "fa67daca",
   "metadata": {},
   "outputs": [],
   "source": [
    "length = size(h_arr,1)\n",
    "\n",
    "plt = plot(xlabel=\"h (mV)\", ylabel=\"Rate (Hz)\", fmt = :png, legend=:bottomright)\n",
    "plot!(plt, h_arr[1:length] , rates_ssn[1:length,2], label = \"R_Linear_Inhibit\",color=\"red\")\n",
    "plot!(plt, h_arr[1:length] , rates_hawkes_linear[1:length,2], label = \"R_Hawkes_Inhibit\",color=\"dark red\")"
   ]
  },
  {
   "cell_type": "code",
   "execution_count": null,
   "id": "c7f7e00f",
   "metadata": {},
   "outputs": [],
   "source": [
    "y_e = zeros(num_h)\n",
    "y_i = zeros(num_h)\n",
    "for i in 2:num_h\n",
    "    y_e[i] = abs(rates_hawkes_linear[i,1] - rates_ssn[i,1])\n",
    "    y_i[i] = abs(rates_hawkes_linear[i,2] - rates_ssn[i,2])\n",
    "end\n",
    "plt = plot(xlabel = \"h (mV)\", ylabel=\"absolute error\", fmt = :png, legend=:topleft)\n",
    "plot!(plt, h_arr, y_e, label=\"rateE\", color=\"blue\")\n",
    "plot!(plt, h_arr, y_i, label=\"rateI\", color=\"red\")\n",
    "\n",
    "#n_spikes = 500_000"
   ]
  },
  {
   "cell_type": "code",
   "execution_count": null,
   "id": "c015c39d",
   "metadata": {},
   "outputs": [],
   "source": [
    "rates_hawkes_weights = rates_hawkes_linear\n",
    "covE_h_weights = covE_h\n",
    "covI_h_weights = covI_h\n",
    "covEI_h_weights = covEI_h\n",
    "println()"
   ]
  },
  {
   "cell_type": "code",
   "execution_count": null,
   "id": "6a2fe7e4",
   "metadata": {},
   "outputs": [],
   "source": [
    "rates_linear_weights_covdiag = rates_ssn\n",
    "covE_l_weights_covdiag = covE_l\n",
    "covI_l_weights_covdiag = covI_l\n",
    "covEI_l_weights_covdiag = covEI_l\n",
    "println()"
   ]
  },
  {
   "cell_type": "code",
   "execution_count": null,
   "id": "452efde7",
   "metadata": {},
   "outputs": [],
   "source": [
    "plt = plot(xlabel = \"h (mV)\", ylabel=\"covEE\", fmt=:png, legend=:bottomright)\n",
    "plot!(h_arr, covE_h_weights, label=\"covE_hawkes\";color=\"blue\")\n",
    "# plot!(h_arr, rates_hawkes_weights[:,1], label=\"rates_hawkes_weights\";color=\"black\")\n",
    "\n",
    "# plot!(h_arr, rates_linear_weights_covdiag[:,1], label=\"rates_linear_weights_covdiag\";color=\"blue\")\n",
    "plot!(h_arr, covE_l_weights_covdiag, label=\"covE_linear\";color=\"purple\")"
   ]
  },
  {
   "cell_type": "code",
   "execution_count": null,
   "id": "2e230092",
   "metadata": {},
   "outputs": [],
   "source": [
    "plt = plot(xlabel = \"h (mV)\", ylabel=\"E mean\", fmt=:png, legend=:bottomright)\n",
    "plot!(h_arr, rates_hawkes_weights[:,1], label=\"rates_hawkes_weights\";color=\"black\")\n",
    "\n",
    "plot!(h_arr, rates_linear_weights_covdiag[:,1], label=\"rates_linear_weights_covdiag\";color=\"blue\")"
   ]
  },
  {
   "cell_type": "code",
   "execution_count": null,
   "id": "3549a909",
   "metadata": {},
   "outputs": [],
   "source": [
    "plt = plot(xlabel = \"h (mV)\", ylabel=\"covEE\", fmt=:png, legend=:bottomright)\n",
    "plot!(h_arr, covE_h_weights, label=\"hawkes\";color=\"blue\")\n",
    "plot!(h_arr, covE_l_weights_covdiag, label=\"linear\";color=\"purple\")"
   ]
  },
  {
   "cell_type": "code",
   "execution_count": null,
   "id": "64cd7094",
   "metadata": {},
   "outputs": [],
   "source": [
    "plt = plot(xlabel = \"h (mV)\", ylabel=\"covII\", fmt=:png, legend=:bottomright)\n",
    "plot!(h_arr, covI_h_weights, label=\"hawkes\";color=\"red\")\n",
    "# plot!(h_arr, rates_hawkes_weights[:,2], label=\"rates_hawkes_weights\";color=\"black\")\n",
    "\n",
    "# plot!(h_arr, rates_linear_weights_covdiag[:,2], label=\"rates_linear_weights_covdiag\";color=\"blue\")\n",
    "plot!(h_arr, covI_l_weights_covdiag, label=\"linear\";color=\"black\")"
   ]
  },
  {
   "cell_type": "code",
   "execution_count": null,
   "id": "1247cb2d",
   "metadata": {},
   "outputs": [],
   "source": [
    "plt = plot(xlabel = \"h (mV)\", ylabel=\"covEI\", fmt=:png, legend=:topleft)\n",
    "plot!(h_arr, covEI_h_weights, label=\"hawkes\";color=\"black\")\n",
    "plot!(h_arr, covEI_l_weights_covdiag, label=\"linear\";color=\"purple\")"
   ]
  },
  {
   "cell_type": "code",
   "execution_count": null,
   "id": "43d790c5",
   "metadata": {},
   "outputs": [],
   "source": [
    "y_e = zeros(num_h)\n",
    "y_i = zeros(num_h)\n",
    "for i in 2:num_h\n",
    "    y_e[i] = 2*abs(covE_h_weights[i] - covE_l_weights_covdiag[i])/(covE_h_weights[i] + covE_l_weights_covdiag[i])\n",
    "    y_i[i] = 2*abs(covI_h_weights[i] - covI_l_weights_covdiag[i])/(covI_h_weights[i] + covI_l_weights_covdiag[i])\n",
    "end\n",
    "plt = plot(xlabel = \"h (mV)\", ylabel=\"relative error\", fmt = :png, legend=:topleft)\n",
    "plot!(plt, h_arr, y_e, label=\"covEE\", color=\"blue\")\n",
    "plot!(plt, h_arr, y_i, label=\"covII\", color=\"red\")"
   ]
  },
  {
   "cell_type": "code",
   "execution_count": null,
   "id": "fa90c9f1",
   "metadata": {},
   "outputs": [],
   "source": [
    "y_e = zeros(num_h)\n",
    "y_i = zeros(num_h)\n",
    "for i in 2:num_h\n",
    "    y_e[i] = abs(covE_h_weights[i] - covE_l_weights_covdiag[i])\n",
    "    y_i[i] = abs(covI_h_weights[i] - covI_l_weights_covdiag[i])\n",
    "end\n",
    "plt = plot(xlabel = \"h (mV)\", ylabel=\"absolute error\", fmt = :png, legend=:topleft)\n",
    "plot!(plt, h_arr, y_e, label=\"covEE\", color=\"red\")\n",
    "plot!(plt, h_arr, y_i, label=\"covII\", color=\"blue\")"
   ]
  },
  {
   "cell_type": "code",
   "execution_count": null,
   "id": "e5c621c7",
   "metadata": {},
   "outputs": [],
   "source": [
    "y_e = zeros(num_h)\n",
    "y_i = zeros(num_h)\n",
    "for i in 2:num_h\n",
    "    y_e[i] = 2*abs(covEI_h_weights[i] - covEI_l_weights_covdiag[i])/abs(covEI_h_weights[i] + covEI_l_weights_covdiag[i])\n",
    "end\n",
    "plt = plot(xlabel = \"h (mV)\", ylabel=\"relative error\", fmt = :png, legend=:topleft)\n",
    "plot!(plt, h_arr, y_e, label=\"covEI\", color=\"purple\")"
   ]
  },
  {
   "cell_type": "code",
   "execution_count": null,
   "id": "8d811a30",
   "metadata": {},
   "outputs": [],
   "source": [
    "y_e = zeros(num_h)\n",
    "y_i = zeros(num_h)\n",
    "for i in 2:num_h\n",
    "    y_e[i] = abs(covEI_h_weights[i] - covEI_l_weights_covdiag[i])\n",
    "end\n",
    "plt = plot(xlabel = \"h (mV)\", ylabel=\"absolute error\", fmt = :png, legend=:topleft)\n",
    "plot!(plt, h_arr, y_e, label=\"covEI\", color=\"purple\")"
   ]
  },
  {
   "cell_type": "code",
   "execution_count": null,
   "id": "0608b067",
   "metadata": {},
   "outputs": [],
   "source": [
    "y_e = zeros(num_h)\n",
    "y_i = zeros(num_h)\n",
    "for i in 2:num_h\n",
    "    y_e[i] = 2*abs(covE_h_weights[i] - covE_l_weights_covdiag[i])/(covE_h_weights[i] + covE_l_weights_covdiag[i])\n",
    "    y_i[i] = 2*abs(covI_h_weights[i] - covI_l_weights_covdiag[i])/(covI_h_weights[i] + covI_l_weights_covdiag[i])\n",
    "end\n",
    "plt = plot(xlabel = \"h\", ylabel=\"relative diff with hawkes\", fmt = :png, legend=:topleft)\n",
    "plot!(plt, h_arr, y_e, label=\"covE\")\n",
    "plot!(plt, h_arr, y_i, label=\"covI\")"
   ]
  },
  {
   "cell_type": "code",
   "execution_count": null,
   "id": "6397625d",
   "metadata": {},
   "outputs": [],
   "source": [
    "plot(h_arr, [rates_hawkes_weights[:,2] rates_linear_weights_covdiag[:,2]], label=[\"rates_hawkes_weights\" \"rates_linear_weights_covdiag\"], xlabel = \"h (mV)\", ylabel=\"I mean\", fmt=:png, legend=:bottomright)"
   ]
  },
  {
   "cell_type": "code",
   "execution_count": null,
   "id": "f7243baa",
   "metadata": {},
   "outputs": [],
   "source": [
    "plot(h_arr, [covI_h_weights covI_l_weights_covdiag], label=[\"covI_hawkes_weights\" \"covI_l_weights_covdiag\"], xlabel = \"h (mV)\", ylabel=\"I cov\", fmt=:png, legend=:bottomright)"
   ]
  },
  {
   "cell_type": "code",
   "execution_count": null,
   "id": "5b3c1b39",
   "metadata": {},
   "outputs": [],
   "source": [
    "rates_linear_noweights_covnondiag = rates_ssn\n",
    "covE_l_noweights_covnondiag = covE_l\n",
    "covI_l_noweights_covnondiag = covI_l\n",
    "covEI_l_noweights_covnondiag = covEI_l\n",
    "println()"
   ]
  },
  {
   "cell_type": "code",
   "execution_count": null,
   "id": "dd6545c3",
   "metadata": {},
   "outputs": [],
   "source": [
    "rates_linear_noweights_covdiag = rates_ssn\n",
    "covE_l_noweights_covdiag = covE_l\n",
    "covI_l_noweights_covdiag = covI_l\n",
    "covEI_l_noweights_covdiag = covEI_l\n",
    "println()"
   ]
  },
  {
   "cell_type": "code",
   "execution_count": null,
   "id": "3979993c",
   "metadata": {},
   "outputs": [],
   "source": [
    "rates_hawkes_noweights = rates_hawkes_linear\n",
    "covE_h_noweights = covE_h\n",
    "covI_h_noweights = covI_h\n",
    "covEI_h_noweights = covEI_h\n",
    "println()"
   ]
  },
  {
   "cell_type": "code",
   "execution_count": null,
   "id": "503434d9",
   "metadata": {},
   "outputs": [],
   "source": [
    "y_e = zeros(num_h)\n",
    "y_i = zeros(num_h)\n",
    "for i in 2:num_h\n",
    "    y_e[i] = 2*abs(covEI_h_noweights[i] - covEI_l_noweights_covdiag[i])/(covEI_h_noweights[i] + covEI_l_noweights_covdiag[i])\n",
    "    y_i[i] = 2*abs(covEI_h_noweights[i] - covEI_l_noweights_covnondiag[i])/(covEI_h_noweights[i] + covEI_l_noweights_covnondiag[i])\n",
    "end\n",
    "plt = plot(xlabel = \"h\", ylabel=\"relative diff of hawkes (covEI)\", fmt = :png, legend=:topright)\n",
    "plot!(plt, h_arr, y_e, label=\"with uncorrelated noise\")\n",
    "plot!(plt, h_arr, y_i, label=\"with correlated noise\")"
   ]
  },
  {
   "cell_type": "code",
   "execution_count": null,
   "id": "ba0253bb",
   "metadata": {},
   "outputs": [],
   "source": [
    "y_e = zeros(num_h)\n",
    "y_i = zeros(num_h)\n",
    "for i in 2:num_h\n",
    "    y_e[i] = 2*abs(covI_h_noweights[i] - covI_l_noweights_covdiag[i])/(covI_h_noweights[i] + covI_l_noweights_covdiag[i])\n",
    "    y_i[i] = 2*abs(covI_h_noweights[i] - covI_l_noweights_covnondiag[i])/(covI_h_noweights[i] + covI_l_noweights_covnondiag[i])\n",
    "end\n",
    "plt = plot(xlabel = \"h\", ylabel=\"relative diff of hawkes (covI)\", fmt = :png, legend=:topleft)\n",
    "plot!(plt, h_arr, y_e, label=\"with uncorrelated noise\")\n",
    "plot!(plt, h_arr, y_i, label=\"with correlated noise\")"
   ]
  },
  {
   "cell_type": "code",
   "execution_count": null,
   "id": "3c9764cf",
   "metadata": {},
   "outputs": [],
   "source": [
    "y_e = zeros(num_h)\n",
    "y_i = zeros(num_h)\n",
    "for i in 2:num_h\n",
    "    y_e[i] = 2*abs(covE_h_noweights[i] - covE_l_noweights_covdiag[i])/(covEI_h_noweights[i] + covE_l_noweights_covdiag[i])\n",
    "    y_i[i] = 2*abs(covE_h_noweights[i] - covE_l_noweights_covnondiag[i])/(covEI_h_noweights[i] + covE_l_noweights_covnondiag[i])\n",
    "end\n",
    "plt = plot(xlabel = \"h\", ylabel=\"relative diff of hawkes (covE)\", fmt = :png, legend=:topleft)\n",
    "plot!(plt, h_arr, y_e, label=\"with uncorrelated noise\")\n",
    "plot!(plt, h_arr, y_i, label=\"with correlated noise\")"
   ]
  },
  {
   "cell_type": "code",
   "execution_count": null,
   "id": "06feace3",
   "metadata": {},
   "outputs": [],
   "source": [
    "plt = plot(xlabel = \"h (mV)\", ylabel=\"E cov, mean\", fmt=:png, legend=:bottomright)\n",
    "plot!(h_arr, covE_h_noweights, label=\"covE_hawkes_noweights\";color=\"red\")\n",
    "plot!(h_arr, covE_h_weights, label=\"covE_hawkes_weights\";color=\"dark red\")\n",
    "plot!(h_arr, rates_hawkes_weights[:,1], label=\"rates_hawkes_weights\";color=\"black\")\n",
    "\n",
    "plot!(h_arr, rates_linear_noweights_covnondiag[:,1], label=\"rates_linear_noweights_covnondiag\";color=\"blue\")\n",
    "plot!(h_arr, covE_l_noweights_covnondiag, label=\"covE_l_noweights_covnondiag\";color=\"purple\")"
   ]
  },
  {
   "cell_type": "code",
   "execution_count": null,
   "id": "918ef50d",
   "metadata": {},
   "outputs": [],
   "source": [
    "plt = plot(xlabel = \"h (mV)\", ylabel=\"I cov, mean\", fmt=:png, legend=:bottomright)\n",
    "plot!(h_arr, covI_h_noweights, label=\"covI_hawkes_noweights\";color=\"red\")\n",
    "plot!(h_arr, covI_h_weights, label=\"covI_hawkes_weights\";color=\"dark red\")\n",
    "plot!(h_arr, rates_hawkes_weights[:,2], label=\"rates_hawkes_weights\";color=\"black\")\n",
    "\n",
    "plot!(h_arr, rates_linear_noweights_covnondiag[:,2], label=\"rates_linear_noweights_covnondiag\";color=\"blue\")\n",
    "plot!(h_arr, covI_l_noweights_covnondiag, label=\"covI_l_noweights_covnondiag\";color=\"purple\")"
   ]
  },
  {
   "cell_type": "code",
   "execution_count": null,
   "id": "2794f239",
   "metadata": {},
   "outputs": [],
   "source": [
    "plt = plot(xlabel = \"h (mV)\", ylabel=\"EI cov\", fmt=:png, legend=:topleft)\n",
    "plot!(h_arr, covEI_h_noweights, label=\"covEI_hawkes_noweights\";color=\"red\")\n",
    "plot!(h_arr, covEI_h_weights, label=\"covEI_hawkes_weights\";color=\"dark red\")\n",
    "\n",
    "plot!(h_arr, covEI_l_noweights_covnondiag, label=\"covEI_l_noweights_covnondiag\";color=\"black\")"
   ]
  },
  {
   "cell_type": "code",
   "execution_count": null,
   "id": "90dfbcf5",
   "metadata": {},
   "outputs": [],
   "source": [
    "plt = plot(xlabel = \"h (mV)\", ylabel=\"E cov, mean\", fmt=:png, legend=:bottomright)\n",
    "plot!(h_arr, covE_h_noweights, label=\"covE_hawkes_noweights\";color=\"red\")\n",
    "plot!(h_arr, covE_h_weights, label=\"covE_hawkes_weights\";color=\"dark red\")\n",
    "plot!(h_arr, rates_hawkes_weights[:,1], label=\"rates_hawkes_weights\";color=\"black\")\n",
    "\n",
    "plot!(h_arr, rates_linear_noweights_covdiag[:,1], label=\"rates_linear_noweights_covdiag\";color=\"blue\")\n",
    "plot!(h_arr, covE_l_noweights_covdiag, label=\"covE_l_noweights_covdiag\";color=\"purple\")"
   ]
  },
  {
   "cell_type": "code",
   "execution_count": null,
   "id": "c56d79d1",
   "metadata": {},
   "outputs": [],
   "source": [
    "plt = plot(xlabel = \"h (mV)\", ylabel=\"I cov, mean\", fmt=:png, legend=:bottomright)\n",
    "plot!(h_arr, covI_h_noweights, label=\"covI_hawkes_noweights\";color=\"red\")\n",
    "plot!(h_arr, covI_h_weights, label=\"covI_hawkes_weights\";color=\"dark red\")\n",
    "plot!(h_arr, rates_hawkes_weights[:,2], label=\"rates_hawkes_weights\";color=\"black\")\n",
    "\n",
    "plot!(h_arr, rates_linear_noweights_covdiag[:,2], label=\"rates_linear_noweights_covdiag\";color=\"blue\")\n",
    "plot!(h_arr, covI_l_noweights_covdiag, label=\"covI_l_noweights_covdiag\";color=\"purple\")"
   ]
  },
  {
   "cell_type": "code",
   "execution_count": null,
   "id": "b091e846",
   "metadata": {},
   "outputs": [],
   "source": [
    "plt = plot(xlabel = \"h (mV)\", ylabel=\"EI cov\", fmt=:png, legend=:topleft)\n",
    "plot!(h_arr, covEI_h_noweights, label=\"covEI_hawkes_noweights\";color=\"red\")\n",
    "plot!(h_arr, covEI_h_weights, label=\"covEI_hawkes_weights\";color=\"dark red\")\n",
    "\n",
    "plot!(h_arr, covEI_l_noweights_covdiag, label=\"covEI_l_noweights_covdiag\";color=\"purple\")\n",
    "plot!(h_arr, covEI_l_noweights_covnondiag, label=\"covEI_l_noweights_covnondiag\";color=\"black\")"
   ]
  },
  {
   "cell_type": "code",
   "execution_count": null,
   "id": "450322cf",
   "metadata": {},
   "outputs": [],
   "source": [
    "rates_linear_weights_covW = rates_ssn\n",
    "covE_l_weights_covW = covE_l\n",
    "covI_l_weights_covW = covI_l\n",
    "covEI_l_weights_covW = covEI_l\n",
    "println()"
   ]
  },
  {
   "cell_type": "code",
   "execution_count": null,
   "id": "f9cfb02f",
   "metadata": {},
   "outputs": [],
   "source": [
    "rates_linear_weights_covnoW = rates_ssn\n",
    "covE_l_weights_covnoW = covE_l\n",
    "covI_l_weights_covnoW = covI_l\n",
    "covEI_l_weights_covnoW = covEI_l\n",
    "println()"
   ]
  },
  {
   "cell_type": "code",
   "execution_count": null,
   "id": "7eaf3a5d",
   "metadata": {},
   "outputs": [],
   "source": [
    "plt = plot(xlabel=\"h\", ylabel=\"EI cov, mean\", fmt = :png, legend=:bottomright)\n",
    "plot!(h_arr,covEI_h_noweights, label=\"covEI_now\"; color=\"red\")\n",
    "plot!(h_arr, covEI_l_noweights_covnoW, label=\"covEI_l_now\";color=\"dark red\")"
   ]
  },
  {
   "cell_type": "code",
   "execution_count": null,
   "id": "5890fecd",
   "metadata": {},
   "outputs": [],
   "source": [
    "plt = plot(xlabel=\"h\", ylabel=\"E cov, mean\", fmt = :png, legend=:bottomright)\n",
    "plot!(h_arr, rates_hawkes_noweights[:,1], label=\"rateE_h_now\"; color=\"blue\")\n",
    "plot!(h_arr,covE_h_noweights, label=\"covE_now\"; color=\"red\")\n",
    "plot!(h_arr, covE_l_noweights_covnoW, label=\"covE_l_now\";color=\"dark red\")\n",
    "plot!(h_arr, rates_linear_noweights_covnoW[:,1], label=\"rates_l_now\"; color=\"dark blue\")"
   ]
  },
  {
   "cell_type": "code",
   "execution_count": null,
   "id": "dd6e783a",
   "metadata": {},
   "outputs": [],
   "source": [
    "plt = plot(xlabel=\"h\", ylabel=\"I cov, mean\", fmt = :png, legend=:bottomright)\n",
    "plot!(h_arr, rates_hawkes_noweights[:,2], label=\"rateI_h_now\"; color=\"blue\")\n",
    "plot!(h_arr,covI_h_noweights, label=\"covI_now\"; color=\"red\")\n",
    "plot!(h_arr, covI_h_weights, label=\"covI_w\";color=\"pink\")\n",
    "plot!(h_arr, covI_l_noweights_covnoW, label=\"covI_l_now\";color=\"dark red\")\n",
    "plot!(h_arr, rates_linear_noweights_covnoW[:,2], label=\"rates_l_now\"; color=\"dark blue\")"
   ]
  },
  {
   "cell_type": "code",
   "execution_count": null,
   "id": "45866113",
   "metadata": {},
   "outputs": [],
   "source": [
    "plt = plot(xlabel=\"h\", ylabel=\"I cov, mean\", fmt = :png, legend=:bottomright)\n",
    "plot!(h_arr, rates_hawkes_noweights[:,2], label=\"rateI_h_now\"; color=\"blue\")\n",
    "plot!(h_arr,covI_h_noweights, label=\"covI_now\"; color=\"red\")\n",
    "plot!(h_arr, covI_l_noweights_covnoW, label=\"covI_l_now\";color=\"dark red\")\n",
    "plot!(h_arr, rates_linear_noweights_covnoW[:,2], label=\"rates_l_now\"; color=\"dark blue\")"
   ]
  },
  {
   "cell_type": "code",
   "execution_count": null,
   "id": "10619228",
   "metadata": {},
   "outputs": [],
   "source": [
    "plt = plot(xlabel=\"h\", ylabel=\"covEI\", fmt = :png, legend=:bottomright)\n",
    "plot!(h_arr,covEI_h_weights, label=\"covEI_h_w\"; color=\"red\")\n",
    "plot!(h_arr, covEI_l_weights_covnoW, label=\"covEI_l_now\";color=\"dark red\")\n",
    "plot!(h_arr, covEI_l_weights_covW, label=\"covEI_l_w\"; color=\"black\")"
   ]
  },
  {
   "cell_type": "code",
   "execution_count": null,
   "id": "681affd3",
   "metadata": {},
   "outputs": [],
   "source": [
    "plt = plot(xlabel=\"h\", ylabel=\"I cov, mean\", fmt = :png, legend=:bottomright)\n",
    "plot!(h_arr, rates_hawkes_weights[:,2], label=\"rateI_h_ w\"; color=\"blue\")\n",
    "plot!(h_arr,covI_h_weights, label=\"covI_ w\"; color=\"red\")\n",
    "plot!(h_arr, covI_l_weights_covnoW, label=\"covI_l_now\";color=\"dark red\")\n",
    "plot!(h_arr, rates_linear_weights_covnoW[:,2], label=\"rates_l_now\"; color=\"dark blue\")\n",
    "plot!(h_arr, covI_l_weights_covW, label=\"covI_l_w\"; color=\"black\")\n",
    "plot!(h_arr, rates_linear_weights_covW[:,2], label=\"rates_l_w\"; color=\"purple\")"
   ]
  },
  {
   "cell_type": "code",
   "execution_count": null,
   "id": "042cacd0",
   "metadata": {},
   "outputs": [],
   "source": [
    "plt = plot(xlabel=\"h\", ylabel=\"I mean\", fmt = :png, legend=:bottomright)\n",
    "plot!(h_arr, rates_hawkes_weights[:,2], label=\"rateE_h_ w\"; color=\"blue\")\n",
    "plot!(h_arr, rates_linear_weights_covnoW[:,2], label=\"rates_l_now\"; color=\"dark blue\")\n",
    "plot!(h_arr, rates_linear_weights_covW[:,2], label=\"rates_l_w\"; color=\"purple\")"
   ]
  },
  {
   "cell_type": "code",
   "execution_count": null,
   "id": "1eaff6c8",
   "metadata": {},
   "outputs": [],
   "source": [
    "plt = plot(xlabel=\"h\", ylabel=\"I cov\", fmt = :png, legend=:bottomright)\n",
    "plot!(h_arr,covI_h_weights, label=\"covI_h_ w\"; color=\"red\")\n",
    "plot!(h_arr, covI_l_weights_covnoW, label=\"covI_l_now\";color=\"dark red\")\n",
    "plot!(h_arr, covI_l_weights_covW, label=\"covI_l_w\"; color=\"black\")"
   ]
  },
  {
   "cell_type": "code",
   "execution_count": null,
   "id": "b7e91f31",
   "metadata": {},
   "outputs": [],
   "source": [
    "plt = plot(xlabel=\"h\", ylabel=\"E cov, mean\", fmt = :png, legend=:bottomright)\n",
    "plot!(h_arr, rates_hawkes_weights[:,1], label=\"rateE_ w\"; color=\"blue\")\n",
    "plot!(h_arr,covE_h_weights, label=\"covE_ w\"; color=\"red\")\n",
    "plot!(h_arr, covE_l_weights_covnoW, label=\"covE_l_now\";color=\"dark red\")\n",
    "plot!(h_arr, rates_linear_weights_covnoW[:,1], label=\"rates_l_now\"; color=\"dark blue\")\n",
    "plot!(h_arr, covE_l_weights_covW, label=\"covE_l_w\"; color=\"black\")\n",
    "plot!(h_arr, rates_linear_weights_covW[:,1], label=\"rates_l_w\"; color=\"purple\")"
   ]
  },
  {
   "cell_type": "code",
   "execution_count": null,
   "id": "06c06c27",
   "metadata": {},
   "outputs": [],
   "source": [
    "plt = plot(xlabel=\"h\", ylabel=\"E mean\", fmt = :png, legend=:bottomright)\n",
    "plot!(h_arr, rates_hawkes_weights[:,1], label=\"rateE_h_ w\"; color=\"blue\")\n",
    "plot!(h_arr, rates_linear_weights_covnoW[:,1], label=\"rates_l_now\"; color=\"dark blue\")\n",
    "plot!(h_arr, rates_linear_weights_covW[:,1], label=\"rates_l_w\"; color=\"purple\")"
   ]
  },
  {
   "cell_type": "code",
   "execution_count": null,
   "id": "f6b5b0d0",
   "metadata": {},
   "outputs": [],
   "source": [
    "plt = plot(xlabel=\"h\", ylabel=\"E cov\", fmt = :png, legend=:bottomright)\n",
    "plot!(h_arr,covE_h_weights, label=\"covE_h_ w\"; color=\"red\")\n",
    "plot!(h_arr, covE_l_weights_covnoW, label=\"covE_l_now\";color=\"dark red\")\n",
    "plot!(h_arr, covE_l_weights_covW, label=\"covE_l_w\"; color=\"black\")"
   ]
  },
  {
   "cell_type": "code",
   "execution_count": null,
   "id": "3d915f29",
   "metadata": {},
   "outputs": [],
   "source": []
  },
  {
   "cell_type": "code",
   "execution_count": null,
   "id": "e63b7b0e",
   "metadata": {},
   "outputs": [],
   "source": [
    "plt = plot(xlabel=\"mean\", ylabel=\"cov\", fmt = :png, legend=:bottomright)\n",
    "plot!(rates_hawkes_noweights[:,1] ,covE_h_noweights, label=\"E_no w\")\n",
    "plot!(rates_hawkes_weights[:,1] ,covE_h_weights, label=\"E_ w\")\n",
    "plot!(rates_hawkes_weights[:,1], rates_hawkes_weights[:,1], linestyle=:dash)"
   ]
  },
  {
   "cell_type": "code",
   "execution_count": null,
   "id": "c9ff74f3",
   "metadata": {},
   "outputs": [],
   "source": [
    "plt = plot(xlabel=\"mean\", ylabel=\"cov\", fmt = :png, legend=:bottomright)\n",
    "plot!(rates_hawkes_noweights[:,2] ,covI_h_noweights, label=\"I_no w\")\n",
    "plot!(rates_hawkes_weights[:,2] ,covI_h_weights, label=\"I_ w\")\n",
    "plot!(rates_hawkes_weights[:,2], rates_hawkes_weights[:,2], linestyle=:dash)"
   ]
  },
  {
   "cell_type": "code",
   "execution_count": null,
   "id": "4447e451",
   "metadata": {},
   "outputs": [],
   "source": [
    "plt = plot(xlabel=\"h\", ylabel=\"cov, mean\", fmt = :png, legend=:bottomright)\n",
    "plot!(h_arr, rates_hawkes_noweights[:,1], label=\"rateE_no w\")\n",
    "plot!(h_arr ,covE_h_noweights, label=\"covE_no w\")\n",
    "plot!(h_arr, rates_hawkes_weights[:,1], label=\"rateE_ w\")\n",
    "plot!(h_arr,covE_h_weights, label=\"covE_ w\")"
   ]
  },
  {
   "cell_type": "code",
   "execution_count": null,
   "id": "cca8a85f",
   "metadata": {},
   "outputs": [],
   "source": [
    "plt = plot(xlabel=\"h\", ylabel=\"cov, mean\", fmt = :png, legend=:bottomright)\n",
    "plot!(h_arr, rates_hawkes_noweights[:,2], label=\"rateI_no w\")\n",
    "plot!(h_arr ,covI_h_noweights, label=\"covI_no w\")\n",
    "plot!(h_arr, rates_hawkes_weights[:,2], label=\"rateI_ w\")\n",
    "plot!(h_arr,covI_h_weights, label=\"covI_ w\")"
   ]
  },
  {
   "cell_type": "code",
   "execution_count": null,
   "id": "3f742036",
   "metadata": {},
   "outputs": [],
   "source": [
    "plt = plot(xlabel=\"h\", ylabel=\"cov, mean\", fmt = :png, legend=:topleft)\n",
    "plot!(h_arr ,covEI_h_noweights, label=\"covEI_no w\")\n",
    "plot!(h_arr,covEI_h_weights, label=\"covEI_ w\")"
   ]
  },
  {
   "cell_type": "code",
   "execution_count": null,
   "id": "a4535f34",
   "metadata": {},
   "outputs": [],
   "source": [
    "covEI_l_abs = abs.(covEI_l)\n",
    "plt1 = plot(h_arr, [covE_h covE_l], label=[\"hawkes\" \"linear\"],xlabel=\"h (mV)\", ylabel=\"covE\", fmt = :png, legend=:bottomright)\n",
    "plt2 = plot(h_arr, [covI_h covI_l], label=[\"hawkes\" \"linear\"], xlabel=\"h (mV)\", ylabel=\"covI\", fmt = :png, legend=:bottomright)\n",
    "plt3 = plot(h_arr, [covEI_h covEI_l], label=[\"hawkes\" \"linear\"], xlabel=\"h (mV)\", ylabel=\"covEI\", fmt = :png, legend=:bottomright)\n",
    "plt4 = plot(h_arr, [covEI_h covEI_l_abs], label=[\"hawkes\" \"linear\"], xlabel=\"h (mV)\", ylabel=\" abs covEI\", fmt = :png, legend=:bottomright)\n",
    "plot(plt1, plt2, plt3, plt4)"
   ]
  },
  {
   "cell_type": "code",
   "execution_count": null,
   "id": "5ba87413",
   "metadata": {},
   "outputs": [],
   "source": [
    "cov_l = [covE_l covI_l covEI_l]\n",
    "cov_h = [covE_h covI_h covEI_h]\n",
    "plt = plot(xlabel=\"cov_l\", ylabel=\"cov_h\", fmt = :png, legend=false)\n",
    "plot!(cov_l, cov_h, seriestype = :scatter)\n",
    "plot!(plt, cov_l , cov_l)"
   ]
  },
  {
   "cell_type": "code",
   "execution_count": null,
   "id": "beb8bcc2",
   "metadata": {},
   "outputs": [],
   "source": [
    "rates_ssn = zeros(num_h,2)\n",
    "covE_l = zeros(num_h)\n",
    "covI_l = zeros(num_h)\n",
    "covEI_l = zeros(num_h)\n",
    "\n",
    "cov_noise = [sigma_E^2 rho*sigma_E^2\n",
    "            rho*sigma_I^2 sigma_I^2]\n",
    "run_ssn_multiple_h!(num_h, h_arr, cov_noise, rates_ssn, covE_l, covI_l, covEI_l)"
   ]
  },
  {
   "cell_type": "code",
   "execution_count": null,
   "id": "63bbd788",
   "metadata": {},
   "outputs": [],
   "source": [
    "covEI_l_abs = abs.(covEI_l)\n",
    "plt5 = plot(h_arr, [covE_h covE_l], label=[\"hawkes\" \"linear\"],xlabel=\"h (mV)\", ylabel=\"covE\", fmt = :png, legend=:bottomright)\n",
    "plt6 = plot(h_arr, [covI_h covI_l], label=[\"hawkes\" \"linear\"], xlabel=\"h (mV)\", ylabel=\"covI\", fmt = :png, legend=:bottomright)\n",
    "plt7 = plot(h_arr, [covEI_h covEI_l], label=[\"hawkes\" \"linear\"], xlabel=\"h (mV)\", ylabel=\"covEI\", fmt = :png, legend=:bottomright)\n",
    "plt8 = plot(h_arr, [covEI_h covEI_l_abs], label=[\"hawkes\" \"linear\"], xlabel=\"h (mV)\", ylabel=\" abs covEI\", fmt = :png, legend=:bottomright)\n",
    "plot(plt5, plt6, plt7, plt8)"
   ]
  },
  {
   "cell_type": "code",
   "execution_count": null,
   "id": "01d0e09d",
   "metadata": {},
   "outputs": [],
   "source": [
    "cov_l = [covE_l covI_l covEI_l]\n",
    "cov_h = [covE_h covI_h covEI_h]\n",
    "plt = plot(xlabel=\"cov_l\", ylabel=\"cov_h\", fmt = :png, legend=false)\n",
    "plot!(cov_l, cov_h, seriestype = :scatter)\n",
    "plot!(plt, cov_l , cov_l)"
   ]
  },
  {
   "cell_type": "code",
   "execution_count": null,
   "id": "7eaf0926",
   "metadata": {
    "scrolled": false
   },
   "outputs": [],
   "source": [
    "plt = plot(xlabel=\"h (mV)\", ylabel=\"E Rate\", fmt = :png, legend=:bottomright)\n",
    "plot!(plt, h_arr, rates_ssn[:,1], label = \"linear\")\n",
    "plot!(plt, h_arr, rates_hawkes_linear[:,1], label = \"hawkes\")"
   ]
  },
  {
   "cell_type": "code",
   "execution_count": null,
   "id": "53065a04",
   "metadata": {
    "scrolled": false
   },
   "outputs": [],
   "source": [
    "plt = plot(xlabel=\"h (mV)\", ylabel=\"I Rate\", fmt = :png, legend=:bottomright)\n",
    "plot!(plt, h_arr, rates_ssn[:,2], label = \"linear\")\n",
    "plot!(plt, h_arr, rates_hawkes_linear[:,2], label = \"hawkes\")"
   ]
  },
  {
   "cell_type": "code",
   "execution_count": null,
   "id": "e38e10a8",
   "metadata": {},
   "outputs": [],
   "source": [
    "plt = plot(xlabel=\"h (mV)\", ylabel=\"covE\", fmt = :png, legend=:bottomright)\n",
    "plot!(plt, h_arr , covE_h, label=\"hawkes\")\n",
    "plot!(plt, h_arr , covE_l, label=\"linear\")"
   ]
  },
  {
   "cell_type": "code",
   "execution_count": null,
   "id": "045ad7c5",
   "metadata": {},
   "outputs": [],
   "source": [
    "plt = plot(xlabel=\"h (mV)\", ylabel=\"covI\", fmt = :png, legend=:bottomright)\n",
    "plot!(plt, h_arr , covI_h, label=\"hawkes\")\n",
    "plot!(plt, h_arr , covI_l, label=\"linear\")"
   ]
  },
  {
   "cell_type": "code",
   "execution_count": null,
   "id": "5350e87e",
   "metadata": {},
   "outputs": [],
   "source": [
    "plt = plot(xlabel=\"h (mV)\", ylabel=\"covEI\", fmt = :png, legend=:bottomright)\n",
    "plot!(plt, h_arr , covEI_h, label=\"hawkes\")\n",
    "plot!(plt, h_arr , covEI_l, label=\"linear\")"
   ]
  },
  {
   "cell_type": "code",
   "execution_count": null,
   "id": "40c9bf2c",
   "metadata": {},
   "outputs": [],
   "source": [
    "covEI_l_abs = abs.(covEI_l)\n",
    "plt = plot(xlabel=\"h (mV)\", ylabel=\"covEI\", fmt = :png, legend=:bottomright)\n",
    "plot!(plt, h_arr , covEI_h, label=\"hawkes\")\n",
    "plot!(plt, h_arr , covEI_l_abs, label=\"linear\")"
   ]
  },
  {
   "cell_type": "code",
   "execution_count": null,
   "id": "75dd5b73",
   "metadata": {},
   "outputs": [],
   "source": [
    "plt = plot(xlabel=\"h\", ylabel=\"Rate\")\n",
    "plot!(plt, h_arr , rates_ssn[:,1], label = \"rates_ssnE\")\n",
    "plot!(plt, h_arr , rates_ssn[:,2], label = \"rates_ssnI\")"
   ]
  },
  {
   "cell_type": "code",
   "execution_count": null,
   "id": "08112ddb",
   "metadata": {},
   "outputs": [],
   "source": [
    "plt = plot(xlabel=\"h\", ylabel=\"Rate\")\n",
    "plot!(plt, h_arr , rates_hawkes_linear[:,1], label = \"rates_hawkes_linearE\")\n",
    "plot!(plt, h_arr , rates_hawkes_linear[:,2], label = \"rates_hawkes_linearI\")"
   ]
  },
  {
   "cell_type": "code",
   "execution_count": null,
   "id": "bb9f3df4",
   "metadata": {},
   "outputs": [],
   "source": []
  }
 ],
 "metadata": {
  "kernelspec": {
   "display_name": "Julia 1.6.2",
   "language": "julia",
   "name": "julia-1.6"
  },
  "language_info": {
   "file_extension": ".jl",
   "mimetype": "application/julia",
   "name": "julia",
   "version": "1.6.2"
  }
 },
 "nbformat": 4,
 "nbformat_minor": 5
}
