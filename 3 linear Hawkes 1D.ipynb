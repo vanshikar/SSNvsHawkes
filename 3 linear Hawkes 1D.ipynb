{
 "cells": [
  {
   "cell_type": "markdown",
   "id": "037ae4df",
   "metadata": {},
   "source": [
    "# Plotting Excitation function, raster plot and spike count for a 1D Linear Hawkes process"
   ]
  },
  {
   "cell_type": "code",
   "execution_count": null,
   "id": "c101fa8b",
   "metadata": {},
   "outputs": [],
   "source": [
    "# Installation\n",
    "using Revise\n",
    "using LinearAlgebra,Statistics,StatsBase,Distributions\n",
    "using Plots,NamedColors ; theme(:default)\n",
    "using FFTW\n",
    "using ProgressMeter\n",
    "using Random\n",
    "Random.seed!(0)\n",
    "using HawkesSimulator; const global H = HawkesSimulator"
   ]
  },
  {
   "cell_type": "code",
   "execution_count": null,
   "id": "58b10f44",
   "metadata": {},
   "outputs": [],
   "source": [
    "function onedmat(x::Real)\n",
    "  return cat(x;dims=2)\n",
    "end"
   ]
  },
  {
   "cell_type": "code",
   "execution_count": null,
   "id": "bdf26172",
   "metadata": {},
   "outputs": [],
   "source": [
    "function interaction(t::R,weights_in::AbstractVector{<:R},prepop::H.PopulationState,\n",
    "    upperbound::Bool) where R\n",
    "  ret = 0.0\n",
    "  for (j,w) in enumerate(weights_in)\n",
    "    train = prepop.trains_history[j]\n",
    "    ret += H.interaction(t,train,w,prepop.populationtype,upperbound)\n",
    "  end\n",
    "  return ret\n",
    "end"
   ]
  },
  {
   "cell_type": "code",
   "execution_count": null,
   "id": "a4b4d843",
   "metadata": {},
   "outputs": [],
   "source": [
    "mytau = 0.5  # kernel time constant\n",
    "pop = H.PopulationExp(mytau);"
   ]
  },
  {
   "cell_type": "code",
   "execution_count": null,
   "id": "054c5048",
   "metadata": {},
   "outputs": [],
   "source": [
    "function doplot()\n",
    "  ts = range(-1.0,5;length=150)\n",
    "  y = map(t->H.interaction_kernel(t,pop) , ts )\n",
    "  plot(ts , y,leg=false,xlabel=\"time (s)\", ylabel=\"interaction kernel\", fmt=:png, color=\"black\")\n",
    "end\n",
    "\n",
    "doplot()"
   ]
  },
  {
   "cell_type": "code",
   "execution_count": null,
   "id": "b0774a4f",
   "metadata": {},
   "outputs": [],
   "source": [
    "# Simulation\n",
    "\n",
    "function simulate!(networks, num_spikes)\n",
    "    t_now = 0.0\n",
    "    H.reset!.(networks) # clear spike trains etc\n",
    "    @showprogress 1.0 \"Running Hawkes process...\" for k in 1:num_spikes\n",
    "        t_now = H.dynamics_step!(t_now, networks)\n",
    "        if k%1_000 == 0\n",
    "            H.clear_trains!(networks[1].postpops)\n",
    "#             H.clear_trains!(networks[2].postpops)\n",
    "        end # clearing trains after every 1000 spikes\n",
    "    end\n",
    "    return t_now\n",
    "end"
   ]
  },
  {
   "cell_type": "code",
   "execution_count": null,
   "id": "1e47ef07",
   "metadata": {},
   "outputs": [],
   "source": [
    "# Initialization\n",
    "tau_E = 1.0\n",
    "# tau_I = 10.0\n",
    "\n",
    "pop_E = H.PopulationExp(tau_E)\n",
    "# pop_I = H.PopulationExp(tau_I)\n",
    "w = [0.85]\n",
    "# w = [1.25 -0.65\n",
    "#     1.2 -0.5]\n",
    "# k = 0.03\n",
    "# w = w .* k"
   ]
  },
  {
   "cell_type": "code",
   "execution_count": null,
   "id": "8006fb46",
   "metadata": {},
   "outputs": [],
   "source": [
    "h = 0.7\n",
    "baseline_rate = [h]\n",
    "popstate_E = H.PopulationState(pop_E,baseline_rate)\n",
    "# popstate_I = H.PopulationState(pop_I, baseline_rate)\n",
    "\n",
    "# Creating network\n",
    "# network_E = H.InputNetwork(popstate_E,[popstate_E, popstate_I],[onedmat(w[1,1]),onedmat(w[1,2])])\n",
    "# network_I = H.InputNetwork(popstate_I,[popstate_E, popstate_I],[onedmat(w[2,1]),onedmat(w[2,2])])\n",
    "network_E = H.InputNetwork(popstate_E,[popstate_E],[onedmat(w[1,1])])\n",
    "n_spikes = 90000\n",
    "# Tmax = simulate!([network_E, network_I],n_spikes)\n",
    "Tmax = simulate!([network_E],n_spikes)"
   ]
  },
  {
   "cell_type": "code",
   "execution_count": null,
   "id": "1e8af203",
   "metadata": {},
   "outputs": [],
   "source": [
    "numrate_E = H.numerical_rates(popstate_E)\n",
    "# numrate_I = H.numerical_rates(popstate_I)\n",
    "# print(numrate_E, numrate_I)\n",
    "print(numrate_E)"
   ]
  },
  {
   "cell_type": "code",
   "execution_count": null,
   "id": "7b32ca9b",
   "metadata": {
    "scrolled": true
   },
   "outputs": [],
   "source": [
    "length(popstate_E.trains_history[1])"
   ]
  },
  {
   "cell_type": "code",
   "execution_count": null,
   "id": "f6c939cd",
   "metadata": {},
   "outputs": [],
   "source": [
    "function plot_count(points)\n",
    "    y = collect(1:length(points))\n",
    "    plt = plot(xlabel=\"time (s)\", ylabel=\"count\", fmt=:png, legend=:bottomright)\n",
    "    plot!(plt, points, y, label = \"N(t)\")\n",
    "    expected_y = points .* expected_lambda[1]\n",
    "    plot!(plt, points, expected_y, label = \"E[N(t)]\")\n",
    "end\n",
    "\n",
    "function plot_count(points_E, remean)\n",
    "    y3 = collect(1:length(points_E))\n",
    "    plt = plot(xlabel=\"time (s)\", ylabel=\"Spike Count\", legend=:bottomright, fmt=:png)\n",
    "    plot!(plt, points_E, y3, label = \"N_E(t)\", color=\"blue\", linetype=:steppost)\n",
    "end\n",
    "function plot_count(points_E, points_I, remean, rimean)\n",
    "    y3 = collect(1:length(points_E))\n",
    "    plt = plot(xlabel=\"time (s)\", ylabel=\"Spike Count\", legend=:bottomright, fmt=:png)\n",
    "    plot!(plt, points_E, y3, label = \"N_E(t)\", color=\"blue\")\n",
    "    y1 = zeros(length(points_E))\n",
    "    y2 = zeros(length(points_I))\n",
    "    for i in 1:length(points_E)\n",
    "        y1[i] = remean*(points_E[i]-points_E[1])\n",
    "    end\n",
    "    for i in 1:length(points_I)\n",
    "        y2[i] = rimean*(points_I[i]-points_I[1])\n",
    "    end\n",
    "    y4 = collect(1:length(points_I))\n",
    "    plot!(plt, points_I, y4, label = \"N_I(t)\", color=\"red\")\n",
    "    plot!(plt, points_E,y1, label=\"E[N_E(t)]\", color=\"dark blue\")\n",
    "    plot!(plt, points_I,y2, label=\"E[N_I(t)]\", color=\"dark red\")\n",
    "end"
   ]
  },
  {
   "cell_type": "code",
   "execution_count": null,
   "id": "f88d151b",
   "metadata": {},
   "outputs": [],
   "source": [
    "function rasterplot(tlims = (20.,50) )\n",
    "  _trainE = popstate_E.trains_history[1]\n",
    "  plt=plot()\n",
    "  trainE = filter(t-> tlims[1]< t < tlims[2],_trainE)\n",
    "  nspk = length(trainE)\n",
    "  scatter!(plt,trainE,fill(0.5,nspk),markersize=50, markercolor=:blue,markershape=:vline,legend=:topright, label=\"Excitatory\")\n",
    "#   _trainI = popstate_I.trains_history[1]\n",
    "#     trainI = filter(t-> tlims[1]< t < tlims[2],_trainI)\n",
    "#   nspk = length(trainI)\n",
    "#   scatter!(plt,trainI,fill(1,nspk),markersize=35, markercolor=:red,markershape=:vline,legend=:topright, label=\"Inhibitory\")\n",
    "  plot!(plt,ylims=(0,1),xlabel=\"time (s)\",fmt=:png)\n",
    "end\n",
    "\n",
    "rasterplot()"
   ]
  },
  {
   "cell_type": "code",
   "execution_count": null,
   "id": "d32c5683",
   "metadata": {},
   "outputs": [],
   "source": [
    "plot_count(popstate_E.trains_history[1][82:170], numrate_E[1])"
   ]
  },
  {
   "cell_type": "code",
   "execution_count": null,
   "id": "27e2c98a",
   "metadata": {},
   "outputs": [],
   "source": [
    "function findrate(t_now::Real,inp::H.InputNetwork,ineu::Integer;upperbound::Bool=false)\n",
    "  ret = 0.0\n",
    "  for (w,prepop) in zip(inp.weights,inp.prepops)\n",
    "    w_in = view(w,ineu,:)\n",
    "    ret += interaction(t_now,w_in,prepop,upperbound)\n",
    "  end\n",
    "  return ret\n",
    "end"
   ]
  },
  {
   "cell_type": "code",
   "execution_count": null,
   "id": "809929d4",
   "metadata": {},
   "outputs": [],
   "source": [
    "# Excitation Function vs Time\n",
    "function  plot_excitation(networks, tlims=(0,1500))\n",
    "    num_neurons = size(networks,1)\n",
    "#     trainsh = [networks[1].postpops.trains_history[1], networks[2].postpops.trains_history[1]]\n",
    "    trainsh = [networks[1].postpops.trains_history[1]]\n",
    "    global expected_lambda = H.numerical_rate.(trainsh)\n",
    "    times = range(tlims...;length=100)\n",
    "    for i in 1:num_neurons\n",
    "        trains = filter(t-> tlims[1]<=t<=tlims[2],trainsh[i])\n",
    "        times = sort(vcat(times, trains))\n",
    "    end\n",
    "    plt = plot(xlabel=\"time (s)\", ylabel=\"Rate (Hz)\", fmt=:png, legend=:bottomright)\n",
    "    y_vector = Array{Float64}(undef, length(times), num_neurons)\n",
    "    expected_lambda_vector = zeros(Float64, length(times), num_neurons)\n",
    "    for i in 1:num_neurons\n",
    "        y_vector[:,i] = map(t->findrate(t,networks[i],1;upperbound=false), times)\n",
    "#         println(y_vector[:,1])\n",
    "        y_vector[:,i] = y_vector[:,i] .+ baseline_rate[1]\n",
    "        expected_lambda_vector[:,i] = expected_lambda_vector[:,i] .+ expected_lambda[i]\n",
    "    end\n",
    "    plot!(plt, times , y_vector[:,1], label = \"rate_E(t)\", color=\"blue\")\n",
    "#     plot!(plt, times , y_vector[:,2], label = \"rate_I(t)\", color=\"red\")\n",
    "    plot!(plt, times , expected_lambda_vector[:,1], label = \"E[rate_E(t)]\", color=\"dark blue\", linestyle=:dash)\n",
    "#     plot!(plt, times , expected_lambda_vector[:,2], label = \"E[rate_I(t)]\", color=\"dark red\")\n",
    "end"
   ]
  },
  {
   "cell_type": "code",
   "execution_count": null,
   "id": "e4ee78c4",
   "metadata": {},
   "outputs": [],
   "source": [
    "plot_excitation([network_E], (20, 50))"
   ]
  },
  {
   "cell_type": "code",
   "execution_count": null,
   "id": "9c130de5",
   "metadata": {},
   "outputs": [],
   "source": []
  }
 ],
 "metadata": {
  "kernelspec": {
   "display_name": "Julia 1.6.2",
   "language": "julia",
   "name": "julia-1.6"
  },
  "language_info": {
   "file_extension": ".jl",
   "mimetype": "application/julia",
   "name": "julia",
   "version": "1.6.2"
  }
 },
 "nbformat": 4,
 "nbformat_minor": 5
}
