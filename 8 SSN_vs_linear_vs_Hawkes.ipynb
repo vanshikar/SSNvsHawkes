{
 "cells": [
  {
   "cell_type": "markdown",
   "id": "b7020ac5",
   "metadata": {},
   "source": [
    "# Comparing SSN with the corresponding linearly approximated models and the corresponding linear Hawkes models"
   ]
  },
  {
   "cell_type": "code",
   "execution_count": null,
   "id": "efabdfb3",
   "metadata": {
    "scrolled": true
   },
   "outputs": [],
   "source": [
    "# Installation\n",
    "using Revise\n",
    "using LinearAlgebra,Statistics,StatsBase,Distributions\n",
    "using Plots,NamedColors ; theme(:default)\n",
    "using FFTW\n",
    "using ProgressMeter\n",
    "using Random\n",
    "Random.seed!(0)\n",
    "using HawkesSimulator; const global H = HawkesSimulator"
   ]
  },
  {
   "cell_type": "code",
   "execution_count": null,
   "id": "253a01f1",
   "metadata": {},
   "outputs": [],
   "source": [
    "function onedmat(x::Real)\n",
    "  return cat(x;dims=2)\n",
    "end"
   ]
  },
  {
   "cell_type": "code",
   "execution_count": null,
   "id": "aabefc4d",
   "metadata": {
    "scrolled": true
   },
   "outputs": [],
   "source": [
    "function rate_powerlaw(v::Float64, v_rest::Real, n::Real, k::Real)\n",
    "    diff = v - v_rest\n",
    "    diff = (diff < 0) ? 0 : diff\n",
    "    return k*(diff^n)\n",
    "end"
   ]
  },
  {
   "cell_type": "code",
   "execution_count": null,
   "id": "5316f3c3",
   "metadata": {
    "scrolled": true
   },
   "outputs": [],
   "source": [
    "# Euler Method\n",
    "function dv_ssn(v::Float64, v_rest::Real, h_i::Float64, noise_i::Float64, tau_i::Float64, w_arr::Vector{Float64}, rate_arr::Vector{Float64})\n",
    "    num_neurons = size(w_arr, 1)\n",
    "    dv = h_i - v + v_rest\n",
    "    for i in 1:num_neurons\n",
    "        dv += w_arr[i]*rate_arr[i]\n",
    "    end\n",
    "    return dv*time_step/tau_i\n",
    "end"
   ]
  },
  {
   "cell_type": "code",
   "execution_count": null,
   "id": "b241fd34",
   "metadata": {
    "scrolled": true
   },
   "outputs": [],
   "source": [
    "function simulate_with_v!(h, n, w, k, num_steps, t_arr, v_excite, v_excite_rest, v_inhibit, v_inhibit_rest, rate, tau)\n",
    "    \n",
    "    @showprogress 1.0 \"Running SSN simulation...\" for i in 2:num_steps\n",
    "        \n",
    "        rate[i,:] = [rate_powerlaw(v_excite[i-1], v_excite_rest, n, k) , rate_powerlaw(v_inhibit[i-1], v_inhibit_rest, n, k)]\n",
    "        v_excite[i] = v_excite[i-1] + dv_ssn(v_excite[i-1], v_excite_rest, h[1], noise[1], tau[1], [w[1,1], w[1,2]], rate[i,:])\n",
    "        v_inhibit[i] = v_inhibit[i-1] + dv_ssn(v_inhibit[i-1], v_inhibit_rest, h[2], noise[2], tau[2], [w[2,1], w[2,2]], rate[i,:])\n",
    "        t_arr[i] = t_arr[i-1] + time_step\n",
    "    end\n",
    "    \n",
    "end"
   ]
  },
  {
   "cell_type": "code",
   "execution_count": null,
   "id": "aee6f1f8",
   "metadata": {
    "scrolled": true
   },
   "outputs": [],
   "source": [
    "function create_parameters_for_approximation!(w_linear, h_linear, w_ssn, k_ssn, h_ssn, rate_ssn_stable::Vector{Float64})\n",
    "    \n",
    "    w_linear[1,1] = 3*w_ssn[1,1]*sqrt(k_ssn*rate_ssn_stable[1]) + sqrt(k_ssn/rate_ssn_stable[1])*(h_ssn[1]+w_ssn[1,2]*rate_ssn_stable[2])\n",
    "    w_linear[1,2] = 2*w_ssn[1,2]*sqrt(k_ssn*rate_ssn_stable[1])\n",
    "    w_linear[2,1] = 2*w_ssn[2,1]*sqrt(k_ssn*rate_ssn_stable[2])\n",
    "    w_linear[2,2] = 3*w_ssn[2,2]*sqrt(k_ssn*rate_ssn_stable[2]) + sqrt(k_ssn/rate_ssn_stable[2])*(h_ssn[2]+w_ssn[2,1]*rate_ssn_stable[1])\n",
    "    \n",
    "    \n",
    "    h_linear[1] = (2-w_linear[1,1])*rate_ssn_stable[1] - w_linear[1,2]*rate_ssn_stable[2]\n",
    "    h_linear[2] = (2-w_linear[2,2])*rate_ssn_stable[2] - w_linear[2,1]*rate_ssn_stable[1]\n",
    "\n",
    "end"
   ]
  },
  {
   "cell_type": "code",
   "execution_count": null,
   "id": "cae7dafa",
   "metadata": {
    "scrolled": true
   },
   "outputs": [],
   "source": [
    "# Euler Method\n",
    "function dr_linear(r::Real, h_i::Real, tau_i::Real, w_arr::Vector{Float64}, rate_arr::Vector{Float64})\n",
    "    num_neurons = size(w_arr, 1)\n",
    "    dr = h_i - 2*r\n",
    "    for i in 1:num_neurons\n",
    "        dr += w_arr[i]*rate_arr[i]\n",
    "    end\n",
    "    return dr*time_step/tau_i\n",
    "end"
   ]
  },
  {
   "cell_type": "code",
   "execution_count": null,
   "id": "114a445c",
   "metadata": {
    "scrolled": true
   },
   "outputs": [],
   "source": [
    "function simulate_linear_with_r!(h, w, tau, num_steps, t_arr, rate)\n",
    "    \n",
    "    @showprogress 1.0 \"Running linear simulation...\" for i in 2:num_steps\n",
    "        \n",
    "        rate[i,1] = rate[i-1,1] + dr_linear(rate[i-1,1], h[1], tau[1], [w[1,1], w[1,2]], rate[i-1,:])\n",
    "        rate[i,2] = rate[i-1,2] + dr_linear(rate[i-1,2], h[2], tau[2], [w[2,1], w[2,2]], rate[i-1,:])\n",
    "        t_arr[i] = t_arr[i-1] + time_step\n",
    "        \n",
    "    end\n",
    "    \n",
    "end"
   ]
  },
  {
   "cell_type": "code",
   "execution_count": null,
   "id": "a6281e8b",
   "metadata": {},
   "outputs": [],
   "source": [
    "function simulate_hawkes!(networks, num_spikes)\n",
    "    t_now = 0.0\n",
    "    H.reset!.(networks) # clear spike trains etc\n",
    "    for k in 1:num_spikes\n",
    "        t_now = H.dynamics_step!(t_now, networks)\n",
    "        if k%1_000 == 0\n",
    "            H.clear_trains!(networks[1].postpops)\n",
    "            H.clear_trains!(networks[2].postpops)\n",
    "        end # clearing trains after every 1000 spikes\n",
    "    end\n",
    "    return t_now\n",
    "end"
   ]
  },
  {
   "cell_type": "code",
   "execution_count": null,
   "id": "0ff585ef",
   "metadata": {},
   "outputs": [],
   "source": [
    "function compare_single_h(h_ssn)\n",
    "    t_max = 1\n",
    "    num_steps = Int(ceil(t_max/time_step))\n",
    "    t_arr = zeros(num_steps)\n",
    "    \n",
    "#    # SSN\n",
    "    v_excite_ssn = zeros(num_steps)\n",
    "    v_inhibit_ssn = zeros(num_steps)\n",
    "    v_excite_ssn[1] = v_rest\n",
    "    v_inhibit_ssn[1] = v_rest\n",
    "    rate_ssn = zeros(num_steps, 2)\n",
    "    h = [h_ssn, h_ssn]\n",
    "    simulate_with_v!(h, n_ssn, w_ssn, k_ssn, num_steps, t_arr, v_excite_ssn, v_rest, v_inhibit_ssn, v_rest, rate_ssn, tau_ssn)\n",
    "    \n",
    "#     # Linear\n",
    "    w_linear = [0.0 0.0\n",
    "                0.0 0.0]\n",
    "    h_linear = zeros(2)\n",
    "    create_parameters_for_approximation!(w_linear, h_linear, w_ssn, k_ssn, h, rate_ssn[num_steps,:])\n",
    "    rate_linear = zeros(num_steps, 2)\n",
    "    simulate_linear_with_r!(h_linear, w_linear, tau_linear, num_steps, t_arr, rate_linear)\n",
    "    \n",
    "#     # Hawkes\n",
    "    w_hawkes = w_linear ./ 2\n",
    "    baseline_rate = h_linear ./ 2\n",
    "    # this division by 2 is essentially taking a common factor of 2 out from eq. 3.22 of the report,\n",
    "    # this was not done in the linear case to avoid working with extremely small numbers,\n",
    "    # but cannot be ignored for the hawkes case to be able to use to previous code from the linear rate model and linear hawkes comparison\n",
    "    n_spikes = 500_000\n",
    "    tau_E = 10.0\n",
    "    tau_I = 5.0\n",
    "    pop_E = H.PopulationExp(tau_E, H.NLIdentity())\n",
    "    pop_I = H.PopulationExp(tau_I, H.NLIdentity())\n",
    "    popstate_E = H.PopulationState(pop_E,[baseline_rate[1]])\n",
    "    popstate_I = H.PopulationState(pop_I, [baseline_rate[2]])\n",
    "    network_E = H.InputNetwork(popstate_E,[popstate_E, popstate_I],[onedmat(w_hawkes[1,1]),onedmat(w_hawkes[1,2])])\n",
    "    network_I = H.InputNetwork(popstate_I,[popstate_E, popstate_I],[onedmat(w_hawkes[2,1]),onedmat(w_hawkes[2,2])])\n",
    "    simulate_hawkes!([network_E, network_I],n_spikes)\n",
    "    rate_hawkes_linear = [H.numerical_rate(popstate_E.trains_history[1][1000:end]), H.numerical_rate(popstate_I.trains_history[1][1000:end])]\n",
    "    return rate_ssn, rate_linear, rate_hawkes_linear, v_excite_ssn, v_inhibit_ssn, t_arr\n",
    "end"
   ]
  },
  {
   "cell_type": "code",
   "execution_count": null,
   "id": "28cbefa8",
   "metadata": {},
   "outputs": [],
   "source": [
    "# Initializing SSN variables\n",
    "# one E, one I population\n",
    "\n",
    "v_rest = -70\n",
    "tau_ssn = [20.0, 10.0]*1E-3   #time constant, [ E, I ]\n",
    "tau_linear = [10.0, 5.0]*1E-3\n",
    "time_step = 0.1*1E-3\n",
    "noise = [0.0 0.0] #ignoring\n",
    "\n",
    "k_ssn = 0.3\n",
    "n_ssn = 2\n",
    "w_ssn = [1.25 -0.65\n",
    "         1.2 -0.5]\n",
    "h_ssn = 12.0\n",
    "rate_ssn, rate_linear, rate_hawkes_linear, v_excite_ssn, v_inhibit_ssn, t_arr = compare_single_h(h_ssn)\n",
    "println(rate_ssn[end,:])\n",
    "println(rate_linear[end,:])\n",
    "println(rate_hawkes_linear)"
   ]
  },
  {
   "cell_type": "code",
   "execution_count": null,
   "id": "a8dd2d24",
   "metadata": {},
   "outputs": [],
   "source": [
    "plt = plot( xlabel=\"time (s)\", ylabel=\"E Rate (Hz)\", fmt=:png, legend=:bottomright)\n",
    "plot!(plt, t_arr , rate_ssn[:,1], label = \"ssn\", color=\"blue\")\n",
    "plot!(plt, t_arr , rate_linear[:,1], label = \"linear\", color=\"dark blue\")\n",
    "rate_hawkes_linear_arr = zeros(length(t_arr),2)\n",
    "for i in 1:length(t_arr)\n",
    "    rate_hawkes_linear_arr[i,1] = rate_hawkes_linear[1]\n",
    "    rate_hawkes_linear_arr[i,2] = rate_hawkes_linear[2]\n",
    "end\n",
    "plot!(plt, t_arr , rate_hawkes_linear_arr[:,1], label = \"hawkes\", color=\"purple\", linestyle=:dash)"
   ]
  },
  {
   "cell_type": "code",
   "execution_count": null,
   "id": "235ccde3",
   "metadata": {},
   "outputs": [],
   "source": [
    "plt = plot( xlabel=\"time (s)\", ylabel=\"I Rate (Hz)\", fmt=:png, legend=:bottomright)\n",
    "plot!(plt, t_arr , rate_ssn[:,2], label = \"ssn\", color=\"red\")\n",
    "plot!(plt, t_arr , rate_linear[:,2], label = \"linear\", color=\"dark red\")\n",
    "plot!(plt, t_arr , rate_hawkes_linear_arr[:,2], label = \"hawkes\", color=\"black\", linestyle=:dash)"
   ]
  },
  {
   "cell_type": "code",
   "execution_count": null,
   "id": "10f2c740",
   "metadata": {
    "scrolled": true
   },
   "outputs": [],
   "source": [
    "# Extending for multiple h values\n",
    "function compare()\n",
    "    \n",
    "    for i in 2:num_h\n",
    "        h_ssn[i,:] = h_ssn[i-1,:] .+ step\n",
    "    end\n",
    "    \n",
    "    @showprogress 1.0 \"Running for multiple h...\" for i in 1:num_h\n",
    "        t_max = 1\n",
    "        num_steps = Int(ceil(t_max/time_step))\n",
    "        t_arr = zeros(num_steps)\n",
    "        # SSN\n",
    "        v_excite_ssn = zeros(num_steps)\n",
    "        v_inhibit_ssn = zeros(num_steps)\n",
    "        rate_ssn = zeros(num_steps, 2)\n",
    "        simulate_with_v!(h_ssn[i,:], n_ssn, w_ssn, k_ssn, num_steps, t_arr, v_excite_ssn, v_rest, v_inhibit_ssn, v_rest, rate_ssn, tau_ssn)\n",
    "        rates_ssn[i,:] = rate_ssn[num_steps,:]\n",
    "        # Linear\n",
    "        w_linear = [0.0 0.0\n",
    "                    0.0 0.0]\n",
    "        h_linear = zeros(2)\n",
    "        create_parameters_for_approximation!(w_linear, h_linear, w_ssn, k_ssn, h_ssn, rate_ssn[num_steps,:])\n",
    "        rate_linear = zeros(num_steps, 2)\n",
    "        simulate_linear_with_r!(h_linear, w_linear, tau_linear, num_steps, t_arr, rate_linear)\n",
    "        rates_linear[i,:] = rate_linear[num_steps,:]\n",
    "        # Hawkes\n",
    "        w_hawkes = w_linear ./ 2\n",
    "        baseline_rate = h_linear ./ 2\n",
    "        n_spikes = 500_000\n",
    "        tau_E = 10.0\n",
    "        tau_I = 5.0\n",
    "        pop_E = H.PopulationExp(tau_E, H.NLIdentity())\n",
    "        pop_I = H.PopulationExp(tau_I, H.NLIdentity())\n",
    "        popstate_E = H.PopulationState(pop_E,[baseline_rate[1]])\n",
    "        popstate_I = H.PopulationState(pop_I, [baseline_rate[2]])\n",
    "        network_E = H.InputNetwork(popstate_E,[popstate_E, popstate_I],[onedmat(w_hawkes[1,1]),onedmat(w_hawkes[1,2])])\n",
    "        network_I = H.InputNetwork(popstate_I,[popstate_E, popstate_I],[onedmat(w_hawkes[2,1]),onedmat(w_hawkes[2,2])])\n",
    "        simulate_hawkes!([network_E, network_I],n_spikes)\n",
    "        rates_hawkes_linear[i,:] = [H.numerical_rate(popstate_E.trains_history[1][1000:end]), H.numerical_rate(popstate_I.trains_history[1][1000:end])]\n",
    "    end\n",
    "end"
   ]
  },
  {
   "cell_type": "code",
   "execution_count": null,
   "id": "9b03f2df",
   "metadata": {
    "scrolled": true
   },
   "outputs": [],
   "source": [
    "# Initializing SSN variables\n",
    "# one E, one I population\n",
    "\n",
    "v_rest = -70\n",
    "tau_ssn = [20.0, 10.0]*1E-3   #time constant, [ E, I ]\n",
    "tau_linear = [10.0, 5.0]*1E-3\n",
    "time_step = 0.1*1E-2\n",
    "noise = [0.0 0.0] #ignoring\n",
    "\n",
    "k_ssn = 0.3\n",
    "n_ssn = 2\n",
    "w_ssn = [1.25 -0.65\n",
    "         1.2 -0.5]"
   ]
  },
  {
   "cell_type": "code",
   "execution_count": null,
   "id": "03ddb439",
   "metadata": {},
   "outputs": [],
   "source": [
    "h_max = 20.0\n",
    "h_min = 1.0\n",
    "step = 1\n",
    "num_h = Int(ceil((h_max-h_min+1)/step))\n",
    "h_ssn = zeros(num_h,2)\n",
    "h_ssn[1,:] = [h_min, h_min]\n",
    "rates_ssn = zeros(num_h,2)\n",
    "rates_linear = zeros(num_h,2)\n",
    "rates_hawkes_linear = zeros(num_h,2)\n",
    "\n",
    "compare()"
   ]
  },
  {
   "cell_type": "code",
   "execution_count": null,
   "id": "4d1358aa",
   "metadata": {},
   "outputs": [],
   "source": [
    "plt = plot( xlabel=\"h (mV)\", ylabel=\"E Rate (Hz)\", fmt=:png, legend=:bottomright)\n",
    "plot!(plt, h_ssn[:,1] , rates_ssn[:,1], label = \"ssn\")\n",
    "plot!(plt, h_ssn[:,1] , rates_linear[:,1], label = \"linear\")\n",
    "plot!(plt, h_ssn[:,1] , rates_hawkes_linear[:,1], label = \"hawkes\")"
   ]
  },
  {
   "cell_type": "code",
   "execution_count": null,
   "id": "642b030e",
   "metadata": {},
   "outputs": [],
   "source": [
    "plt = plot(xlabel=\"h (mV)\", ylabel=\"I Rate (Hz)\", fmt=:png, legend=:bottomright)\n",
    "plot!(plt, h_ssn[:,1] , rates_ssn[:,2], label = \"ssn\")\n",
    "plot!(plt, h_ssn[:,1] , rates_linear[:,2], label = \"linear\")\n",
    "plot!(plt, h_ssn[:,1] , rates_hawkes_linear[:,2], label = \"hawkes\")"
   ]
  },
  {
   "cell_type": "code",
   "execution_count": null,
   "id": "a10daadd",
   "metadata": {},
   "outputs": [],
   "source": [
    "y_e = zeros(num_h)\n",
    "y_i = zeros(num_h)\n",
    "for i in 1:num_h\n",
    "    y_e[i] = 2*abs(rates_hawkes_linear[i,1] - rates_linear[i,1])/(rates_hawkes_linear[i,1] + rates_linear[i,1])\n",
    "    y_i[i] = 2*abs(rates_hawkes_linear[i,2] - rates_linear[i,2])/(rates_hawkes_linear[i,2] + rates_linear[i,2])\n",
    "end\n",
    "plt = plot(xlabel = \"h\", ylabel=\"relative error\", fmt=:png)\n",
    "plot!(plt, h_ssn[:,1], y_e, label=\"E\", color=\"blue\")\n",
    "plot!(plt, h_ssn[:,1], y_i, label=\"I\", color=\"red\")"
   ]
  },
  {
   "cell_type": "code",
   "execution_count": null,
   "id": "a78d1e7d",
   "metadata": {},
   "outputs": [],
   "source": [
    "y_e = zeros(num_h)\n",
    "y_i = zeros(num_h)\n",
    "for i in 1:num_h\n",
    "    y_e[i] = abs(rates_hawkes_linear[i,1] - rates_linear[i,1])\n",
    "    y_i[i] = abs(rates_hawkes_linear[i,2] - rates_linear[i,2])\n",
    "end\n",
    "plt = plot(xlabel = \"h\", ylabel=\"absolute error\", fmt=:png)\n",
    "plot!(plt, h_ssn[:,1], y_e, label=\"E\", color=\"blue\")\n",
    "plot!(plt, h_ssn[:,1], y_i, label=\"I\", color=\"red\")"
   ]
  },
  {
   "cell_type": "code",
   "execution_count": null,
   "id": "183d5795",
   "metadata": {},
   "outputs": [],
   "source": []
  }
 ],
 "metadata": {
  "kernelspec": {
   "display_name": "Julia 1.6.2",
   "language": "julia",
   "name": "julia-1.6"
  },
  "language_info": {
   "file_extension": ".jl",
   "mimetype": "application/julia",
   "name": "julia",
   "version": "1.6.2"
  }
 },
 "nbformat": 4,
 "nbformat_minor": 5
}
