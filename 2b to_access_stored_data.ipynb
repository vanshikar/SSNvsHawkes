{
 "cells": [
  {
   "cell_type": "code",
   "execution_count": null,
   "id": "4c7bc8c6",
   "metadata": {},
   "outputs": [],
   "source": [
    "# Installation\n",
    "using Revise\n",
    "using LinearAlgebra,Statistics,StatsBase,Distributions\n",
    "using Plots,NamedColors ; theme(:default)\n",
    "using FFTW\n",
    "using ProgressMeter\n",
    "using Random\n",
    "using JLD\n",
    "Random.seed!(0)"
   ]
  },
  {
   "cell_type": "code",
   "execution_count": null,
   "id": "ccff6c3e",
   "metadata": {},
   "outputs": [],
   "source": [
    "# Each neuron will have:\n",
    "# tau, J vector, a(t), rate(t), V(t), spike_train     (for now, all E have same tau, all I have same tau)\n",
    "\n",
    "struct neuron\n",
    "    spike_train::Vector{Float64}\n",
    "    v::Vector{Float64}\n",
    "    rate::Vector{Float64}\n",
    "    a::Vector{Float64}\n",
    "    j_e::Vector{Bool}\n",
    "    j_i::Vector{Bool}   \n",
    "end"
   ]
  },
  {
   "cell_type": "code",
   "execution_count": null,
   "id": "99bca127",
   "metadata": {
    "scrolled": true
   },
   "outputs": [],
   "source": [
    "excitatory_neuron = load(\"/tmp/ssn_large.jld\", \"excitatory_neuron\")\n",
    "inhibitory_neuron = load(\"/tmp/ssn_large.jld\", \"inhibitory_neuron\")\n",
    "t_arr = load(\"/tmp/ssn_large.jld\", \"t_arr\")\n",
    "println()"
   ]
  },
  {
   "cell_type": "code",
   "execution_count": null,
   "id": "22252e53",
   "metadata": {},
   "outputs": [],
   "source": [
    "plt = plot(xlabel=\"time (s)\")\n",
    "plot!(plt, t_arr[1:100000] , excitatory_neuron[1].v[1:100000], label = \"V_excite\")\n",
    "plot!(plt, t_arr[1:100000] , inhibitory_neuron[6].v[1:100000], label = \"V_inhibit\")"
   ]
  },
  {
   "cell_type": "code",
   "execution_count": null,
   "id": "608f7e18",
   "metadata": {},
   "outputs": [],
   "source": []
  }
 ],
 "metadata": {
  "kernelspec": {
   "display_name": "Julia 1.6.2",
   "language": "julia",
   "name": "julia-1.6"
  },
  "language_info": {
   "file_extension": ".jl",
   "mimetype": "application/julia",
   "name": "julia",
   "version": "1.6.2"
  }
 },
 "nbformat": 4,
 "nbformat_minor": 5
}
