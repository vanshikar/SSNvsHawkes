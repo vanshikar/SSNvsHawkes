{
 "cells": [
  {
   "cell_type": "markdown",
   "id": "ae1e7ddf",
   "metadata": {},
   "source": [
    "# Plotting Excitation function, raster plot and spike count for 2D Linear and Nonlinear Hawkes processes"
   ]
  },
  {
   "cell_type": "code",
   "execution_count": null,
   "id": "c101fa8b",
   "metadata": {},
   "outputs": [],
   "source": [
    "# Installation\n",
    "using Revise\n",
    "using LinearAlgebra,Statistics,StatsBase,Distributions\n",
    "using Plots,NamedColors ; theme(:default)\n",
    "using FFTW\n",
    "using ProgressMeter\n",
    "using Random\n",
    "Random.seed!(0)\n",
    "using HawkesSimulator; const global H = HawkesSimulator"
   ]
  },
  {
   "cell_type": "code",
   "execution_count": null,
   "id": "58b10f44",
   "metadata": {},
   "outputs": [],
   "source": [
    "function onedmat(x::Real)\n",
    "  return cat(x;dims=2)\n",
    "end"
   ]
  },
  {
   "cell_type": "code",
   "execution_count": null,
   "id": "fb17c9d8",
   "metadata": {},
   "outputs": [],
   "source": [
    "function plot_count(points)\n",
    "    y = collect(1:length(points))\n",
    "    plt = plot(xlabel=\"time (s)\", ylabel=\"count\")\n",
    "    plot!(plt, points, y, label = \"N(t)\")\n",
    "#     plot!(plt, points, expected_y, label = \"E[N(t)]\")\n",
    "end\n",
    "\n",
    "function plot_count(points_E, points_I)\n",
    "    y = collect(1:length(points_E))\n",
    "    plt = plot(xlabel=\"time (s)\", ylabel=\"count\")\n",
    "    plot!(plt, points_E, y, label = \"N_E(t)\")\n",
    "    y = collect(1:length(points_I))\n",
    "    plot!(plt, points_I, y, label = \"N_I(t)\")\n",
    "end\n",
    "\n",
    "function plot_count(points_E, points_I, remean, rimean)\n",
    "    y3 = collect(1:length(points_E))\n",
    "    plt = plot(xlabel=\"time (s)\", ylabel=\"Spike Count\", legend=:bottomright, fmt=:png)\n",
    "    plot!(plt, points_E, y3, label = \"N_E(t)\", color=\"blue\")\n",
    "    y1 = zeros(length(points_E))\n",
    "    y2 = zeros(length(points_I))\n",
    "    for i in 1:length(points_E)\n",
    "        y1[i] = remean*(points_E[i]-points_E[1])\n",
    "    end\n",
    "    for i in 1:length(points_I)\n",
    "        y2[i] = rimean*(points_I[i]-points_I[1])\n",
    "    end\n",
    "    y4 = collect(1:length(points_I))\n",
    "    plot!(plt, points_I, y4, label = \"N_I(t)\", color=\"red\")\n",
    "    plot!(plt, points_E,y1, label=\"E[N_E(t)]\", color=\"dark blue\", linestyle=:dash)\n",
    "    plot!(plt, points_I,y2, label=\"E[N_I(t)]\", color=\"dark red\", linestyle=:dash)\n",
    "end"
   ]
  },
  {
   "cell_type": "code",
   "execution_count": null,
   "id": "5b88e565",
   "metadata": {},
   "outputs": [],
   "source": [
    "function rasterplot(train1, train2, tlims = (2000.,2020.) )\n",
    "  _trainE = train1\n",
    "  plt=plot()\n",
    "  trainE = filter(t-> tlims[1]< t < tlims[2],_trainE)\n",
    "  nspk = length(trainE)\n",
    "  scatter!(plt,trainE,fill(2,nspk),markersize=35, markercolor=:blue,markershape=:vline,legend=:topright, label=\"Excitatory\")\n",
    "  _trainI = train2\n",
    "    trainI = filter(t-> tlims[1]< t < tlims[2],_trainI)\n",
    "  nspk = length(trainI)\n",
    "  scatter!(plt,trainI,fill(1,nspk),markersize=35, markercolor=:red,markershape=:vline,legend=:topright, label=\"Inhibitory\")\n",
    "  plot!(plt,ylims=(0,3),xlabel=\"time (s)\", label=\"Hawkes\",fmt=:png)\n",
    "end"
   ]
  },
  {
   "cell_type": "code",
   "execution_count": null,
   "id": "b8be6d02",
   "metadata": {},
   "outputs": [],
   "source": [
    "# Simulation\n",
    "\n",
    "function simulate!(networks, num_spikes)\n",
    "    t_now = 0.0\n",
    "    H.reset!.(networks) # clear spike trains etc\n",
    "    @showprogress 1.0 \"Running Hawkes process...\" for k in 1:num_spikes\n",
    "        t_now = H.dynamics_step!(t_now, networks)\n",
    "        if k%1_000 == 0\n",
    "            H.clear_trains!(networks[1].postpops)\n",
    "            H.clear_trains!(networks[2].postpops)\n",
    "        end # clearing trains after every 1000 spikes\n",
    "    end\n",
    "    return t_now\n",
    "end"
   ]
  },
  {
   "cell_type": "code",
   "execution_count": null,
   "id": "1e47ef07",
   "metadata": {},
   "outputs": [],
   "source": [
    "# Initializing Linear Hawkes Process\n",
    "tau_E = 20.0\n",
    "tau_I = 10.0\n",
    "\n",
    "pop_E = H.PopulationExp(tau_E)\n",
    "pop_I = H.PopulationExp(tau_I)\n",
    "w = [1.25 -0.65\n",
    "    1.2 -0.5]"
   ]
  },
  {
   "cell_type": "code",
   "execution_count": null,
   "id": "8006fb46",
   "metadata": {},
   "outputs": [],
   "source": [
    "h = 5.0\n",
    "baseline_rate = [h]\n",
    "popstate_E = H.PopulationState(pop_E,baseline_rate)\n",
    "popstate_I = H.PopulationState(pop_I, baseline_rate)\n",
    "\n",
    "# Creating network\n",
    "network_E = H.InputNetwork(popstate_E,[popstate_E, popstate_I],[onedmat(w[1,1]),onedmat(w[1,2])])\n",
    "network_I = H.InputNetwork(popstate_I,[popstate_E, popstate_I],[onedmat(w[2,1]),onedmat(w[2,2])])\n",
    "\n",
    "n_spikes = 500_000\n",
    "Tmax = simulate!([network_E, network_I],n_spikes)"
   ]
  },
  {
   "cell_type": "code",
   "execution_count": null,
   "id": "1e8af203",
   "metadata": {
    "scrolled": true
   },
   "outputs": [],
   "source": [
    "numrate_E = H.numerical_rate(popstate_E.trains[1])\n",
    "numrate_I = H.numerical_rate(popstate_I.trains[1])\n",
    "println(numrate_E)\n",
    "println(numrate_I)"
   ]
  },
  {
   "cell_type": "code",
   "execution_count": null,
   "id": "85a4cf63",
   "metadata": {},
   "outputs": [],
   "source": [
    "rasterplot(popstate_E.trains_history[1], popstate_I.trains_history[1])"
   ]
  },
  {
   "cell_type": "code",
   "execution_count": null,
   "id": "7e87c7dc",
   "metadata": {},
   "outputs": [],
   "source": [
    "plot_count(popstate_E.trains_history[1][1:15000], popstate_I.trains_history[1][1:15000], numrate_E[1], numrate_I[1])"
   ]
  },
  {
   "cell_type": "code",
   "execution_count": null,
   "id": "bdf26172",
   "metadata": {},
   "outputs": [],
   "source": [
    "function interaction(t::R,weights_in::AbstractVector{<:R},prepop::H.PopulationState,\n",
    "    upperbound::Bool) where R\n",
    "  ret = 0.0\n",
    "  for (j,w) in enumerate(weights_in)\n",
    "    train = prepop.trains_history[j]\n",
    "    ret += H.interaction(t,train,w,prepop.populationtype,upperbound)\n",
    "  end\n",
    "  return ret\n",
    "end"
   ]
  },
  {
   "cell_type": "code",
   "execution_count": null,
   "id": "27e2c98a",
   "metadata": {},
   "outputs": [],
   "source": [
    "function rate(ext_inp::Real, t_now::Real,inp::H.InputNetwork,ineu::Integer;upperbound::Bool=false)\n",
    "    ret = ext_inp\n",
    "    for (w,prepop) in zip(inp.weights,inp.prepops)\n",
    "        w_in = view(w,ineu,:)\n",
    "        ret += interaction(t_now,w_in,prepop,upperbound)\n",
    "    end\n",
    "        ret = H.apply_nonlinearity(ret,inp)\n",
    "    return ret\n",
    "end"
   ]
  },
  {
   "cell_type": "code",
   "execution_count": null,
   "id": "809929d4",
   "metadata": {},
   "outputs": [],
   "source": [
    "# Excitation Function vs Time\n",
    "function  plot_excitation(networks, tlims=(0,1000))\n",
    "    num_neurons = size(networks,1)\n",
    "    trainsh = [networks[1].postpops.trains_history[1], networks[2].postpops.trains_history[1]]\n",
    "    global expected_lambda = H.numerical_rate.(trainsh)\n",
    "    times = range(tlims...;length=100)\n",
    "    for i in 1:num_neurons\n",
    "        trains = filter(t-> tlims[1]<=t<=tlims[2],trainsh[i])\n",
    "        times = sort(vcat(times, trains))\n",
    "    end\n",
    "    plt = plot(xlabel=\"time (s)\", ylabel=\"Rate (Hz)\", fmt=:png, legend=:topright)\n",
    "    y_vector = zeros(length(times), num_neurons)\n",
    "    expected_lambda_vector = zeros(length(times), num_neurons)\n",
    "    for i in 1:num_neurons\n",
    "        y_vector[:,i] = map(t->rate(baseline_rate[1], t,networks[i],1;upperbound=false), times)\n",
    "        expected_lambda_vector[:,i] = expected_lambda_vector[:,i] .+ expected_lambda[i]\n",
    "    end\n",
    "    plot!(plt, times , y_vector[:,1], label = \"rate_E(t)\", color=\"blue\")\n",
    "    plot!(plt, times , y_vector[:,2], label = \"rate_I(t)\", color=\"red\")\n",
    "    plot!(plt, times , expected_lambda_vector[:,1], label = \"E[rate_E(t)]\", color=\"dark blue\")\n",
    "    plot!(plt, times , expected_lambda_vector[:,2], label = \"E[rate_I(t)]\", color=\"dark red\")\n",
    "end"
   ]
  },
  {
   "cell_type": "code",
   "execution_count": null,
   "id": "b4f4af18",
   "metadata": {},
   "outputs": [],
   "source": [
    "plot_excitation([network_E, network_I], (0, 500))"
   ]
  },
  {
   "cell_type": "code",
   "execution_count": null,
   "id": "400e847c",
   "metadata": {},
   "outputs": [],
   "source": [
    "# Initializing Nonlinear Hawkes Process\n",
    "tau_E = 20.0\n",
    "tau_I = 10.0\n",
    "\n",
    "pop_E = H.PopulationExp(tau_E, H.NLRectifiedQuadratic())\n",
    "pop_I = H.PopulationExp(tau_I, H.NLRectifiedQuadratic())\n",
    "w = [1.25 -0.65\n",
    "    1.2 -0.5]\n",
    "h = 6.0\n",
    "baseline_rate = [h]\n",
    "popstate_E = H.PopulationState(pop_E,baseline_rate)\n",
    "popstate_I = H.PopulationState(pop_I, baseline_rate)\n",
    "\n",
    "# Creating network\n",
    "network_E = H.InputNetwork(popstate_E,[popstate_E, popstate_I],[onedmat(w[1,1]),onedmat(w[1,2])])\n",
    "network_I = H.InputNetwork(popstate_I,[popstate_E, popstate_I],[onedmat(w[2,1]),onedmat(w[2,2])])\n",
    "\n",
    "n_spikes = 50_000\n",
    "Tmax = simulate!([network_E, network_I],n_spikes)"
   ]
  },
  {
   "cell_type": "code",
   "execution_count": null,
   "id": "de55daba",
   "metadata": {},
   "outputs": [],
   "source": [
    "numrate_E = H.numerical_rates(popstate_E)\n",
    "numrate_I = H.numerical_rates(popstate_I)\n",
    "print(numrate_E, numrate_I)"
   ]
  },
  {
   "cell_type": "code",
   "execution_count": null,
   "id": "d72f1ca6",
   "metadata": {},
   "outputs": [],
   "source": [
    "plot_excitation([network_E, network_I], (0,500))"
   ]
  },
  {
   "cell_type": "code",
   "execution_count": null,
   "id": "ed13064d",
   "metadata": {},
   "outputs": [],
   "source": [
    "plot_count(popstate_E.trains_history[1][1:10000], popstate_I.trains_history[1][1:10000], numrate_E[1], numrate_I[1])"
   ]
  },
  {
   "cell_type": "code",
   "execution_count": null,
   "id": "17953c48",
   "metadata": {},
   "outputs": [],
   "source": [
    "rasterplot(popstate_E.trains_history[1], popstate_I.trains_history[1])"
   ]
  },
  {
   "cell_type": "code",
   "execution_count": null,
   "id": "f8e7664f",
   "metadata": {},
   "outputs": [],
   "source": []
  }
 ],
 "metadata": {
  "kernelspec": {
   "display_name": "Julia 1.6.2",
   "language": "julia",
   "name": "julia-1.6"
  },
  "language_info": {
   "file_extension": ".jl",
   "mimetype": "application/julia",
   "name": "julia",
   "version": "1.6.2"
  }
 },
 "nbformat": 4,
 "nbformat_minor": 5
}
