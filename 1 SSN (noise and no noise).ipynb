{
 "cells": [
  {
   "cell_type": "markdown",
   "id": "81d617ee",
   "metadata": {},
   "source": [
    "# Simulating a 2D Stabilized Supralinear Network"
   ]
  },
  {
   "cell_type": "code",
   "execution_count": null,
   "id": "99130f23",
   "metadata": {},
   "outputs": [],
   "source": [
    "# Installation\n",
    "using Revise\n",
    "using LinearAlgebra,Statistics,StatsBase,Distributions\n",
    "using Plots,NamedColors ; theme(:default)\n",
    "using FFTW\n",
    "using ProgressMeter\n",
    "using Random\n",
    "Random.seed!(0)\n",
    "using NamedColors\n",
    "col_exc = colorant\"dark blue\"\n",
    "col_inh = colorant\"dark red\""
   ]
  },
  {
   "cell_type": "code",
   "execution_count": null,
   "id": "f1782a93",
   "metadata": {},
   "outputs": [],
   "source": [
    "# Initializing variables for a 1 E, 1 I network\n",
    "v_rest = -70\n",
    "alpha = 0.3\n",
    "n = 2\n",
    "w = [1.25 -0.65\n",
    "     1.2 -0.5]\n",
    "tau = [20.0, 10.0]*1E-3   #time constants : [ tau_E, tau_I ]\n",
    "time_step = 1*1E-3\n",
    "tau_noise = 50*1E-3"
   ]
  },
  {
   "cell_type": "code",
   "execution_count": null,
   "id": "2fead8bb",
   "metadata": {},
   "outputs": [],
   "source": [
    "function onedmat(x::Real)\n",
    "  return cat(x;dims=2)\n",
    "end"
   ]
  },
  {
   "cell_type": "code",
   "execution_count": null,
   "id": "114fd121",
   "metadata": {},
   "outputs": [],
   "source": [
    "# Input-Output function : r(V) = alpha*( V - V_rest )^n\n",
    "function rate_powerlaw(v::Real, v_rest::Real, n::Real, alpha::Real)\n",
    "    diff = v - v_rest\n",
    "    diff = (diff < 0) ? 0 : diff\n",
    "    return alpha*(diff^n)\n",
    "end\n",
    "\n",
    "function plot_powerlaw()\n",
    "    count = 81\n",
    "    v_arr = zeros(count)\n",
    "    v_arr[1] = -90\n",
    "    for i in 2:count\n",
    "        v_arr[i] = v_arr[i-1] +1\n",
    "    end\n",
    "    rates = rate_powerlaw.(v_arr, v_rest, n, alpha)\n",
    "    plot(v_arr, rates, xlabel=\"Voltage (mV)\", ylabel=\"Rate (Hz)\", color=\"black\", legend=false, fmt=:png)\n",
    "end\n",
    "\n",
    "plot_powerlaw()"
   ]
  },
  {
   "cell_type": "code",
   "execution_count": null,
   "id": "99541497",
   "metadata": {},
   "outputs": [],
   "source": [
    "function spiking(probability)\n",
    "    return rand(Float64) < probability\n",
    "end"
   ]
  },
  {
   "cell_type": "code",
   "execution_count": null,
   "id": "df8f4e0f",
   "metadata": {},
   "outputs": [],
   "source": [
    "# modelling noise as a Multivariate Ornstein-Uhlenbeck process\n",
    "function dnoise!(noise::Vector{Float64}, wiener::Vector{Float64}, cov_noise::Matrix{Float64})\n",
    "    wiener = wiener + sqrt(time_step)*[rand(Normal(0,0.5)),rand(Normal(0,0.5))]\n",
    "    dn = - noise .* time_step + sqrt(2*tau_noise*cov_noise)*wiener\n",
    "    return dn ./ tau_noise\n",
    "end"
   ]
  },
  {
   "cell_type": "code",
   "execution_count": null,
   "id": "611df43d",
   "metadata": {},
   "outputs": [],
   "source": [
    "# Euler Method\n",
    "function dv_ssn(v::Real, v_rest::Real, h_i::Real, noise_i::Real, tau_i::Real, w_arr::Vector{Float64}, rate_arr::Vector{Float64})\n",
    "    num_neurons = size(w_arr, 1)\n",
    "    dv = v_rest - v + h_i + noise_i\n",
    "    for i in 1:num_neurons\n",
    "        dv += w_arr[i]*rate_arr[i]\n",
    "    end\n",
    "    return dv*time_step/tau_i\n",
    "end"
   ]
  },
  {
   "cell_type": "code",
   "execution_count": null,
   "id": "7f9d10d9",
   "metadata": {},
   "outputs": [],
   "source": [
    "function simulate_ssn!(h, num_steps, t_arr, v_excite, v_inhibit, v_rest, rate, spike_trainE, spike_trainI, cov_noise)\n",
    "    \n",
    "    v_excite[1] = v_rest\n",
    "    v_inhibit[1] = v_rest\n",
    "    rate[1,:] = [rate_powerlaw(v_excite[1], v_rest, n, alpha), rate_powerlaw(v_inhibit[1], v_rest, n, alpha)]\n",
    "    noise = zeros(2)\n",
    "    wiener = zeros(2)\n",
    "    @showprogress 1.0 \"Running SSN...\" for i in 2:num_steps\n",
    "        t_arr[i] = t_arr[i-1] + time_step\n",
    "        noise[:] = noise[:] .+ dnoise!(noise, wiener, cov_noise)\n",
    "        v_excite[i] = v_excite[i-1] + dv_ssn(v_excite[i-1], v_rest, h, noise[1], tau[1], [w[1,1], w[1,2]], rate[i-1,:])\n",
    "        v_inhibit[i] = v_inhibit[i-1] + dv_ssn(v_inhibit[i-1], v_rest, h, noise[2], tau[2], [w[2,1], w[2,2]], rate[i-1,:])\n",
    "        rate[i,:] = [rate_powerlaw(v_excite[i], v_rest, n, alpha), rate_powerlaw(v_inhibit[i], v_rest, n, alpha)]\n",
    "        \n",
    "        spike_probability = rate[i,:] .* (time_step)\n",
    "        if spiking(spike_probability[1])\n",
    "            push!(spike_trainE, t_arr[i])\n",
    "        end\n",
    "        if spiking(spike_probability[2])\n",
    "            push!(spike_trainI, t_arr[i])\n",
    "        end\n",
    "    end\n",
    "    \n",
    "end"
   ]
  },
  {
   "cell_type": "markdown",
   "id": "267e47e3",
   "metadata": {},
   "source": [
    "Running the SSN Simulation for t_max time, with a fixed external input h, with no external noise"
   ]
  },
  {
   "cell_type": "code",
   "execution_count": null,
   "id": "3f5bf89a",
   "metadata": {},
   "outputs": [],
   "source": [
    "function single_h_no_noise_ssn_simulation()\n",
    "    h = 5.0\n",
    "    t_max = 1\n",
    "    num_steps = Int(ceil(t_max/time_step))\n",
    "    t_arr = zeros(num_steps)\n",
    "    v_excite = zeros(num_steps)\n",
    "    v_inhibit = zeros(num_steps)\n",
    "    spike_trainE = Vector{Float64}()\n",
    "    spike_trainI = Vector{Float64}()\n",
    "    rate = zeros(num_steps, 2)\n",
    "    cov_noise = [0.0 0.0\n",
    "                0.0 0.0]    # setting cov_noise to zero to remove noise from the system\n",
    "    simulate_ssn!(h, num_steps, t_arr, v_excite, v_inhibit, v_rest, rate, spike_trainE, spike_trainI, cov_noise)\n",
    "    return t_arr, v_excite, v_inhibit, rate, spike_trainE, spike_trainI\n",
    "end"
   ]
  },
  {
   "cell_type": "code",
   "execution_count": null,
   "id": "08d148a4",
   "metadata": {},
   "outputs": [],
   "source": [
    "t_arr, v_excite, v_inhibit, rate, spike_trainE, spike_trainI = single_h_no_noise_ssn_simulation()\n",
    "println([size(spike_trainE), size(spike_trainI)])"
   ]
  },
  {
   "cell_type": "code",
   "execution_count": null,
   "id": "449d902b",
   "metadata": {
    "scrolled": false
   },
   "outputs": [],
   "source": [
    "length = size(t_arr,1)\n",
    "plt = plot(xlabel=\"time (s)\", ylabel=\"Voltage (mV)\", fmt = :png, legend=:bottomright)\n",
    "plot!(plt, t_arr[1:length] , v_excite[1:length], label = \"V_Excite\", color=col_exc)\n",
    "plot!(plt, t_arr[1:length] , v_inhibit[1:length], label = \"V_Inhibit\", color=col_inh)"
   ]
  },
  {
   "cell_type": "code",
   "execution_count": null,
   "id": "4a95ef57",
   "metadata": {
    "scrolled": false
   },
   "outputs": [],
   "source": [
    "length = size(t_arr,1)\n",
    "plt = plot(xlabel=\"time (s)\", ylabel=\"Rate (Hz)\", fmt = :png, legend=:bottomright)\n",
    "plot!(plt, t_arr[1:length] , rate[1:length,1], label = \"r_Excite\", color=col_exc)\n",
    "plot!(plt, t_arr[1:length] , rate[1:length,2], label = \"r_Inhibit\", color=col_inh)"
   ]
  },
  {
   "cell_type": "markdown",
   "id": "affd6b51",
   "metadata": {},
   "source": [
    "Running the SSN Simulation for t_max time, across different external input values h, with no external noise"
   ]
  },
  {
   "cell_type": "code",
   "execution_count": null,
   "id": "714c3799",
   "metadata": {},
   "outputs": [],
   "source": [
    "function run_ssn_multiple_h_no_noise!(num_h, h_arr, rates_ssn, v_ssn, v_rest)\n",
    "    t_max = 1\n",
    "    num_steps = Int(ceil(t_max/time_step))\n",
    "    t_arr = zeros(num_steps)\n",
    "    v_excite = zeros(num_steps)\n",
    "    v_inhibit = zeros(num_steps)\n",
    "    rate = zeros(num_steps, 2)\n",
    "    cov_noise = [0.0 0.0\n",
    "                0.0 0.0]\n",
    "    @showprogress 1.0 \"Running SSN multiple h...\" for i in 1:num_h\n",
    "        spike_trainE = Vector{Float64}()\n",
    "        spike_trainI = Vector{Float64}()\n",
    "        simulate_ssn!(h_arr[i], num_steps, t_arr, v_excite, v_inhibit, v_rest, rate, spike_trainE, spike_trainI, cov_noise)\n",
    "        rates_ssn[i,:] = rate[end,:]\n",
    "        v_ssn[i,1] = v_excite[end]\n",
    "        v_ssn[i,2] = v_inhibit[end]\n",
    "    end\n",
    "end"
   ]
  },
  {
   "cell_type": "code",
   "execution_count": null,
   "id": "8b6e553c",
   "metadata": {},
   "outputs": [],
   "source": [
    "h_max = 20.0\n",
    "h_min = 1.0\n",
    "step = 1\n",
    "num_h = Int(ceil((h_max-h_min+1)/step))\n",
    "h_arr = zeros(num_h)\n",
    "h_arr[1] = h_min\n",
    "rates_ssn = zeros(num_h,2)\n",
    "v_ssn = zeros(num_h, 2)\n",
    "\n",
    "for i in 2:num_h\n",
    "    h_arr[i] = h_arr[i-1] + step\n",
    "end\n",
    "run_ssn_multiple_h_no_noise!(num_h, h_arr, rates_ssn, v_ssn, v_rest)"
   ]
  },
  {
   "cell_type": "code",
   "execution_count": null,
   "id": "0b32b18d",
   "metadata": {},
   "outputs": [],
   "source": [
    "length = size(h_arr,1)\n",
    "plt = plot(xlabel=\"time (s)\", ylabel=\"Voltage (mV)\", fmt = :png, legend=:bottomright)\n",
    "plot!(plt, h_arr[1:length] , v_ssn[1:length, 1], label = \"V_Excite\", color=col_exc)\n",
    "plot!(plt, h_arr[1:length] , v_ssn[1:length, 2], label = \"V_Inhibit\", color=col_inh)"
   ]
  },
  {
   "cell_type": "code",
   "execution_count": null,
   "id": "f125e334",
   "metadata": {},
   "outputs": [],
   "source": [
    "length = size(h_arr,1)\n",
    "plt = plot(xlabel=\"time (s)\", ylabel=\"Rate (Hz)\", fmt = :png, legend=:bottomright)\n",
    "plot!(plt, h_arr[1:length] , rates_ssn[1:length, 1], label = \"r_Excite\", color=col_exc)\n",
    "plot!(plt, h_arr[1:length] , rates_ssn[1:length, 2], label = \"r_Inhibit\", color=col_inh)"
   ]
  },
  {
   "cell_type": "markdown",
   "id": "d1649833",
   "metadata": {},
   "source": [
    "Adding uncorrelated noise"
   ]
  },
  {
   "cell_type": "code",
   "execution_count": null,
   "id": "e7e9d2a1",
   "metadata": {},
   "outputs": [],
   "source": [
    "function single_h_noise_ssn_simulation()\n",
    "    h = 5.0\n",
    "    t_max = 100\n",
    "    num_steps = Int(ceil(t_max/time_step))\n",
    "    t_arr = zeros(num_steps)\n",
    "    v_excite = zeros(num_steps)\n",
    "    v_inhibit = zeros(num_steps)\n",
    "    spike_trainE = Vector{Float64}()\n",
    "    spike_trainI = Vector{Float64}()\n",
    "    rate = zeros(num_steps, 2)\n",
    "    cov_noise = [alpha*h 0.0\n",
    "                0.0 alpha*h]\n",
    "    simulate_ssn!(h, num_steps, t_arr, v_excite, v_inhibit, v_rest, rate, spike_trainE, spike_trainI, cov_noise)\n",
    "    return t_arr, v_excite, v_inhibit, rate, spike_trainE, spike_trainI\n",
    "end"
   ]
  },
  {
   "cell_type": "code",
   "execution_count": null,
   "id": "a64062c9",
   "metadata": {},
   "outputs": [],
   "source": [
    "t_arr, v_excite, v_inhibit, rate, spike_trainE, spike_trainI = single_h_noise_ssn_simulation()\n",
    "println([size(spike_trainE), size(spike_trainI)])"
   ]
  },
  {
   "cell_type": "code",
   "execution_count": null,
   "id": "6388d446",
   "metadata": {},
   "outputs": [],
   "source": [
    "v_e_mean = mean(v_excite)\n",
    "v_i_mean = mean(v_inhibit)\n",
    "r_e_mean = mean(rate[:,1])\n",
    "r_i_mean = mean(rate[:,2])\n",
    "println([v_e_mean, v_i_mean])\n",
    "println([r_e_mean, r_i_mean])"
   ]
  },
  {
   "cell_type": "code",
   "execution_count": null,
   "id": "5d4e75e0",
   "metadata": {
    "scrolled": false
   },
   "outputs": [],
   "source": [
    "length = 5000\n",
    "v_mean = zeros(length,2)\n",
    "for i in 1:length\n",
    "    v_mean[i,1] = v_e_mean\n",
    "    v_mean[i,2] = v_i_mean\n",
    "end\n",
    "plt = plot(xlabel=\"time (s)\", ylabel=\"Voltage (mV)\", fmt = :png, legend=:bottomright)\n",
    "plot!(plt, t_arr[1:length] , v_excite[1:length], label = \"V_Excite\", color=col_exc)\n",
    "plot!(plt, t_arr[1:length] , v_inhibit[1:length], label = \"V_Inhibit\", color=col_inh)\n",
    "plot!(plt, t_arr[1:length], v_mean, label = [\"E[V_Excite]\" \"E[V_Inhibit]\"], linestyle=:dash,linewidth=2, color=[col_exc col_inh])"
   ]
  },
  {
   "cell_type": "code",
   "execution_count": null,
   "id": "f86d122a",
   "metadata": {
    "scrolled": false
   },
   "outputs": [],
   "source": [
    "length = 5000\n",
    "r_mean = zeros(length,2)\n",
    "for i in 1:length\n",
    "    r_mean[i,1] = r_e_mean\n",
    "    r_mean[i,2] = r_i_mean\n",
    "end\n",
    "plt = plot(xlabel=\"time (s)\", ylabel=\"Rate (Hz)\", fmt = :png, legend=:topright)\n",
    "plot!(plt, t_arr[1:length] , rate[1:length,1], label = \"r_Excite\", color=col_exc)\n",
    "plot!(plt, t_arr[1:length] , rate[1:length,2], label = \"r_Inhibit\", color=col_inh)\n",
    "plot!(plt, t_arr[1:length], r_mean, label = [\"E[r_Excite]\" \"E[r_Inhibit]\"], linestyle=:dash,linewidth=2, color=[col_exc col_inh])"
   ]
  },
  {
   "cell_type": "code",
   "execution_count": null,
   "id": "e1e135ce",
   "metadata": {},
   "outputs": [],
   "source": [
    "function plot_count(points)\n",
    "    y = collect(1:length(points))\n",
    "    plt = plot(xlabel=\"time (s)\", ylabel=\"count\")\n",
    "    plot!(plt, points, y, label = \"N(t)\")\n",
    "end\n",
    "\n",
    "function plot_count(points_E, points_I)\n",
    "    y = collect(1:length(points_E))\n",
    "    plt = plot(xlabel=\"time (s)\", ylabel=\"count\")\n",
    "    plot!(plt, points_E, y, label = \"N_E(t)\")\n",
    "    y = collect(1:length(points_I))\n",
    "    plot!(plt, points_I, y, label = \"N_I(t)\")\n",
    "end\n",
    "\n",
    "function plot_count(points_E, points_I, remean, rimean, count)\n",
    "    y = collect(1:count)\n",
    "    y1 = zeros(count)\n",
    "    y2 = zeros(count)\n",
    "    for i in 1:count\n",
    "        y1[i] = remean*points_E[i]\n",
    "        y2[i] = rimean*points_I[i]\n",
    "    end\n",
    "    plt = plot(xlabel=\"time (s)\", ylabel=\"Spike Count\", legend=:bottomright, fmt=:png)\n",
    "    plot!(plt, points_E[1:count], y, label = \"N_E(t)\", color=\"blue\")\n",
    "    plot!(plt, points_I[1:count], y, label = \"N_I(t)\", color=\"red\")\n",
    "    plot!(plt, points_E[1:count],y1, label=\"E[N_E(t)]\", color=\"dark blue\")\n",
    "    plot!(plt, points_I[1:count],y2, label=\"E[N_I(t)]\", color=\"dark red\")\n",
    "end"
   ]
  },
  {
   "cell_type": "code",
   "execution_count": null,
   "id": "5aa88924",
   "metadata": {},
   "outputs": [],
   "source": [
    "plot_count(spike_trainE, spike_trainI, r_e_mean, r_i_mean, 900)"
   ]
  },
  {
   "cell_type": "code",
   "execution_count": null,
   "id": "8c3efd69",
   "metadata": {},
   "outputs": [],
   "source": [
    "function rasterplot( spike_trainE, spike_trainI,tlims = (80.,90.))\n",
    "  _trainE = spike_trainE\n",
    "  plt=plot()\n",
    "  trainE = filter(t-> tlims[1]< t < tlims[2],_trainE)\n",
    "  nspk = size(trainE,1)\n",
    "  scatter!(plt,trainE,fill(2,nspk),markersize=35, markercolor=:blue,markershape=:vline,legend=:topright, label=\"Excitatory\")\n",
    "  _trainI = spike_trainI\n",
    "    trainI = filter(t-> tlims[1]< t < tlims[2],_trainI)\n",
    "  nspk = size(trainI,1)\n",
    "  scatter!(plt,trainI,fill(1,nspk),markersize=35, markercolor=:red,markershape=:vline,legend=:topright, label=\"Inhibitory\")\n",
    "  plot!(plt,ylims=(0,3),xlabel=\"time (s)\",fmt=:png)\n",
    "end"
   ]
  },
  {
   "cell_type": "code",
   "execution_count": null,
   "id": "c7eeb3ec",
   "metadata": {},
   "outputs": [],
   "source": [
    "rasterplot(spike_trainE, spike_trainI)"
   ]
  },
  {
   "cell_type": "code",
   "execution_count": null,
   "id": "6b6e9553",
   "metadata": {},
   "outputs": [],
   "source": []
  }
 ],
 "metadata": {
  "kernelspec": {
   "display_name": "Julia 1.6.2",
   "language": "julia",
   "name": "julia-1.6"
  },
  "language_info": {
   "file_extension": ".jl",
   "mimetype": "application/julia",
   "name": "julia",
   "version": "1.6.2"
  }
 },
 "nbformat": 4,
 "nbformat_minor": 5
}
