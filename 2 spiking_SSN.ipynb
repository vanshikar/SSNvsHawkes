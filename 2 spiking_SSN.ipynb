{
 "cells": [
  {
   "cell_type": "markdown",
   "id": "9b6be8aa",
   "metadata": {},
   "source": [
    "# Implementing the Spiking SSN simulation from Hennequin '18"
   ]
  },
  {
   "cell_type": "code",
   "execution_count": null,
   "id": "ad351aa8",
   "metadata": {},
   "outputs": [],
   "source": [
    "# Installation\n",
    "using Revise\n",
    "using LinearAlgebra,Statistics,StatsBase,Distributions\n",
    "using Plots,NamedColors ; theme(:default)\n",
    "using FFTW\n",
    "using ProgressMeter\n",
    "using Random\n",
    "Random.seed!(0)\n",
    "using NamedColors\n",
    "col_exc = colorant\"dark blue\"\n",
    "col_inh = colorant\"dark red\""
   ]
  },
  {
   "cell_type": "code",
   "execution_count": null,
   "id": "c3cfde15",
   "metadata": {},
   "outputs": [],
   "source": [
    "# Initialization\n",
    "N_E = 4000\n",
    "N_I = 1000\n",
    "p_E = 0.1\n",
    "p_I = 0.4\n",
    "\n",
    "v_rest = -70\n",
    "tau_syn = 2*1E-3 # synaptic time constant\n",
    "delta = 0.5*1E-3 # useful for parallelizing (Hennequin '18), code not parallelized at the moment\n",
    "\n",
    "tau_E = 20*1E-3\n",
    "tau_I = 10*1E-3\n",
    "w = [1.25 -0.65\n",
    "     1.2 -0.5]\n",
    "alpha = 0.3\n",
    "n = 2\n",
    "\n",
    "\n",
    "noise = 0 # ignored for now\n",
    "time_step = 2*1E-3"
   ]
  },
  {
   "cell_type": "code",
   "execution_count": null,
   "id": "4062afa9",
   "metadata": {},
   "outputs": [],
   "source": [
    "# Input-Output function : r(V) = alpha*( V - V_rest )^n\n",
    "function rate_powerlaw(v::Real)\n",
    "    diff = v - v_rest\n",
    "    diff = (diff < 0) ? 0 : diff\n",
    "    return alpha*(diff^n)\n",
    "end\n",
    "\n",
    "function plot_powerlaw()\n",
    "    count = 81\n",
    "    v_arr = zeros(count)\n",
    "    v_arr[1] = -90\n",
    "    for i in 2:count\n",
    "        v_arr[i] = v_arr[i-1] +1\n",
    "    end\n",
    "    rates = rate_powerlaw.(v_arr)\n",
    "    plot(v_arr, rates, xlabel=\"Voltage (mV)\", ylabel=\"Rate (Hz)\", color=\"black\", legend=false, fmt=:png)\n",
    "end\n",
    "\n",
    "plot_powerlaw()"
   ]
  },
  {
   "cell_type": "code",
   "execution_count": null,
   "id": "a6a5cd24",
   "metadata": {},
   "outputs": [],
   "source": [
    "rate_powerlaw(-67)"
   ]
  },
  {
   "cell_type": "code",
   "execution_count": null,
   "id": "12fe2036",
   "metadata": {},
   "outputs": [],
   "source": [
    "function numerical_rate(train::Vector{Float64})      # adopted from HawkesSimulator.jl\n",
    "    if length(train) == 0\n",
    "        return 0\n",
    "    end\n",
    "  Δt = train[end]-train[1]\n",
    "  return length(train)/Δt\n",
    "end"
   ]
  },
  {
   "cell_type": "code",
   "execution_count": null,
   "id": "104663b4",
   "metadata": {},
   "outputs": [],
   "source": [
    "# generic functions to plot the spike count\n",
    "\n",
    "function plot_count(points)\n",
    "    y = collect(1:length(points))\n",
    "    plt = plot(xlabel=\"time (s)\", ylabel=\"count\", legend=:bottomright, fmt=:png)\n",
    "    plot!(plt, points, y, label = \"N(t)\")\n",
    "end\n",
    "\n",
    "function plot_count(points_E, points_I)\n",
    "    y = collect(1:length(points_E))\n",
    "    plt = plot(xlabel=\"time (s)\", ylabel=\"count\", legend=:bottomright, fmt=:png)\n",
    "    plot!(plt, points_E, y, label = \"N_E(t)\")\n",
    "    y = collect(1:length(points_I))\n",
    "    plot!(plt, points_I, y, label = \"N_I(t)\")\n",
    "end\n",
    "\n",
    "function plot_count(points_E, points_I, remean, rimean, count)\n",
    "    y = collect(1:count)\n",
    "    y1 = zeros(count)\n",
    "    y2 = zeros(count)\n",
    "    for i in 1:count\n",
    "        y1[i] = remean*points_E[i]\n",
    "        y2[i] = rimean*points_I[i]\n",
    "    end\n",
    "    plt = plot(xlabel=\"time (s)\", ylabel=\"Spike Count\", legend=:bottomright, fmt=:png)\n",
    "    plot!(plt, points_E[1:count], y, label = \"N_E(t)\", color=\"blue\")\n",
    "    plot!(plt, points_I[1:count], y, label = \"N_I(t)\", color=\"red\")\n",
    "    plot!(plt, points_E[1:count],y1, label=\"E[N_E(t)]\", color=\"dark blue\")\n",
    "    plot!(plt, points_I[1:count],y2, label=\"E[N_I(t)]\", color=\"dark red\")\n",
    "end"
   ]
  },
  {
   "cell_type": "code",
   "execution_count": null,
   "id": "1ac49e49",
   "metadata": {},
   "outputs": [],
   "source": [
    "function spiking(probability)\n",
    "    return rand(Float64) < probability\n",
    "end"
   ]
  },
  {
   "cell_type": "code",
   "execution_count": null,
   "id": "7d17146d",
   "metadata": {},
   "outputs": [],
   "source": [
    "# returns the effect of a spike at t_prevspike on spiking at current time t\n",
    "@inline function interaction_kernel(t::Real, t_prevspike::Real, tau_kernel::Real)\n",
    "    return t < zero(Real) ? zero(Real) : exp((t_prevspike+delta-t)/tau_kernel) / tau_kernel\n",
    "end"
   ]
  },
  {
   "cell_type": "code",
   "execution_count": null,
   "id": "6eaec116",
   "metadata": {},
   "outputs": [],
   "source": [
    "interaction_kernel(5,1,20)"
   ]
  },
  {
   "cell_type": "code",
   "execution_count": null,
   "id": "1a7e1ec4",
   "metadata": {},
   "outputs": [],
   "source": [
    "# returns the collective effect of all spikes in a spike train (spike_times) on spiking at current time t\n",
    "function da_ssn(a_i::Real, t::Real, spike_times::Vector{Float64}, kind::Int64)\n",
    "    num_spikes = size(spike_times, 1)\n",
    "    tau = tau_E\n",
    "    if kind == 2\n",
    "        tau = tau_I\n",
    "    end\n",
    "    da = -1*a_i/tau_syn\n",
    "    temp = 0.0\n",
    "    for i in num_spikes:-1:1\n",
    "        temp = interaction_kernel(t,spike_times[i], tau)\n",
    "        da += temp\n",
    "        if(temp<0.0001)\n",
    "            break\n",
    "        end\n",
    "    end\n",
    "    return da*time_step\n",
    "end"
   ]
  },
  {
   "cell_type": "code",
   "execution_count": null,
   "id": "71398ad9",
   "metadata": {},
   "outputs": [],
   "source": [
    "da_ssn(0, 3, [1,1.5,2,2.5, 2.9,2.99], 1)"
   ]
  },
  {
   "cell_type": "code",
   "execution_count": null,
   "id": "f7808af4",
   "metadata": {},
   "outputs": [],
   "source": [
    "# Euler Method for a 1E-1I network\n",
    "function dv_ssn_2d(v_i::Real, h_i::Real, noise_i::Real, tau_i::Real, j_arr::Vector{Float64}, a_arr::Vector{Float64})\n",
    "    num_neurons = size(j_arr, 1)\n",
    "    dv = v_rest - v_i + h_i + noise_i\n",
    "    for i in 1:num_neurons\n",
    "        dv += j_arr[i]*a_arr[i]\n",
    "    end\n",
    "    return dv*time_step/tau_i\n",
    "end"
   ]
  },
  {
   "cell_type": "code",
   "execution_count": null,
   "id": "e75ca1fb",
   "metadata": {},
   "outputs": [],
   "source": [
    "dv_ssn_2d(-70, 0, 0, 5, [2.0,3.0], [1.0,2.0])"
   ]
  },
  {
   "cell_type": "code",
   "execution_count": null,
   "id": "2a07cd07",
   "metadata": {},
   "outputs": [],
   "source": [
    "# simulating a 1 E-I network where the spikings are fed directly into the dv, using Eqs. 10 & 11 from Hennequin '18\n",
    "\n",
    "function simulate_2d!(h, num_steps, t_arr, v_excite, v_inhibit, a, rate, spike_trainE, spike_trainI)\n",
    "    \n",
    "    v_excite[1] = v_rest\n",
    "    v_inhibit[1] = v_rest\n",
    "    \n",
    "    @showprogress 1.0 \"Running Spiking SSN simulation...\" for i in 2:num_steps\n",
    "        \n",
    "        t_arr[i] = t_arr[i-1] + time_step\n",
    "        a[i,:] = [a[i-1,1]+da_ssn(a[i-1,1], t_arr[i], spike_trainE, 1), a[i-1,2]+da_ssn(a[i-1,2], t_arr[i], spike_trainI, 2)]\n",
    "        v_excite[i] = v_excite[i-1] + dv_ssn_2d(v_excite[i-1], h, noise, tau_E, [j[1,1], j[1,2]], a[i,:])\n",
    "        v_inhibit[i] = v_inhibit[i-1] + dv_ssn_2d(v_inhibit[i-1], h, noise, tau_I, [j[2,1], j[2,2]], a[i,:])\n",
    "        rate[i,:] = [rate_powerlaw(v_excite[i-1]), rate_powerlaw(v_inhibit[i-1])]\n",
    "        spike_probability = rate[i,:] .* (time_step)\n",
    "        if spiking(spike_probability[1])\n",
    "            push!(spike_trainE, t_arr[i])\n",
    "        end\n",
    "        if spiking(spike_probability[2])\n",
    "            push!(spike_trainI, t_arr[i])\n",
    "        end\n",
    "        \n",
    "    end\n",
    "    \n",
    "end"
   ]
  },
  {
   "cell_type": "code",
   "execution_count": null,
   "id": "0f0153e7",
   "metadata": {},
   "outputs": [],
   "source": [
    "j = w\n",
    "h = 5\n",
    "t_max = 20\n",
    "num_steps = Int(ceil(t_max/time_step))\n",
    "t_arr = zeros(num_steps)\n",
    "v_excite = zeros(num_steps)\n",
    "v_inhibit = zeros(num_steps)\n",
    "a = zeros(num_steps, 2)  # stored just for sanity check, implementation can be modified to improve space complexity\n",
    "rate = zeros(num_steps, 2)\n",
    "spike_trainE = Vector{Float64}()\n",
    "spike_trainI = Vector{Float64}()\n",
    "\n",
    "simulate_2d!(h, num_steps, t_arr, v_excite, v_inhibit, a, rate, spike_trainE, spike_trainI)"
   ]
  },
  {
   "cell_type": "code",
   "execution_count": null,
   "id": "6227f1ba",
   "metadata": {},
   "outputs": [],
   "source": [
    "rate_E = mean(rate[:,1])\n",
    "rate_I = mean(rate[:,2])\n",
    "println([rate_E, rate_I])"
   ]
  },
  {
   "cell_type": "code",
   "execution_count": null,
   "id": "e139c9f8",
   "metadata": {},
   "outputs": [],
   "source": [
    "numrate_E = numerical_rate(spike_trainE)\n",
    "numrate_I = numerical_rate(spike_trainI)\n",
    "println([numrate_E, numrate_I])"
   ]
  },
  {
   "cell_type": "code",
   "execution_count": null,
   "id": "b7b91d21",
   "metadata": {},
   "outputs": [],
   "source": [
    "v_emean = mean(v_excite)\n",
    "v_imean = mean(v_inhibit)\n",
    "println(v_emean)\n",
    "println(v_imean)\n",
    "println([rate_powerlaw(v_emean), rate_powerlaw(v_imean)])"
   ]
  },
  {
   "cell_type": "code",
   "execution_count": null,
   "id": "7d8d8fec",
   "metadata": {
    "scrolled": false
   },
   "outputs": [],
   "source": [
    "plot(t_arr[1:500], rate[1:500,:], xlabel=\"time (s)\", ylabel=\"Rate (Hz)\", label=[\"rate_e\" \"rate_i\"], legend=:bottomright, fmt=:png)"
   ]
  },
  {
   "cell_type": "code",
   "execution_count": null,
   "id": "a6cdf99a",
   "metadata": {
    "scrolled": false
   },
   "outputs": [],
   "source": [
    "plt = plot(xlabel=\"time (s)\", ylabel=\"Voltage (mV)\", legend=:bottomright, fmt=:png)\n",
    "plot!(plt, t_arr , v_excite, label = \"V_excite\")\n",
    "plot!(plt, t_arr , v_inhibit, label = \"V_inhibit\")"
   ]
  },
  {
   "cell_type": "code",
   "execution_count": null,
   "id": "81636c8c",
   "metadata": {},
   "outputs": [],
   "source": [
    "plot_count(spike_trainE, spike_trainI)"
   ]
  },
  {
   "cell_type": "markdown",
   "id": "2f7e671b",
   "metadata": {},
   "source": [
    "Extending the code to run for a large network with N_E excitatory and N_I inhibitory neurons"
   ]
  },
  {
   "cell_type": "code",
   "execution_count": null,
   "id": "97f3e8c9",
   "metadata": {},
   "outputs": [],
   "source": [
    "# Each neuron will have:\n",
    "# tau, J vector, a(t), rate(t), V(t), spike_train     (for now, all E have same tau, all I have same tau initialized globally)\n",
    "\n",
    "struct neuron\n",
    "    spike_train::Vector{Float64}\n",
    "    v::Vector{Float64}\n",
    "    rate::Vector{Float64}\n",
    "    a::Vector{Float64} # stored just for sanity check, implementation can be modified to improve space complexity\n",
    "    j_e::Vector{Bool}\n",
    "    j_i::Vector{Bool}\n",
    "end"
   ]
  },
  {
   "cell_type": "code",
   "execution_count": null,
   "id": "92ca8dfa",
   "metadata": {},
   "outputs": [],
   "source": [
    "function create_j(x::Int64, y::Int64)\n",
    "    # x is main neuron, considering all connections y->x\n",
    "    # creating p*n random connections\n",
    "    # j is a boolean here, the corresponding weight matrix (w/(tau_syn*p_E*p_I)) is calculated in dv_ssn\n",
    "    n = N_E\n",
    "    p = p_E\n",
    "    if y == 2\n",
    "        n = N_I\n",
    "        p = p_I\n",
    "    end\n",
    "    j = falses(n)\n",
    "    count = p*n\n",
    "    for i in 1:count\n",
    "        index = rand(1:n)\n",
    "        while j[index] == true\n",
    "            index = rand(1:n)\n",
    "        end\n",
    "        j[index] = true\n",
    "    end\n",
    "    return j\n",
    "end"
   ]
  },
  {
   "cell_type": "code",
   "execution_count": null,
   "id": "08255a35",
   "metadata": {},
   "outputs": [],
   "source": [
    "function initialize_network!(excitatory_neuron::Vector{neuron}, inhibitory_neuron::Vector{neuron})\n",
    "    \n",
    "    @showprogress 1.0 \"initializing E neurons...\" for i in 1:N_E\n",
    "        spike_train = Vector{Float64}()\n",
    "        v = zeros(num_steps)\n",
    "        v[1] = v_rest\n",
    "        rate = zeros(num_steps)\n",
    "        a = zeros(num_steps)\n",
    "        j_e = create_j(1,1)\n",
    "        j_i = create_j(1,2)\n",
    "        neuron_i = neuron(spike_train, v, rate, a, j_e, j_i)\n",
    "\n",
    "        push!(excitatory_neuron, neuron_i)\n",
    "    end\n",
    "    \n",
    "    @showprogress 1.0 \"initializing I neurons...\" for i in 1:N_I\n",
    "        spike_train = Vector{Float64}()\n",
    "        v = zeros(num_steps)\n",
    "        v[1] = v_rest\n",
    "        rate = zeros(num_steps)\n",
    "        a = zeros(num_steps)\n",
    "        j_e = create_j(2,1)\n",
    "        j_i = create_j(2,2)\n",
    "        neuron_i = neuron(spike_train, v, rate, a, j_e, j_i)\n",
    "\n",
    "        push!(inhibitory_neuron, neuron_i)\n",
    "    end\n",
    "end"
   ]
  },
  {
   "cell_type": "code",
   "execution_count": null,
   "id": "64063e86",
   "metadata": {},
   "outputs": [],
   "source": [
    "function update_a!(t::Real, neuron_i::neuron, i::Int64, kind::Int64)\n",
    "    neuron_i.a[i] = neuron_i.a[i-1]+da_ssn(neuron_i.a[i-1], t, neuron_i.spike_train, kind)\n",
    "end"
   ]
  },
  {
   "cell_type": "code",
   "execution_count": null,
   "id": "8d3b80a9",
   "metadata": {},
   "outputs": [],
   "source": [
    "# Euler Method\n",
    "function dv_ssn(v_i::Real, h_i::Real, noise_i::Real, kind::Int64, j_e::Vector{Bool}, j_i::Vector{Bool}, i::Int64)\n",
    "    dv = v_rest - v_i + h_i + noise_i\n",
    "    j = w[kind, 1]/(tau_syn*p_E*N_E)\n",
    "    for index in 1:N_E\n",
    "        dv += j*j_e[index]*excitatory_neuron[index].a[i]\n",
    "    end\n",
    "    j = w[kind, 2]/(tau_syn*p_I*N_I)\n",
    "    for index in 1:N_I\n",
    "        dv += j*j_i[index]*inhibitory_neuron[index].a[i]\n",
    "    end\n",
    "    tau = tau_E\n",
    "    if kind == 2\n",
    "        tau = tau_I\n",
    "    end\n",
    "    return dv*time_step/tau\n",
    "end"
   ]
  },
  {
   "cell_type": "code",
   "execution_count": null,
   "id": "6b20150c",
   "metadata": {},
   "outputs": [],
   "source": [
    "function ssn_step!(t::Real, h::Real, neuron_i::neuron, i::Int64, kind::Int64)\n",
    "    \n",
    "    neuron_i.v[i] = neuron_i.v[i-1] + dv_ssn(neuron_i.v[i-1], h, noise, kind, neuron_i.j_e, neuron_i.j_i, i)\n",
    "    neuron_i.rate[i] = rate_powerlaw(neuron_i.v[i])\n",
    "    spike_probability = neuron_i.rate[i] * time_step\n",
    "    if spiking(spike_probability)\n",
    "        push!(neuron_i.spike_train, t)\n",
    "    end\n",
    "    \n",
    "end"
   ]
  },
  {
   "cell_type": "code",
   "execution_count": null,
   "id": "df2908a5",
   "metadata": {
    "scrolled": true
   },
   "outputs": [],
   "source": [
    "function simulate!(excitatory_neuron::Vector{neuron}, inhibitory_neuron::Vector{neuron})\n",
    "    \n",
    "    h = 5\n",
    "    t_arr = zeros(num_steps)\n",
    "    \n",
    "    @showprogress 1.0 \"Running Spiking SSN simulation...\" for i in 2:num_steps\n",
    "        \n",
    "        t_arr[i] = t_arr[i-1] + time_step\n",
    "        \n",
    "        update_a!.(t_arr[i], excitatory_neuron, i, 1)\n",
    "        \n",
    "        update_a!.(t_arr[i], inhibitory_neuron, i, 2)\n",
    "        \n",
    "        ssn_step!.(t_arr[i], h, excitatory_neuron, i, 1)\n",
    "        \n",
    "        ssn_step!.(t_arr[i], h, inhibitory_neuron, i, 2)\n",
    "        \n",
    "#         for neuron_i in excitatory_neuron\n",
    "#             update_a!(t_arr[i], neuron_i, i, 1)\n",
    "#         end\n",
    "#         for neuron_i in inhibitory_neuron\n",
    "#             update_a!(t_arr[i], neuron_i, i, 2)\n",
    "#         end\n",
    "#         for neuron_i in excitatory_neuron\n",
    "#             ssn_step!(t_arr[i], h, neuron_i, i, 1)\n",
    "#         end\n",
    "#         for neuron_i in inhibitory_neuron\n",
    "#             ssn_step!(t_arr[i], h, neuron_i, i, 2)\n",
    "#         end\n",
    "    end\n",
    "    \n",
    "    return t_arr\n",
    "end"
   ]
  },
  {
   "cell_type": "code",
   "execution_count": null,
   "id": "3053cf7d",
   "metadata": {},
   "outputs": [],
   "source": [
    "excitatory_neuron = Vector{neuron}()\n",
    "inhibitory_neuron = Vector{neuron}()\n",
    "t_max = 1   # running for 1 or 1.5 seconds is enough to get a good result\n",
    "# can modify time_step to improve speed further, while keeping in mind all the time constant values\n",
    "num_steps = Int(ceil(t_max/time_step))\n",
    "initialize_network!(excitatory_neuron, inhibitory_neuron)"
   ]
  },
  {
   "cell_type": "code",
   "execution_count": null,
   "id": "0ddb632e",
   "metadata": {},
   "outputs": [],
   "source": [
    "t_arr = simulate!(excitatory_neuron, inhibitory_neuron)\n",
    "println(num_steps)"
   ]
  },
  {
   "cell_type": "code",
   "execution_count": null,
   "id": "f610c41d",
   "metadata": {},
   "outputs": [],
   "source": [
    "# saving the results of the large simulation for future reference\n",
    "using JLD\n",
    "save(\"/tmp/ssn_large.jld\", \"excitatory_neuron\", excitatory_neuron, \"inhibitory_neuron\", inhibitory_neuron, \"t_arr\", t_arr)\n",
    "save(\"/home/kapoorv/ssn_largedata.jld\", \"excitatory_neuron\", excitatory_neuron, \"inhibitory_neuron\", inhibitory_neuron, \"t_arr\", t_arr)"
   ]
  },
  {
   "cell_type": "code",
   "execution_count": null,
   "id": "6c7f6265",
   "metadata": {},
   "outputs": [],
   "source": [
    "# checking the spiking rate of random E and I neurons\n",
    "numrate_lE = numerical_rate(excitatory_neuron[2].spike_train)\n",
    "numrate_lI = numerical_rate(inhibitory_neuron[1].spike_train)\n",
    "println(numrate_lE)\n",
    "println(numrate_lI)"
   ]
  },
  {
   "cell_type": "code",
   "execution_count": null,
   "id": "d06fab83",
   "metadata": {},
   "outputs": [],
   "source": [
    "# checking the mean spiking rate of the entire E and entire I population\n",
    "# should be equal to the steady state rates of a 2D network with w weight\n",
    "numrates_E = zeros(N_E)\n",
    "numrates_I = zeros(N_I)\n",
    "for i in 1:N_E\n",
    "    numrates_E[i] = numerical_rate(excitatory_neuron[i].spike_train)\n",
    "end\n",
    "for i in 1:N_I\n",
    "    numrates_I[i] = numerical_rate(inhibitory_neuron[i].spike_train)\n",
    "end\n",
    "\n",
    "println(mean(numrates_E))\n",
    "println(mean(numrates_I))"
   ]
  },
  {
   "cell_type": "code",
   "execution_count": null,
   "id": "a45f322a",
   "metadata": {},
   "outputs": [],
   "source": [
    "# checking the mean voltages of the entire E and entire I population\n",
    "# should be equal to the steady state voltages of a 2D network with w weight\n",
    "\n",
    "mean_Ve = zeros(N_E)\n",
    "mean_Vi = zeros(N_I)\n",
    "for i in 1:N_E\n",
    "    mean_Ve[i] = mean(excitatory_neuron[i].v)\n",
    "end\n",
    "for i in 1:N_I\n",
    "    mean_Vi[i] = mean(inhibitory_neuron[i].v)\n",
    "end\n",
    "total_mean_Ve = mean(mean_Ve)\n",
    "total_mean_Vi = mean(mean_Vi)\n",
    "println([total_mean_Ve, total_mean_Vi])\n",
    "\n",
    "# storing in vector to use for plotting\n",
    "ve_arr = zeros(num_steps)\n",
    "vi_arr = zeros(num_steps)\n",
    "for i in 1:num_steps\n",
    "    ve_arr[i] = total_mean_Ve\n",
    "    vi_arr[i] = total_mean_Vi\n",
    "end"
   ]
  },
  {
   "cell_type": "code",
   "execution_count": null,
   "id": "20b4af75",
   "metadata": {},
   "outputs": [],
   "source": [
    "xe = collect(1:N_E)\n",
    "plt = scatter(xlabel = \"neuron number\", fmt=:png)\n",
    "scatter!(plt, xe, numrates_E, label = \" numrates_E\")"
   ]
  },
  {
   "cell_type": "code",
   "execution_count": null,
   "id": "32a9cbd1",
   "metadata": {},
   "outputs": [],
   "source": [
    "xi = collect(1:N_I)\n",
    "plt = scatter(xlabel = \"neuron number\", fmt=:png)\n",
    "scatter!(plt, xi, numrates_I, label = \" numrates_I\")"
   ]
  },
  {
   "cell_type": "code",
   "execution_count": null,
   "id": "b30f0e7b",
   "metadata": {},
   "outputs": [],
   "source": [
    "# checking the mean rates of the entire E and entire I population\n",
    "# should be equal to the steady state rates of a 2D network with w weight = spiking rate\n",
    "mean_ratesE = zeros(N_E)\n",
    "mean_ratesI = zeros(N_I)\n",
    "for i in 1:N_E\n",
    "    mean_ratesE[i] = mean(excitatory_neuron[i].rate)\n",
    "end\n",
    "\n",
    "for i in 1:N_I\n",
    "    mean_ratesI[i] = mean(inhibitory_neuron[i].rate)\n",
    "end\n",
    "total_mean_rateE = mean(mean_ratesE)\n",
    "total_mean_rateI = mean(mean_ratesI)\n",
    "re_arr = zeros(num_steps)\n",
    "ri_arr = zeros(num_steps)\n",
    "for i in 1:num_steps\n",
    "    re_arr[i] = total_mean_rateE\n",
    "    ri_arr[i] = total_mean_rateI\n",
    "end\n",
    "println(mean(mean_ratesE))\n",
    "println(mean(mean_ratesI))"
   ]
  },
  {
   "cell_type": "code",
   "execution_count": null,
   "id": "a2f519e1",
   "metadata": {},
   "outputs": [],
   "source": [
    "xe = collect(1:N_E)\n",
    "plt = scatter(xlabel = \"neuron number\", fmt=:png)\n",
    "scatter!(plt, xe, mean_ratesE, label = \"mean_ratesE\")"
   ]
  },
  {
   "cell_type": "code",
   "execution_count": null,
   "id": "d8fd035c",
   "metadata": {},
   "outputs": [],
   "source": [
    "xi = collect(1:N_I)\n",
    "plt = scatter(xlabel = \"neuron number\", fmt=:png)\n",
    "scatter!(plt, xi, mean_ratesI, label = \"mean_ratesI\")"
   ]
  },
  {
   "cell_type": "markdown",
   "id": "92785469",
   "metadata": {},
   "source": [
    "checking a random E and random I neuron"
   ]
  },
  {
   "cell_type": "code",
   "execution_count": null,
   "id": "02226b83",
   "metadata": {
    "scrolled": false
   },
   "outputs": [],
   "source": [
    "plt = plot(xlabel=\"time (s)\", ylabel = \"Voltage (mV)\", fmt=:png, legend=:bottomright)\n",
    "plot!(plt, t_arr , excitatory_neuron[3000].v, label = \"V_excite\", color=\"blue\")\n",
    "plot!(plt, t_arr , inhibitory_neuron[100].v, label = \"V_inhibit\", color=\"red\")\n",
    "plot!(plt, t_arr, ve_arr, label = \"E[V_excite]\", color=\"dark blue\", linestyle=:dash)\n",
    "plot!(plt, t_arr, vi_arr, label = \"E[V_inhibit]\", color=\"dark red\", linestyle=:dash)"
   ]
  },
  {
   "cell_type": "code",
   "execution_count": null,
   "id": "2ab8920d",
   "metadata": {},
   "outputs": [],
   "source": [
    "plt = plot(xlabel=\"time (s)\", ylabel = \"Rate (Hz)\", fmt=:png, legend=:bottomright)\n",
    "plot!(plt, t_arr , excitatory_neuron[3000].rate, label = \"R_excite\", color=\"blue\")\n",
    "plot!(plt, t_arr , inhibitory_neuron[100].rate, label = \"R_inhibit\", color=\"red\")\n",
    "plot!(plt, t_arr, re_arr, label = \"E[R_excite]\", color=\"dark blue\", linestyle=:dash)\n",
    "plot!(plt, t_arr, ri_arr, label = \"E[R_inhibit]\", color=\"dark red\", linestyle=:dash)"
   ]
  },
  {
   "cell_type": "code",
   "execution_count": null,
   "id": "8b371927",
   "metadata": {},
   "outputs": [],
   "source": [
    "function rasterplot(tlims = (0.,1.) )\n",
    "  _trainE = excitatory_neuron[3500].spike_train\n",
    "  plt=plot()\n",
    "  trainE = filter(t-> tlims[1]< t < tlims[2],_trainE)\n",
    "  nspk = size(trainE,1)\n",
    "  scatter!(plt,trainE,fill(4,nspk),markersize=25, markercolor=:blue,markershape=:vline,legend=:topright, label=\"Excitatory #3500\")\n",
    "  _trainE = excitatory_neuron[40].spike_train\n",
    "  trainE = filter(t-> tlims[1]< t < tlims[2],_trainE)\n",
    "  nspk = size(trainE,1)\n",
    "  scatter!(plt,trainE,fill(3,nspk),markersize=25, markercolor=:blue,markershape=:vline,legend=:topright, label=\"Excitatory #40\")\n",
    "  _trainI = inhibitory_neuron[200].spike_train\n",
    "    trainI = filter(t-> tlims[1]< t < tlims[2],_trainI)\n",
    "  nspk = size(trainI,1)\n",
    "  scatter!(plt,trainI,fill(2,nspk),markersize=25, markercolor=:red,markershape=:vline,legend=:topright, label=\"Inhibitory #200\")\n",
    "  _trainI = inhibitory_neuron[50].spike_train\n",
    "    trainI = filter(t-> tlims[1]< t < tlims[2],_trainI)\n",
    "  nspk = size(trainI,1)\n",
    "  scatter!(plt,trainI,fill(1,nspk),markersize=25, markercolor=:red,markershape=:vline,legend=:topright, label=\"Inhibitory #50\")\n",
    "  plot!(plt,ylims=(0,6),xlabel=\"time (s)\",fmt=:png)\n",
    "end\n",
    "\n",
    "rasterplot()"
   ]
  },
  {
   "cell_type": "code",
   "execution_count": null,
   "id": "e38c0c4b",
   "metadata": {
    "scrolled": false
   },
   "outputs": [],
   "source": [
    "plot_count(excitatory_neuron[3500].spike_train, inhibitory_neuron[50].spike_train, total_mean_rateE, total_mean_rateI, 11)"
   ]
  },
  {
   "cell_type": "code",
   "execution_count": null,
   "id": "6f1a775a",
   "metadata": {},
   "outputs": [],
   "source": [
    "# checking the mean rate of random neurons across different time ranges to find out a good t_max\n",
    "# conclusion -> t_max = 1 second is good enough for the 4000 E - 1000 I network"
   ]
  },
  {
   "cell_type": "code",
   "execution_count": null,
   "id": "23538539",
   "metadata": {},
   "outputs": [],
   "source": [
    "rate_1E = mean(excitatory_neuron[1500].rate[1:1000])\n",
    "rate_2E = mean(excitatory_neuron[1500].rate[1:2000])\n",
    "rate_3E = mean(excitatory_neuron[1500].rate[1:3000])\n",
    "rate_4E = mean(excitatory_neuron[1500].rate[1:4000])\n",
    "rate_5E = mean(excitatory_neuron[1500].rate[1:5000])\n",
    "rate_6E = mean(excitatory_neuron[1500].rate[1:6000])\n",
    "println([rate_1E, rate_2E, rate_3E, rate_4E, rate_5E, rate_6E])"
   ]
  },
  {
   "cell_type": "code",
   "execution_count": null,
   "id": "3c0ee60d",
   "metadata": {},
   "outputs": [],
   "source": [
    "rate_1E = mean(excitatory_neuron[100].rate[1:1000])\n",
    "rate_2E = mean(excitatory_neuron[100].rate[1:2000])\n",
    "rate_3E = mean(excitatory_neuron[100].rate[1:3000])\n",
    "rate_4E = mean(excitatory_neuron[100].rate[1:4000])\n",
    "rate_5E = mean(excitatory_neuron[100].rate[1:5000])\n",
    "rate_6E = mean(excitatory_neuron[100].rate[1:6000])\n",
    "println([rate_1E, rate_2E, rate_3E, rate_4E, rate_5E, rate_6E])"
   ]
  },
  {
   "cell_type": "code",
   "execution_count": null,
   "id": "7b8622b1",
   "metadata": {},
   "outputs": [],
   "source": [
    "rate_1E = mean(excitatory_neuron[3670].rate[1:1000])\n",
    "rate_2E = mean(excitatory_neuron[3670].rate[1:2000])\n",
    "rate_3E = mean(excitatory_neuron[3670].rate[1:3000])\n",
    "rate_4E = mean(excitatory_neuron[3670].rate[1:4000])\n",
    "rate_5E = mean(excitatory_neuron[3670].rate[1:5000])\n",
    "rate_6E = mean(excitatory_neuron[3670].rate[1:6000])\n",
    "println([rate_1E, rate_2E, rate_3E, rate_4E, rate_5E, rate_6E])"
   ]
  },
  {
   "cell_type": "code",
   "execution_count": null,
   "id": "20d19f49",
   "metadata": {},
   "outputs": [],
   "source": [
    "rate_1I = mean(inhibitory_neuron[900].rate[1:1000])\n",
    "rate_2I = mean(inhibitory_neuron[900].rate[1:2000])\n",
    "rate_3I = mean(inhibitory_neuron[900].rate[1:3000])\n",
    "rate_4I = mean(inhibitory_neuron[900].rate[1:4000])\n",
    "rate_5I = mean(inhibitory_neuron[900].rate[1:5000])\n",
    "rate_6I = mean(inhibitory_neuron[900].rate[1:6000])\n",
    "println([rate_1I, rate_2I, rate_3I, rate_4I, rate_5I, rate_6I])"
   ]
  },
  {
   "cell_type": "code",
   "execution_count": null,
   "id": "fa66f4cf",
   "metadata": {},
   "outputs": [],
   "source": [
    "rate_1I = mean(inhibitory_neuron[90].rate[1:1000])\n",
    "rate_2I = mean(inhibitory_neuron[90].rate[1:2000])\n",
    "rate_3I = mean(inhibitory_neuron[90].rate[1:3000])\n",
    "rate_4I = mean(inhibitory_neuron[90].rate[1:4000])\n",
    "rate_5I = mean(inhibitory_neuron[90].rate[1:5000])\n",
    "rate_6I = mean(inhibitory_neuron[900].rate[1:6000])\n",
    "println([rate_1I, rate_2I, rate_3I, rate_4I, rate_5I, rate_6I])"
   ]
  },
  {
   "cell_type": "code",
   "execution_count": null,
   "id": "b3881c0c",
   "metadata": {},
   "outputs": [],
   "source": [
    "# Using Equations 2 & 3 from Hennequin '18\n",
    "# i.e. the non spiking model\n",
    "# INCOMPLETE"
   ]
  },
  {
   "cell_type": "code",
   "execution_count": null,
   "id": "ed05e4d6",
   "metadata": {},
   "outputs": [],
   "source": [
    "function update_r!(t::Real, neuron_i::neuron, i::Int64, kind::Int64)\n",
    "    neuron_i.rate[i] = rate_powerlaw(neuron_i.v[i-1])\n",
    "end"
   ]
  },
  {
   "cell_type": "code",
   "execution_count": null,
   "id": "d9cc28aa",
   "metadata": {},
   "outputs": [],
   "source": [
    "# modelling noise as a Multivariate Ornstein-Uhlenbeck process\n",
    "function dnoise!(noise::Vector{Float64}, wiener::Vector{Float64}, cov_noise::Matrix{Float64})\n",
    "    wiener = wiener + sqrt(time_step)*[rand(Normal(0,0.5)),rand(Normal(0,0.5))]\n",
    "    dn = - noise .* time_step + sqrt(2*tau_noise*cov_noise)*wiener\n",
    "    return dn ./ tau_noise\n",
    "end"
   ]
  },
  {
   "cell_type": "code",
   "execution_count": null,
   "id": "82e24a68",
   "metadata": {},
   "outputs": [],
   "source": [
    "# Euler Method\n",
    "function dv_ssn(v_i::Real, h_i::Real, noise_i::Real, kind::Int64, j_e::Vector{Bool}, j_i::Vector{Bool}, i::Int64)\n",
    "    dv = v_rest - v_i + h_i + noise_i\n",
    "    j = w[kind, 1]/(tau_syn*p_E*N_E)    \n",
    "    \n",
    "    for index in 1:N_E\n",
    "        dv += j*j_e[index]*excitatory_neuron[index].rate[i]\n",
    "    end\n",
    "    j = w[kind, 2]/(tau_syn*p_I*N_I)\n",
    "    for index in 1:N_I\n",
    "        dv += j*j_i[index]*inhibitory_neuron[index].rate[i]\n",
    "    end\n",
    "    tau = tau_E\n",
    "    if kind == 2\n",
    "        tau = tau_I\n",
    "    end\n",
    "    return dv*time_step/tau\n",
    "end"
   ]
  },
  {
   "cell_type": "code",
   "execution_count": null,
   "id": "36221867",
   "metadata": {},
   "outputs": [],
   "source": [
    "function ssn_step!(t::Real, h::Real, neuron_i::neuron, i::Int64, kind::Int64)\n",
    "    neuron_i.v[i] = neuron_i.v[i-1] + dv_ssn(neuron_i.v[i-1], h, noise, kind, neuron_i.j_e, neuron_i.j_i, i)\n",
    "   spike_probability = neuron_i.rate[i] * time_step\n",
    "    if spiking(spike_probability)\n",
    "        push!(neuron_i.spike_train, t)\n",
    "    end     \n",
    "end"
   ]
  },
  {
   "cell_type": "code",
   "execution_count": null,
   "id": "95c898a6",
   "metadata": {},
   "outputs": [],
   "source": [
    "function simulate()\n",
    "    \n",
    "    h = 10\n",
    "    t_arr = zeros(num_steps)\n",
    "    \n",
    "    @showprogress 1.0 \"Running Spiking SSN simulation...\" for i in 2:num_steps\n",
    "        \n",
    "        t_arr[i] = t_arr[i-1] + time_step\n",
    "        for neuron_i in excitatory_neuron\n",
    "            update_r!(t_arr[i], neuron_i, i, 1)\n",
    "        end\n",
    "        for neuron_i in inhibitory_neuron\n",
    "            update_r!(t_arr[i], neuron_i, i, 2)\n",
    "        end\n",
    "        for neuron_i in excitatory_neuron\n",
    "            ssn_step!(t_arr[i], h, neuron_i, i, 1)\n",
    "        end\n",
    "        for neuron_i in inhibitory_neuron\n",
    "            ssn_step!(t_arr[i], h, neuron_i, i, 2)\n",
    "        end\n",
    "#         println(\"i = $(i) size of rate of excitatory[5] = \",size(excitatory_neuron[5].rate))\n",
    "    end\n",
    "    return t_arr\n",
    "end"
   ]
  },
  {
   "cell_type": "code",
   "execution_count": null,
   "id": "2a4aafcc",
   "metadata": {},
   "outputs": [],
   "source": [
    "excitatory_neuron = Vector{neuron}()\n",
    "inhibitory_neuron = Vector{neuron}()\n",
    "t_max = 5\n",
    "num_steps = Int(ceil(t_max/time_step))\n",
    "initialize_network!(excitatory_neuron, inhibitory_neuron)"
   ]
  },
  {
   "cell_type": "code",
   "execution_count": null,
   "id": "facc6a2d",
   "metadata": {},
   "outputs": [],
   "source": [
    "t_arr = simulate()"
   ]
  },
  {
   "cell_type": "code",
   "execution_count": null,
   "id": "df84de96",
   "metadata": {},
   "outputs": [],
   "source": [
    "excitatory_neuron[1].v[1]"
   ]
  },
  {
   "cell_type": "code",
   "execution_count": null,
   "id": "28e03aa1",
   "metadata": {},
   "outputs": [],
   "source": [
    "plt = plot(xlabel=\"time (s)\")\n",
    "plot!(plt, t_arr , excitatory_neuron[1].rate, label = \"V_excite\")\n",
    "plot!(plt, t_arr , inhibitory_neuron[1].rate, label = \"V_inhibit\")"
   ]
  },
  {
   "cell_type": "code",
   "execution_count": null,
   "id": "bb7b187f",
   "metadata": {},
   "outputs": [],
   "source": []
  }
 ],
 "metadata": {
  "kernelspec": {
   "display_name": "Julia 1.6.2",
   "language": "julia",
   "name": "julia-1.6"
  },
  "language_info": {
   "file_extension": ".jl",
   "mimetype": "application/julia",
   "name": "julia",
   "version": "1.6.2"
  }
 },
 "nbformat": 4,
 "nbformat_minor": 5
}
