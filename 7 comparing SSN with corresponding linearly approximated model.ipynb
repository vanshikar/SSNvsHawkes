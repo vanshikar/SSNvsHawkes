{
 "cells": [
  {
   "cell_type": "markdown",
   "id": "e884001d",
   "metadata": {},
   "source": [
    "# Comparing SSN steady state rate to the corresponding linear model steady state rate for a fixed h, then for multiple h values"
   ]
  },
  {
   "cell_type": "markdown",
   "id": "3f7288e7",
   "metadata": {},
   "source": [
    "Result - The rates for the two models come out to be exactly equal since we're comparing the steady state rates"
   ]
  },
  {
   "cell_type": "code",
   "execution_count": null,
   "id": "efabdfb3",
   "metadata": {
    "scrolled": true
   },
   "outputs": [],
   "source": [
    "# Installation\n",
    "using Revise\n",
    "using LinearAlgebra,Statistics,StatsBase,Distributions\n",
    "using Plots,NamedColors ; theme(:default)\n",
    "using FFTW\n",
    "using ProgressMeter\n",
    "using Random\n",
    "Random.seed!(0)"
   ]
  },
  {
   "cell_type": "code",
   "execution_count": null,
   "id": "9b03f2df",
   "metadata": {
    "scrolled": true
   },
   "outputs": [],
   "source": [
    "# Initializing SSN variables\n",
    "# one E, one I population\n",
    "\n",
    "v_rest = -70\n",
    "tau = [20.0, 10.0]*1E-3   #time constant, [ E, I ]\n",
    "time_step = 1*1E-3\n",
    "noise = [0.0 0.0] #ignoring\n",
    "\n",
    "k_ssn = 0.3\n",
    "n_ssn = 2\n",
    "w_ssn = [1.25 -0.65\n",
    "         1.2 -0.5]"
   ]
  },
  {
   "cell_type": "code",
   "execution_count": null,
   "id": "aabefc4d",
   "metadata": {
    "scrolled": true
   },
   "outputs": [],
   "source": [
    "function rate_powerlaw(v::Float64, v_rest::Real, n::Real, k::Real)\n",
    "    diff = v - v_rest\n",
    "    diff = (diff < 0) ? 0 : diff\n",
    "    return k*(diff^n)\n",
    "end"
   ]
  },
  {
   "cell_type": "code",
   "execution_count": null,
   "id": "5316f3c3",
   "metadata": {
    "scrolled": true
   },
   "outputs": [],
   "source": [
    "# Euler Method\n",
    "function dv_ssn(v::Float64, v_rest::Real, h_i::Float64, noise_i::Float64, tau_i::Float64, w_arr::Vector{Float64}, rate_arr::Vector{Float64})\n",
    "    num_neurons = size(w_arr, 1)\n",
    "    dv = h_i - v + v_rest\n",
    "    for i in 1:num_neurons\n",
    "        dv += w_arr[i]*rate_arr[i]\n",
    "    end\n",
    "    return dv*time_step/tau_i\n",
    "end"
   ]
  },
  {
   "cell_type": "code",
   "execution_count": null,
   "id": "b241fd34",
   "metadata": {
    "scrolled": true
   },
   "outputs": [],
   "source": [
    "# SSN Simulation\n",
    "function simulate_with_v!(h, n, w, k, num_steps, t_arr, v_excite, v_excite_rest, v_inhibit, v_inhibit_rest, rate)\n",
    "    \n",
    "    @showprogress 1.0 \"Running SSN simulation...\" for i in 2:num_steps\n",
    "        \n",
    "        rate[i,:] = [rate_powerlaw(v_excite[i-1], v_excite_rest, n, k) , rate_powerlaw(v_inhibit[i-1], v_inhibit_rest, n, k)]\n",
    "        v_excite[i] = v_excite[i-1] + dv_ssn(v_excite[i-1], v_excite_rest, h[1], noise[1], tau[1], [w[1,1], w[1,2]], rate[i,:])\n",
    "        v_inhibit[i] = v_inhibit[i-1] + dv_ssn(v_inhibit[i-1], v_inhibit_rest, h[2], noise[2], tau[2], [w[2,1], w[2,2]], rate[i,:])\n",
    "        t_arr[i] = t_arr[i-1] + time_step\n",
    "    end\n",
    "    \n",
    "end"
   ]
  },
  {
   "cell_type": "code",
   "execution_count": null,
   "id": "aee6f1f8",
   "metadata": {
    "scrolled": true
   },
   "outputs": [],
   "source": [
    "# Using results from the SSN simulation to initialize a linear model\n",
    "function create_parameters_for_approximation!(w_linear, h_linear, w_ssn, k_ssn, h_ssn, rate_ssn_stable::Vector{Float64})\n",
    "    \n",
    "    w_linear[1,1] = 3*w_ssn[1,1]*sqrt(k_ssn*rate_ssn_stable[1]) + sqrt(k_ssn/rate_ssn_stable[1])*(h_ssn[1]+w_ssn[1,2]*rate_ssn_stable[2])\n",
    "    w_linear[1,2] = 2*w_ssn[1,2]*sqrt(k_ssn*rate_ssn_stable[1])\n",
    "    w_linear[2,1] = 2*w_ssn[2,1]*sqrt(k_ssn*rate_ssn_stable[2])\n",
    "    w_linear[2,2] = 3*w_ssn[2,2]*sqrt(k_ssn*rate_ssn_stable[2]) + sqrt(k_ssn/rate_ssn_stable[2])*(h_ssn[2]+w_ssn[2,1]*rate_ssn_stable[1])\n",
    "    \n",
    "    \n",
    "    h_linear[1] = (2-w_linear[1,1])*rate_ssn_stable[1] - w_linear[1,2]*rate_ssn_stable[2]\n",
    "    h_linear[2] = (2-w_linear[2,2])*rate_ssn_stable[2] - w_linear[2,1]*rate_ssn_stable[1]\n",
    "\n",
    "end"
   ]
  },
  {
   "cell_type": "code",
   "execution_count": null,
   "id": "cae7dafa",
   "metadata": {
    "scrolled": true
   },
   "outputs": [],
   "source": [
    "# Euler Method for the linear rate model\n",
    "# the SSN network has been approximated using Taylor expansion around the steady state of rate. Hence, working with the rate of the linear system\n",
    "function dr_linear(r::Real, h_i::Real, tau_i::Real, w_arr::Vector{Float64}, rate_arr::Vector{Float64})\n",
    "    num_neurons = size(w_arr, 1)\n",
    "    dr = h_i - 2*r\n",
    "    for i in 1:num_neurons\n",
    "        dr += w_arr[i]*rate_arr[i]\n",
    "    end\n",
    "    return dr*time_step/tau_i\n",
    "end"
   ]
  },
  {
   "cell_type": "code",
   "execution_count": null,
   "id": "114a445c",
   "metadata": {
    "scrolled": true
   },
   "outputs": [],
   "source": [
    "# Linear rate model simulation\n",
    "function simulate_linear_with_r!(h, w, tau, num_steps, t_arr, rate)\n",
    "    \n",
    "    @showprogress 1.0 \"Running linear simulation...\" for i in 2:num_steps\n",
    "        \n",
    "        rate[i,1] = rate[i-1,1] + dr_linear(rate[i-1,1], h[1], tau[1], [w[1,1], w[1,2]], rate[i-1,:])\n",
    "        rate[i,2] = rate[i-1,2] + dr_linear(rate[i-1,2], h[2], tau[2], [w[2,1], w[2,2]], rate[i-1,:])\n",
    "        t_arr[i] = t_arr[i-1] + time_step\n",
    "        \n",
    "    end\n",
    "    \n",
    "end"
   ]
  },
  {
   "cell_type": "code",
   "execution_count": null,
   "id": "91f8f775",
   "metadata": {},
   "outputs": [],
   "source": [
    "# comparing SSN with linear approximated model for a fixed h\n",
    "function simulate_for_single_h()\n",
    "    h = 5.0\n",
    "    t_max = 1\n",
    "    v_rest = -70\n",
    "    num_steps = Int(ceil(t_max/time_step))\n",
    "    t_arr = zeros(num_steps)\n",
    "    v_excite = zeros(num_steps)\n",
    "    v_inhibit = zeros(num_steps)\n",
    "    v_excite[1] = v_rest\n",
    "    v_inhibit[1] = v_rest\n",
    "    rate_ssn = zeros(num_steps, 2)\n",
    "    w = [1.25 -0.65\n",
    "         1.2 -0.5]\n",
    "    simulate_with_v!([h, h], 2, w, 0.3, num_steps, t_arr, v_excite, v_rest, v_inhibit, v_rest, rate_ssn)\n",
    "    w_linear = [0.0 0.0\n",
    "                0.0 0.0]\n",
    "    h_linear = zeros(2)\n",
    "    create_parameters_for_approximation!(w_linear, h_linear, w, 0.3, [h, h], rate_ssn[num_steps,:])\n",
    "    rate_linear = zeros(num_steps, 2)\n",
    "    simulate_linear_with_r!(h_linear, w_linear, tau, num_steps, t_arr, rate_linear)\n",
    "    return t_arr, rate_ssn, rate_linear\n",
    "end"
   ]
  },
  {
   "cell_type": "code",
   "execution_count": null,
   "id": "9a1f78cc",
   "metadata": {},
   "outputs": [],
   "source": [
    "t_arr, rate_ssn, rate_linear = simulate_for_single_h()\n",
    "println([rate_ssn[end,:], rate_linear[end,:]])"
   ]
  },
  {
   "cell_type": "code",
   "execution_count": null,
   "id": "439859e3",
   "metadata": {},
   "outputs": [],
   "source": [
    "plt = plot( xlabel=\"time (s)\", ylabel=\"E Rate (Hz)\", fmt=:png, legend=:bottomright)\n",
    "plot!(plt, t_arr , rate_ssn[:,1], label = \"ssn\", color=\"dark blue\", linestyle=:dash)\n",
    "plot!(plt, t_arr , rate_linear[:,1], label = \"linear\", color=\"blue\")"
   ]
  },
  {
   "cell_type": "code",
   "execution_count": null,
   "id": "5e51de5d",
   "metadata": {},
   "outputs": [],
   "source": [
    "plt = plot(xlabel=\"time (s)\", ylabel=\"I Rate (Hz)\", fmt=:png, legend=:bottomright)\n",
    "plot!(plt, t_arr , rate_ssn[:,2], label = \"ssn\", color=\"dark red\", linestyle=:dash)\n",
    "plot!(plt, t_arr , rate_linear[:,2], label = \"linear\", color=\"red\")"
   ]
  },
  {
   "cell_type": "code",
   "execution_count": null,
   "id": "10f2c740",
   "metadata": {
    "scrolled": true
   },
   "outputs": [],
   "source": [
    "# Extending the above simulation for multiple h values\n",
    "function simulate_for_multiple_h()\n",
    "    for i in 2:num_h\n",
    "        h_ssn[i,:] = h_ssn[i-1,:] .+ step\n",
    "    end\n",
    "    \n",
    "    for i in 1:num_h\n",
    "        t_max = 1\n",
    "        num_steps = Int(ceil(t_max/time_step))\n",
    "        t_arr = zeros(num_steps)\n",
    "        v_excite_ssn = zeros(num_steps)\n",
    "        v_inhibit_ssn = zeros(num_steps)\n",
    "        rate_ssn = zeros(num_steps, 2)\n",
    "        simulate_with_v!(h_ssn[i,:], n_ssn, w_ssn, k_ssn, num_steps, t_arr, v_excite_ssn, v_rest, v_inhibit_ssn, v_rest, rate_ssn)\n",
    "        rates_ssn[i,:] = rate_ssn[num_steps,:]\n",
    "        \n",
    "        w_linear = [0.0 0.0\n",
    "                    0.0 0.0]\n",
    "        h_linear = zeros(2)\n",
    "        create_parameters_for_approximation!(w_linear, h_linear, w_ssn, k_ssn, h_ssn, rate_ssn[num_steps,:])\n",
    "        rate_linear = zeros(num_steps, 2)\n",
    "        simulate_linear_with_r!(h_linear, w_linear, tau, num_steps, t_arr, rate_linear)\n",
    "        rates_linear[i,:] = rate_linear[num_steps,:]\n",
    "    end\n",
    "end"
   ]
  },
  {
   "cell_type": "code",
   "execution_count": null,
   "id": "31cf3d18",
   "metadata": {
    "scrolled": true
   },
   "outputs": [],
   "source": [
    "h_max = 20.0\n",
    "h_min = 1.0\n",
    "step = 1\n",
    "num_h = Int(ceil((h_max-h_min+1)/step))\n",
    "h_ssn = zeros(num_h,2)\n",
    "h_ssn[1,:] = [h_min, h_min]\n",
    "rates_ssn = zeros(num_h,2)\n",
    "rates_linear = zeros(num_h,2)\n",
    "simulate_for_multiple_h()"
   ]
  },
  {
   "cell_type": "code",
   "execution_count": null,
   "id": "4d6562ca",
   "metadata": {
    "scrolled": false
   },
   "outputs": [],
   "source": [
    "plt = plot( xlabel=\"h (mV)\", ylabel=\"E Rate (Hz)\", fmt=:png, legend=:bottomright)\n",
    "plot!(plt, h_ssn[:,1] , rates_ssn[:,1], label = \"ssn\", color=\"dark blue\", linestyle=:dash)\n",
    "plot!(plt, h_ssn[:,1] , rates_linear[:,1], label = \"linear\", color=\"blue\")"
   ]
  },
  {
   "cell_type": "code",
   "execution_count": null,
   "id": "6e346296",
   "metadata": {
    "scrolled": false
   },
   "outputs": [],
   "source": [
    "plt = plot(xlabel=\"h (mV)\", ylabel=\"I Rate (Hz)\", fmt=:png, legend=:bottomright)\n",
    "plot!(plt, h_ssn[:,1] , rates_ssn[:,2], label = \"ssn\", color=\"dark red\", linestyle=:dash)\n",
    "plot!(plt, h_ssn[:,1] , rates_linear[:,2], label = \"linear\", color=\"red\")"
   ]
  },
  {
   "cell_type": "code",
   "execution_count": null,
   "id": "7079f785",
   "metadata": {
    "scrolled": false
   },
   "outputs": [],
   "source": [
    "y_e = zeros(num_h)\n",
    "y_i = zeros(num_h)\n",
    "for i in 1:num_h\n",
    "    y_e[i] = abs(rates_linear[i,1] - rates_ssn[i,1])\n",
    "    y_i[i] = abs(rates_linear[i,2] - rates_ssn[i,2])\n",
    "end\n",
    "plt = plot(xlabel = \"h (mV)\", ylabel=\"absolute error\", fmt = :png, legend=:topright)\n",
    "plot!(plt, h_ssn[:,1], y_e, ylims=(-0.0001,0.0001), label=\"rateE\", color=\"blue\")\n",
    "plot!(plt, h_ssn[:,1], y_i, label=\"rateI\", color=\"red\")"
   ]
  },
  {
   "cell_type": "code",
   "execution_count": null,
   "id": "d8a669c7",
   "metadata": {},
   "outputs": [],
   "source": [
    "y_e = zeros(num_h)\n",
    "y_i = zeros(num_h)\n",
    "for i in 1:num_h\n",
    "    y_e[i] = 2*abs(rates_linear[i,1] - rates_ssn[i,1])/(rates_linear[i,1] + rates_ssn[i,1])\n",
    "    y_i[i] = 2*abs(rates_linear[i,2] - rates_ssn[i,2])/(rates_linear[i,2] + rates_ssn[i,1])\n",
    "end\n",
    "plt = plot(xlabel = \"h (mV)\", ylabel=\"relative error\", fmt = :png, legend=:topright)\n",
    "plot!(plt, h_ssn[:,1], y_e, ylims=(-0.0001,0.0001), label=\"rateE\", color=\"blue\")\n",
    "plot!(plt, h_ssn[:,1], y_i, label=\"rateI\", color=\"red\")"
   ]
  },
  {
   "cell_type": "code",
   "execution_count": null,
   "id": "6613451f",
   "metadata": {},
   "outputs": [],
   "source": []
  }
 ],
 "metadata": {
  "kernelspec": {
   "display_name": "Julia 1.6.2",
   "language": "julia",
   "name": "julia-1.6"
  },
  "language_info": {
   "file_extension": ".jl",
   "mimetype": "application/julia",
   "name": "julia",
   "version": "1.6.2"
  }
 },
 "nbformat": 4,
 "nbformat_minor": 5
}
