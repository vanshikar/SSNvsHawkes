{
 "cells": [
  {
   "cell_type": "markdown",
   "id": "8a459110",
   "metadata": {},
   "source": [
    "# Comparing SSN with Non linear Hawkes, steady state rates at a fixed h, then for varying h"
   ]
  },
  {
   "cell_type": "code",
   "execution_count": null,
   "id": "9da3b5be",
   "metadata": {},
   "outputs": [],
   "source": [
    "# Installation\n",
    "using Revise\n",
    "using LinearAlgebra,Statistics,StatsBase,Distributions\n",
    "using Plots,NamedColors ; theme(:default)\n",
    "using FFTW\n",
    "using ProgressMeter\n",
    "using Random\n",
    "Random.seed!(0)\n",
    "using HawkesSimulator; const global H = HawkesSimulator"
   ]
  },
  {
   "cell_type": "code",
   "execution_count": null,
   "id": "bbaa22fa",
   "metadata": {},
   "outputs": [],
   "source": [
    "# Initializing variables\n",
    "# one E, one I population\n",
    "v_rest = -70\n",
    "k = 0.3\n",
    "n = 2\n",
    "tau = [20.0, 10.0]*1E-3   #time constant, [ E, I ]\n",
    "w = [1.25 -0.65\n",
    "     1.2 -0.5]\n",
    "w_hawkes = w .* (k^(1/n))\n",
    "time_step = 0.1*1E-2\n",
    "tau_noise = 50*1E-3"
   ]
  },
  {
   "cell_type": "code",
   "execution_count": null,
   "id": "0db007d4",
   "metadata": {},
   "outputs": [],
   "source": [
    "function rate_powerlaw(v::Float64)\n",
    "    diff = v - v_rest\n",
    "    diff = (diff < 0) ? 0 : diff\n",
    "    return k*(diff^n)\n",
    "end\n",
    "\n",
    "function plot_powerlaw()\n",
    "    count = 90\n",
    "    v_arr = zeros(count)\n",
    "    v_arr[1] = -10\n",
    "    for i in 2:count\n",
    "        v_arr[i] = v_arr[i-1] +1\n",
    "    end\n",
    "    rates = rate_powerlaw.(v_arr)\n",
    "    plot(v_arr, rates, xlabel=\"Voltage (mV)\", ylabel=\"Rate (Hz)\", label=\"rate = 0.3*([V]+)^2\", legend=:bottomright, fmt=:png)\n",
    "end\n",
    "\n",
    "plot_powerlaw()"
   ]
  },
  {
   "cell_type": "code",
   "execution_count": null,
   "id": "1a81008e",
   "metadata": {},
   "outputs": [],
   "source": [
    "function plot_count(points)\n",
    "    y = collect(1:length(points))\n",
    "    plt = plot(xlabel=\"time (s)\", ylabel=\"count\")\n",
    "    plot!(plt, points, y, label = \"N(t)\")\n",
    "end\n",
    "\n",
    "function plot_count(points_E, points_I)\n",
    "    y = collect(1:length(points_E))\n",
    "    plt = plot(xlabel=\"time (s)\", ylabel=\"count\")\n",
    "    plot!(plt, points_E, y, label = \"N_E(t)\")\n",
    "    y = collect(1:length(points_I))\n",
    "    plot!(plt, points_I, y, label = \"N_I(t)\")\n",
    "end\n",
    "\n",
    "function plot_count(points_E, points_I, remean, rimean, count)\n",
    "    y = collect(1:count)\n",
    "    y1 = zeros(count)\n",
    "    y2 = zeros(count)\n",
    "    for i in 1:count\n",
    "        y1[i] = remean*points_E[i]\n",
    "        y2[i] = rimean*points_I[i]\n",
    "    end\n",
    "    plt = plot(xlabel=\"time (s)\", ylabel=\"Spike Count\", legend=:bottomright, fmt=:png)\n",
    "    plot!(plt, points_E[1:count], y, label = \"N_E(t)\", color=\"blue\")\n",
    "    plot!(plt, points_I[1:count], y, label = \"N_I(t)\", color=\"red\")\n",
    "    plot!(plt, points_E[1:count],y1, label=\"E[N_E(t)]\", color=\"dark blue\")\n",
    "    plot!(plt, points_I[1:count],y2, label=\"E[N_I(t)]\", color=\"dark red\")\n",
    "end"
   ]
  },
  {
   "cell_type": "code",
   "execution_count": null,
   "id": "6ef61305",
   "metadata": {},
   "outputs": [],
   "source": [
    "function onedmat(x::Real)\n",
    "  return cat(x;dims=2)\n",
    "end"
   ]
  },
  {
   "cell_type": "code",
   "execution_count": null,
   "id": "bd748026",
   "metadata": {},
   "outputs": [],
   "source": [
    "# Euler Method\n",
    "function dv_ssn(v::Float64, h_i::Float64, noise_i::Float64, tau_i::Float64, w_arr::Vector{Float64}, rate_arr::Vector{Float64})\n",
    "    num_neurons = size(w_arr, 1)\n",
    "    dv = v_rest - v + h_i\n",
    "    for i in 1:num_neurons\n",
    "        dv += w_arr[i]*rate_arr[i]\n",
    "    end\n",
    "    return dv*time_step/tau_i\n",
    "end"
   ]
  },
  {
   "cell_type": "code",
   "execution_count": null,
   "id": "313a1e96",
   "metadata": {},
   "outputs": [],
   "source": [
    "function simulate_ssn!(h, num_steps, t_arr, v_excite, v_inhibit, rate) # ignoring spikes, only comparing rates    \n",
    "    v_excite[1] = v_rest\n",
    "    v_inhibit[1] = v_rest\n",
    "    \n",
    "    for i in 2:num_steps\n",
    "        rate[i,:] = [rate_powerlaw(v_excite[i-1]), rate_powerlaw(v_inhibit[i-1])]\n",
    "        v_excite[i] = v_excite[i-1] + dv_ssn(v_excite[i-1], h, noise[1], tau[1], [w[1,1], w[1,2]], rate[i,:])\n",
    "        v_inhibit[i] = v_inhibit[i-1] + dv_ssn(v_inhibit[i-1], h, noise[2], tau[2], [w[2,1], w[2,2]], rate[i,:])\n",
    "        t_arr[i] = t_arr[i-1] + time_step        \n",
    "    end\n",
    "    \n",
    "end"
   ]
  },
  {
   "cell_type": "code",
   "execution_count": null,
   "id": "801c817b",
   "metadata": {},
   "outputs": [],
   "source": [
    "# Simulation\n",
    "\n",
    "function simulate_hawkes!(networks, num_spikes)\n",
    "    t_now = 0.0\n",
    "    H.reset!.(networks) # clear spike trains etc\n",
    "    for k in 1:num_spikes\n",
    "        t_now = H.dynamics_step!(t_now, networks)\n",
    "        if k%1_000 == 0\n",
    "            H.clear_trains!(networks[1].postpops)\n",
    "            H.clear_trains!(networks[2].postpops)\n",
    "        end # clearing trains after every 1000 spikes\n",
    "    end\n",
    "    return t_now\n",
    "end"
   ]
  },
  {
   "cell_type": "code",
   "execution_count": null,
   "id": "a8ff0268",
   "metadata": {},
   "outputs": [],
   "source": [
    "function single_h_ssn_simulation()\n",
    "    h = 5.0\n",
    "    t_max = 1\n",
    "    num_steps = Int(ceil(t_max/time_step))\n",
    "    t_arr = zeros(num_steps)\n",
    "    v_excite = zeros(num_steps)\n",
    "    v_inhibit = zeros(num_steps)\n",
    "    spike_trainE = Vector{Float64}()\n",
    "    spike_trainI = Vector{Float64}()\n",
    "    rate = zeros(num_steps, 2)\n",
    "#     cov_noise = [alpha*h 0.0\n",
    "#                 0.0 alpha*h]\n",
    "    cov_noise = [0.0 0.0\n",
    "                0.0 0.0]   # ignoring noise by setting cov_noise to 0\n",
    "    simulate_ssn!(h, num_steps, t_arr, v_excite, v_inhibit, rate)\n",
    "    return t_arr, v_excite, v_inhibit, rate\n",
    "end"
   ]
  },
  {
   "cell_type": "code",
   "execution_count": null,
   "id": "34fdbbea",
   "metadata": {},
   "outputs": [],
   "source": [
    "function single_h_nonlinear_hawkes_simulation()\n",
    "    h = 5.0\n",
    "    n_spikes = 500_000\n",
    "    baseline_rate_e = [(k^(1/n))*h]\n",
    "    baseline_rate_i = [(k^(1/n))*h]\n",
    "    tau_E = 6.0\n",
    "    tau_I = 2.0\n",
    "    pop_E = H.PopulationExp(tau_E, H.NLRectifiedQuadratic())\n",
    "    pop_I = H.PopulationExp(tau_I, H.NLRectifiedQuadratic())\n",
    "    popstate_E = H.PopulationState(pop_E,baseline_rate_e)\n",
    "    popstate_I = H.PopulationState(pop_I, baseline_rate_i)\n",
    "    network_E = H.InputNetwork(popstate_E,[popstate_E, popstate_I],[onedmat(w_hawkes[1,1]),onedmat(w_hawkes[1,2])])\n",
    "    network_I = H.InputNetwork(popstate_I,[popstate_E, popstate_I],[onedmat(w_hawkes[2,1]),onedmat(w_hawkes[2,2])])\n",
    "    simulate_hawkes!([network_E, network_I],n_spikes)\n",
    "    rate = [H.numerical_rate(popstate_E.trains_history[1][2000:end]), H.numerical_rate(popstate_I.trains_history[1][2000:end])]\n",
    "    return rate, popstate_E.trains_history[1], popstate_I.trains_history[1], network_E, network_I\n",
    "end"
   ]
  },
  {
   "cell_type": "code",
   "execution_count": null,
   "id": "51ffb742",
   "metadata": {},
   "outputs": [],
   "source": [
    "t_arr, v_excite, v_inhibit, rate = single_h_ssn_simulation()\n",
    "println()"
   ]
  },
  {
   "cell_type": "code",
   "execution_count": null,
   "id": "2b707579",
   "metadata": {},
   "outputs": [],
   "source": [
    "rate_hawkes,train_hawkes_E, train_hawkes_I, network_E, network_I = single_h_nonlinear_hawkes_simulation()\n",
    "println()"
   ]
  },
  {
   "cell_type": "code",
   "execution_count": null,
   "id": "106997cf",
   "metadata": {},
   "outputs": [],
   "source": [
    "println([v_excite[end], v_inhibit[end]])\n",
    "println([rate[end,1], rate[end,2]])\n",
    "println(rate_hawkes)\n",
    "# the steady state rate of SSN is same as the mean spiking rate of the non linear Hawkes"
   ]
  },
  {
   "cell_type": "code",
   "execution_count": null,
   "id": "cb76ec20",
   "metadata": {},
   "outputs": [],
   "source": [
    "# plot for Rate vs time\n",
    "length = size(t_arr,1)\n",
    "plt = plot(xlabel=\"time (s)\", ylabel=\"Rate (Hz)\", fmt = :png, legend=:bottomright)\n",
    "plot!(plt, t_arr[1:length] , rate[1:length,1], label = \"R_Linear_Excite\", color=\"blue\")\n",
    "plot!(plt, t_arr[1:length] , rate[1:length,2], label = \"R_Linear_Inhibit\",color=\"red\")\n",
    "r_excite_hawkes = zeros(length)\n",
    "r_inhibit_hawkes = zeros(length)\n",
    "for i in 1:length\n",
    "    r_excite_hawkes[i] = rate_hawkes[1]\n",
    "    r_inhibit_hawkes[i] = rate_hawkes[2]\n",
    "end\n",
    "plot!(plt, t_arr[1:length], r_excite_hawkes, label = \"R_Hawkes_Excite\",linestyle=:dash,linewidth=2, color=\"dark blue\")\n",
    "plot!(plt, t_arr[1:length], r_inhibit_hawkes, label = \"R_Hawkes_Inhibit\",linestyle=:dash,linewidth=2, color=\"dark red\")"
   ]
  },
  {
   "cell_type": "code",
   "execution_count": null,
   "id": "de50387b",
   "metadata": {},
   "outputs": [],
   "source": [
    "# Extending the simulation for multiple h values"
   ]
  },
  {
   "cell_type": "code",
   "execution_count": null,
   "id": "076e60b0",
   "metadata": {},
   "outputs": [],
   "source": [
    "function run_ssn_multiple_h!(num_h, h_arr, rates_ssn)\n",
    "    t_max = 1\n",
    "    num_steps = Int(ceil(t_max/time_step))\n",
    "    t_arr = zeros(num_steps)\n",
    "    v_excite = zeros(num_steps)\n",
    "    v_inhibit = zeros(num_steps)\n",
    "    rate = zeros(num_steps, 2)\n",
    "    @showprogress 1.0 \"Running SSN multiple h...\" for i in 1:num_h\n",
    "        simulate_ssn!(h_arr[i], num_steps, t_arr, v_excite, v_inhibit, rate)\n",
    "        rates_ssn[i,:] = rate[num_steps,:]\n",
    "    end\n",
    "end"
   ]
  },
  {
   "cell_type": "code",
   "execution_count": null,
   "id": "0dc45dde",
   "metadata": {},
   "outputs": [],
   "source": [
    "function run_hawkes_multiple_h!(num_h, h_arr, rates_hawkes, pop_E, pop_I)\n",
    "    n_spikes = 500_000\n",
    "    @showprogress 1.0 \"Running Hawkes multiple h...\" for i in 1:num_h\n",
    "        baseline_rate_e = [(k^(1/n))*(h_arr[i])]\n",
    "        baseline_rate_i = [(k^(1/n))*(h_arr[i])]\n",
    "        popstate_E = H.PopulationState(pop_E,baseline_rate_e)\n",
    "        popstate_I = H.PopulationState(pop_I, baseline_rate_i)\n",
    "        network_E = H.InputNetwork(popstate_E,[popstate_E, popstate_I],[onedmat(w_hawkes[1,1]),onedmat(w_hawkes[1,2])])\n",
    "        network_I = H.InputNetwork(popstate_I,[popstate_E, popstate_I],[onedmat(w_hawkes[2,1]),onedmat(w_hawkes[2,2])])\n",
    "        simulate_hawkes!([network_E, network_I],n_spikes)\n",
    "        rates_hawkes[i,:] = [H.numerical_rate(popstate_E.trains_history[1][2000:end]), H.numerical_rate(popstate_I.trains_history[1][2000:end])]\n",
    "        # rates_hawkes[i,:] = [H.numerical_rates(popstate_E)[1], H.numerical_rates(popstate_I)[1]]\n",
    "    end\n",
    "end"
   ]
  },
  {
   "cell_type": "code",
   "execution_count": null,
   "id": "c3a86178",
   "metadata": {},
   "outputs": [],
   "source": [
    "h_max = 70.0\n",
    "step = 1\n",
    "h_min = 1.0\n",
    "num_h = Int(ceil((h_max-h_min+1)/step))\n",
    "h_arr = zeros(num_h)\n",
    "h_arr[1] = h_min\n",
    "rates_ssn = zeros(num_h,2)\n",
    "rates_hawkes_nonlinear = zeros(num_h,2)\n",
    "\n",
    "function compare()\n",
    "    for i in 2:num_h\n",
    "        h_arr[i] = h_arr[i-1] + step\n",
    "    end\n",
    "    tau_E = 6.0\n",
    "    tau_I = 2.0\n",
    "    pop_E = H.PopulationExp(tau_E, H.NLRectifiedQuadratic())\n",
    "    pop_I = H.PopulationExp(tau_I, H.NLRectifiedQuadratic())\n",
    "    run_hawkes_multiple_h!(num_h, h_arr, rates_hawkes_nonlinear, pop_E, pop_I)\n",
    "    run_ssn_multiple_h!(num_h, h_arr, rates_ssn)\n",
    "end"
   ]
  },
  {
   "cell_type": "code",
   "execution_count": null,
   "id": "8e7cb599",
   "metadata": {},
   "outputs": [],
   "source": [
    "compare()"
   ]
  },
  {
   "cell_type": "markdown",
   "id": "5e96816b",
   "metadata": {},
   "source": [
    "plots for Rate vs h"
   ]
  },
  {
   "cell_type": "code",
   "execution_count": null,
   "id": "0381bde4",
   "metadata": {},
   "outputs": [],
   "source": [
    "length = num_h\n",
    "plt = plot(xlabel=\"h (mV)\", ylabel=\"Rate (Hz)\", fmt = :png, legend=:bottomright)\n",
    "plot!(plt, h_arr[1:length] , rates_ssn[1:length,1], label = \"R_SSN_Excite\", color=\"blue\")\n",
    "plot!(plt, h_arr[1:length] , rates_hawkes_nonlinear[1:length,1], label = \"R_Hawkes_Excite\", color=\"dark blue\")"
   ]
  },
  {
   "cell_type": "code",
   "execution_count": null,
   "id": "a86a4d52",
   "metadata": {},
   "outputs": [],
   "source": [
    "length = num_h\n",
    "\n",
    "plt = plot(xlabel=\"h (mV)\", ylabel=\"Rate (Hz)\", fmt = :png, legend=:bottomright)\n",
    "plot!(plt, h_arr[1:length] , rates_ssn[1:length,2], label = \"R_SSN_Inhibit\",color=\"red\")\n",
    "plot!(plt, h_arr[1:length] , rates_hawkes_nonlinear[1:length,2], label = \"R_Hawkes_Inhibit\",color=\"dark red\")"
   ]
  },
  {
   "cell_type": "code",
   "execution_count": null,
   "id": "ab2e5813",
   "metadata": {},
   "outputs": [],
   "source": [
    "y_e = zeros(num_h)\n",
    "y_i = zeros(num_h)\n",
    "for i in 2:num_h\n",
    "    y_e[i] = abs(rates_hawkes_nonlinear[i,1] - rates_ssn[i,1])\n",
    "    y_i[i] = abs(rates_hawkes_nonlinear[i,2] - rates_ssn[i,2])\n",
    "end\n",
    "plt = plot(xlabel = \"h (mV)\", ylabel=\"absolute error\", fmt = :png, legend=:bottomright)\n",
    "plot!(plt, h_arr, y_e, label=\"rateE\", color=\"blue\")\n",
    "plot!(plt, h_arr, y_i, label=\"rateI\", color=\"red\")\n",
    "\n",
    "#n_spikes = 500_000"
   ]
  },
  {
   "cell_type": "code",
   "execution_count": null,
   "id": "83c8204f",
   "metadata": {},
   "outputs": [],
   "source": [
    "y_e = zeros(num_h)\n",
    "y_i = zeros(num_h)\n",
    "for i in 2:num_h\n",
    "    y_e[i] = 2*abs(rates_hawkes_nonlinear[i,1] - rates_ssn[i,1])/(rates_hawkes_nonlinear[i,1] + rates_ssn[i,1])\n",
    "    y_i[i] = abs(rates_hawkes_nonlinear[i,2] - rates_ssn[i,2])/(rates_hawkes_nonlinear[i,2] + rates_ssn[i,2])\n",
    "end\n",
    "plt = plot(xlabel = \"h (mV)\", ylabel=\"Relative error\", fmt = :png, legend=:topleft)\n",
    "plot!(plt, h_arr, y_e, label=\"rateE\", color=\"blue\")\n",
    "plot!(plt, h_arr, y_i, label=\"rateI\", color=\"red\")\n",
    "\n",
    "#n_spikes = 500_000"
   ]
  },
  {
   "cell_type": "markdown",
   "id": "a8b341d0",
   "metadata": {},
   "source": [
    "Modifying above code to extract spiking"
   ]
  },
  {
   "cell_type": "code",
   "execution_count": null,
   "id": "13ae07ee",
   "metadata": {},
   "outputs": [],
   "source": [
    "function spiking(probability)\n",
    "    return rand(Float64) < probability\n",
    "end"
   ]
  },
  {
   "cell_type": "code",
   "execution_count": null,
   "id": "f9c1f6bf",
   "metadata": {},
   "outputs": [],
   "source": [
    "# modelling noise as a Multivariate Ornstein-Uhlenbeck process\n",
    "function dnoise!(noise::Vector{Float64}, wiener::Vector{Float64}, cov_noise::Matrix{Float64})\n",
    "    wiener = wiener + sqrt(time_step)*[rand(Normal(0,0.5)),rand(Normal(0,0.5))]\n",
    "    dn = - noise .* time_step + sqrt(2*tau_noise*cov_noise)*wiener\n",
    "    return dn ./ tau_noise\n",
    "end"
   ]
  },
  {
   "cell_type": "code",
   "execution_count": null,
   "id": "1408fc3d",
   "metadata": {},
   "outputs": [],
   "source": [
    "function simulate_ssn_with_spikes!(h, num_steps, t_arr, v_excite, v_inhibit, rate, spike_trainE, spike_trainI, cov_noise)\n",
    "    \n",
    "    v_excite[1] = v_rest\n",
    "    v_inhibit[1] = v_rest\n",
    "    rate[1,:] = [rate_powerlaw(v_excite[1]), rate_powerlaw(v_inhibit[1])]\n",
    "    noise = zeros(2)\n",
    "    wiener = zeros(2)\n",
    "    @showprogress 1.0 \"Running SSN...\" for i in 2:num_steps\n",
    "        t_arr[i] = t_arr[i-1] + time_step\n",
    "        noise[:] = noise[:] .+ dnoise!(noise, wiener, cov_noise)\n",
    "        v_excite[i] = v_excite[i-1] + dv_ssn(v_excite[i-1], h, noise[1], tau[1], [w[1,1], w[1,2]], rate[i-1,:])\n",
    "        v_inhibit[i] = v_inhibit[i-1] + dv_ssn(v_inhibit[i-1], h, noise[2], tau[2], [w[2,1], w[2,2]], rate[i-1,:])\n",
    "        rate[i,:] = [rate_powerlaw(v_excite[i]), rate_powerlaw(v_inhibit[i])]\n",
    "        \n",
    "        spike_probability = rate[i,:] .* (time_step)\n",
    "        if spiking(spike_probability[1])\n",
    "            push!(spike_trainE, t_arr[i])\n",
    "        end\n",
    "        if spiking(spike_probability[2])\n",
    "            push!(spike_trainI, t_arr[i])\n",
    "        end\n",
    "    end\n",
    "end"
   ]
  },
  {
   "cell_type": "code",
   "execution_count": null,
   "id": "7973b912",
   "metadata": {},
   "outputs": [],
   "source": [
    "function get_ssn_spikes_multiple_h!(num_h, h_arr, rates_ssn, spikes_E, spikes_I)\n",
    "    t_max = 1\n",
    "    num_steps = Int(ceil(t_max/time_step))\n",
    "    t_arr = zeros(num_steps)\n",
    "    v_excite = zeros(num_steps)\n",
    "    v_inhibit = zeros(num_steps)\n",
    "    rate = zeros(num_steps, 2)\n",
    "    @showprogress 1.0 \"Running SSN multiple h...\" for i in 1:num_h\n",
    "        spike_trainE = Vector{Float64}()\n",
    "        spike_trainI = Vector{Float64}()\n",
    "        cov_noise = [k*h_arr[i] 0.0\n",
    "                    0.0 k*h_arr[i]]\n",
    "        simulate_ssn_with_spikes!(h_arr[i], num_steps, t_arr, v_excite, v_inhibit, rate, spike_trainE, spike_trainI, cov_noise)\n",
    "        rates_ssn[i,:] = rate[num_steps,:]\n",
    "        push!(spikes_E, spike_trainE)\n",
    "        push!(spikes_I, spike_trainI)\n",
    "    end\n",
    "end"
   ]
  },
  {
   "cell_type": "code",
   "execution_count": null,
   "id": "cc488858",
   "metadata": {},
   "outputs": [],
   "source": [
    "function get_hawkes_spikes_multiple_h!(num_h, h_arr, rates_hawkes, pop_E, pop_I, spikes_E, spikes_I)\n",
    "    n_spikes = 500_000\n",
    "    @showprogress 1.0 \"Running Hawkes multiple h...\" for i in 1:num_h\n",
    "        baseline_rate_e = [(k^(1/n))*(h_arr[i])]\n",
    "        baseline_rate_i = [(k^(1/n))*(h_arr[i])]\n",
    "        popstate_E = H.PopulationState(pop_E,baseline_rate_e)\n",
    "        popstate_I = H.PopulationState(pop_I, baseline_rate_i)\n",
    "        network_E = H.InputNetwork(popstate_E,[popstate_E, popstate_I],[onedmat(w_hawkes[1,1]),onedmat(w_hawkes[1,2])])\n",
    "        network_I = H.InputNetwork(popstate_I,[popstate_E, popstate_I],[onedmat(w_hawkes[2,1]),onedmat(w_hawkes[2,2])])\n",
    "        simulate_hawkes!([network_E, network_I],n_spikes)\n",
    "        push!(spikes_E, popstate_E.trains_history[1][:])\n",
    "        push!(spikes_I, popstate_I.trains_history[1][:])\n",
    "        rates_hawkes[i,:] = [H.numerical_rate(popstate_E.trains_history[1][2000:end]), H.numerical_rate(popstate_I.trains_history[1][2000:end])]\n",
    "#         rates_hawkes[i,:] = [H.numerical_rates(popstate_E)[1], H.numerical_rates(popstate_I)[1]]\n",
    "    end\n",
    "end"
   ]
  },
  {
   "cell_type": "code",
   "execution_count": null,
   "id": "c392fd39",
   "metadata": {},
   "outputs": [],
   "source": [
    "num_h = 2\n",
    "h_arr = zeros(num_h)\n",
    "h_arr[1] = 9\n",
    "h_arr[2] = 28\n",
    "\n",
    "rates_ssn = zeros(num_h,2)\n",
    "rates_hawkes_nonlinear = zeros(num_h,2)\n",
    "spikes_hawkesE = Vector{Vector{Float64}}()\n",
    "spikes_hawkesI = Vector{Vector{Float64}}()\n",
    "spikes_ssnE = Vector{Vector{Float64}}()\n",
    "spikes_ssnI = Vector{Vector{Float64}}()\n",
    "\n",
    "function compare2()\n",
    "    tau_E = 4.0\n",
    "    tau_I = 2.0\n",
    "    pop_E = H.PopulationExp(tau_E, H.NLRectifiedQuadratic())\n",
    "    pop_I = H.PopulationExp(tau_I, H.NLRectifiedQuadratic())\n",
    "    get_hawkes_spikes_multiple_h!(num_h, h_arr, rates_hawkes_nonlinear, pop_E, pop_I, spikes_hawkesE, spikes_hawkesI)\n",
    "    get_ssn_spikes_multiple_h!(num_h, h_arr, rates_ssn, spikes_ssnE, spikes_ssnI)\n",
    "end"
   ]
  },
  {
   "cell_type": "code",
   "execution_count": null,
   "id": "08e9df73",
   "metadata": {},
   "outputs": [],
   "source": [
    "compare2()"
   ]
  },
  {
   "cell_type": "code",
   "execution_count": null,
   "id": "7dd5696f",
   "metadata": {},
   "outputs": [],
   "source": [
    "println([sizeof(spikes_hawkesE[1]), sizeof(spikes_hawkesE[1])])\n",
    "println([sizeof(spikes_ssnE[1]), sizeof(spikes_ssnE[1])])"
   ]
  },
  {
   "cell_type": "code",
   "execution_count": null,
   "id": "14da89fd",
   "metadata": {},
   "outputs": [],
   "source": [
    "println([sizeof(spikes_hawkesE[2]), sizeof(spikes_hawkesE[2])])\n",
    "println([sizeof(spikes_ssnE[2]), sizeof(spikes_ssnE[2])])"
   ]
  },
  {
   "cell_type": "code",
   "execution_count": null,
   "id": "fd0f7c1b",
   "metadata": {},
   "outputs": [],
   "source": [
    "println(rates_hawkes_nonlinear[1,1])\n",
    "println(rates_hawkes_nonlinear[1,2])\n",
    "println(rates_hawkes_nonlinear[2,1])\n",
    "println(rates_hawkes_nonlinear[2,2])"
   ]
  },
  {
   "cell_type": "code",
   "execution_count": null,
   "id": "5340bb1e",
   "metadata": {
    "scrolled": false
   },
   "outputs": [],
   "source": [
    "function rasterplot(spikes_E, spikes_I, tlims = (2000.,2005.) )\n",
    "  _trainE = spikes_E\n",
    "  plt=plot()\n",
    "  trainE = filter(t-> tlims[1]< t < tlims[2],_trainE)\n",
    "  nspk = size(trainE,1)\n",
    "  scatter!(plt,trainE,fill(2,nspk),markersize=35, markercolor=:black,markershape=:vline,leg=false)\n",
    "  _trainI = spikes_I\n",
    "    trainI = filter(t-> tlims[1]< t < tlims[2],_trainI)\n",
    "  nspk = size(trainI,1)\n",
    "  scatter!(plt,trainI,fill(1,nspk),markersize=35, markercolor=:blue,markershape=:vline,leg=false)\n",
    "  plot!(plt,ylims=(0,3),xlabel=\"time (s), h = 9 mV\",fmt=:png)\n",
    "end\n",
    "rasterplot(spikes_hawkesE[1], spikes_hawkesI[1])"
   ]
  },
  {
   "cell_type": "code",
   "execution_count": null,
   "id": "8c4972ec",
   "metadata": {
    "scrolled": false
   },
   "outputs": [],
   "source": [
    "function rasterplot(spikes_E, spikes_I, tlims = (2000.,2005.) )\n",
    "  _trainE = spikes_E\n",
    "  plt=plot()\n",
    "  trainE = filter(t-> tlims[1]< t < tlims[2],_trainE)\n",
    "  nspk = size(trainE,1)\n",
    "  scatter!(plt,trainE,fill(2,nspk),markersize=35, markercolor=:black,markershape=:vline,leg=false)\n",
    "  _trainI = spikes_I\n",
    "    trainI = filter(t-> tlims[1]< t < tlims[2],_trainI)\n",
    "  nspk = size(trainI,1)\n",
    "  scatter!(plt,trainI,fill(1,nspk),markersize=35, markercolor=:blue,markershape=:vline,leg=false)\n",
    "  plot!(plt,ylims=(0,3),xlabel=\"time (s), h = 28 mV\",fmt=:png)\n",
    "end\n",
    "\n",
    "rasterplot(spikes_hawkesE[1], spikes_hawkesI[1])"
   ]
  }
 ],
 "metadata": {
  "kernelspec": {
   "display_name": "Julia 1.6.2",
   "language": "julia",
   "name": "julia-1.6"
  },
  "language_info": {
   "file_extension": ".jl",
   "mimetype": "application/julia",
   "name": "julia",
   "version": "1.6.2"
  }
 },
 "nbformat": 4,
 "nbformat_minor": 5
}
